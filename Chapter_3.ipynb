{
 "cells": [
  {
   "cell_type": "markdown",
   "id": "72c9ce89",
   "metadata": {},
   "source": [
    "$$\n",
    "{\\huge Chapter3} \\\\\n",
    "Vectors - part I\n",
    "$$"
   ]
  },
  {
   "cell_type": "code",
   "execution_count": 1,
   "id": "4e647c83",
   "metadata": {},
   "outputs": [],
   "source": [
    "#import Pkg;\n",
    "#Pkg.add(\"LinearAlgebra\")\n",
    "using LinearAlgebra\n",
    "using Plots"
   ]
  },
  {
   "cell_type": "markdown",
   "id": "f1cbbc46",
   "metadata": {},
   "source": [
    "**Exercise 3-1**"
   ]
  },
  {
   "cell_type": "code",
   "execution_count": 16,
   "id": "65c4ce55",
   "metadata": {},
   "outputs": [
    {
     "name": "stdout",
     "output_type": "stream",
     "text": [
      "[[4, 5, 1], [-8, 0, -8], [-3, -9, -6]]"
     ]
    }
   ],
   "source": [
    "scalers = [1, 2, -3]\n",
    "vectors_list = [[4, 5, 1], [-4, 0, -4], [1, 3, 2]]\n",
    "lin_wtd_comb = Vector{Vector{Int}}(undef, length(vectors_list))\n",
    "for i in 1:length(vectors_list)\n",
    "    lin_wtd_comb[i] = scalers[i] .* vectors_list[i]\n",
    "end\n",
    "print(lin_wtd_comb)"
   ]
  },
  {
   "cell_type": "markdown",
   "id": "ba7a766b",
   "metadata": {},
   "source": [
    "**Exercise 3-2**"
   ]
  },
  {
   "cell_type": "code",
   "execution_count": 61,
   "id": "e60020fc",
   "metadata": {},
   "outputs": [
    {
     "name": "stdout",
     "output_type": "stream",
     "text": [
      "matrix[1 10 10; 5 4 7; 5 2 6]\n",
      "vector[4 10 4]\n",
      "simple form: [74 88 134]\n",
      "For-loop form: [74.0 88.0 134.0]\n"
     ]
    }
   ],
   "source": [
    "matrix = rand(1:10, (3, 3))\n",
    "vector = rand(1:10, (1, 3))\n",
    "result = zeros((1, 3))\n",
    "result = vector * matrix\n",
    "\n",
    "println(\"matrix\", matrix)\n",
    "println(\"vector\", vector)\n",
    "println(\"simple form: \", result)\n",
    "\n",
    "\n",
    "result = zeros((1, 3))\n",
    "for (iidx, i) in enumerate(eachrow(matrix))\n",
    "    for (jidx, j) in enumerate(i)\n",
    "        result[jidx] += vector[iidx] * j\n",
    "    end\n",
    "end\n",
    "println(\"For-loop form: \", result)"
   ]
  },
  {
   "cell_type": "markdown",
   "id": "8537658e",
   "metadata": {},
   "source": [
    "**Exercise 3-3**"
   ]
  },
  {
   "cell_type": "code",
   "execution_count": 20,
   "id": "88333898",
   "metadata": {},
   "outputs": [
    {
     "ename": "LoadError",
     "evalue": "DimensionMismatch: matrix A has dimensions (1,2), matrix B has dimensions (100,1)",
     "output_type": "error",
     "traceback": [
      "DimensionMismatch: matrix A has dimensions (1,2), matrix B has dimensions (100,1)",
      "",
      "Stacktrace:",
      " [1] _generic_matmatmul!(C::Matrix{Int64}, tA::Char, tB::Char, A::Matrix{Int64}, B::Matrix{Int64}, _add::LinearAlgebra.MulAddMul{true, true, Bool, Bool})",
      "   @ LinearAlgebra ~/julia-1.9.2/share/julia/stdlib/v1.9/LinearAlgebra/src/matmul.jl:856",
      " [2] generic_matmatmul!(C::Matrix{Int64}, tA::Char, tB::Char, A::Matrix{Int64}, B::Matrix{Int64}, _add::LinearAlgebra.MulAddMul{true, true, Bool, Bool})",
      "   @ LinearAlgebra ~/julia-1.9.2/share/julia/stdlib/v1.9/LinearAlgebra/src/matmul.jl:844",
      " [3] mul!",
      "   @ ~/julia-1.9.2/share/julia/stdlib/v1.9/LinearAlgebra/src/matmul.jl:303 [inlined]",
      " [4] mul!",
      "   @ ~/julia-1.9.2/share/julia/stdlib/v1.9/LinearAlgebra/src/matmul.jl:276 [inlined]",
      " [5] *(A::Matrix{Int64}, B::Matrix{Int64})",
      "   @ LinearAlgebra ~/julia-1.9.2/share/julia/stdlib/v1.9/LinearAlgebra/src/matmul.jl:141",
      " [6] top-level scope",
      "   @ In[20]:4"
     ]
    }
   ],
   "source": [
    "m = rand(0:10, (1, 2))\n",
    "l = rand(-4:4, (100, 1))\n",
    "# t = l .* m\n",
    "lm\n",
    "# scatter(l.*m)"
   ]
  },
  {
   "cell_type": "code",
   "execution_count": null,
   "id": "fb36b54e-259f-4adf-b93b-b927a67a4ca0",
   "metadata": {},
   "outputs": [],
   "source": []
  }
 ],
 "metadata": {
  "kernelspec": {
   "display_name": "Julia 1.9.2",
   "language": "julia",
   "name": "julia-1.9"
  },
  "language_info": {
   "file_extension": ".jl",
   "mimetype": "application/julia",
   "name": "julia",
   "version": "1.9.2"
  }
 },
 "nbformat": 4,
 "nbformat_minor": 5
}
