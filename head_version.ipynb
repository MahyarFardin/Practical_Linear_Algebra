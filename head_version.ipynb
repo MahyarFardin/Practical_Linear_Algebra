   "execution_count": 42,
   "execution_count": null,
   "id": "3fe77801",
   "metadata": {},
   "outputs": [],
   "source": []
   "execution_count": null,
   "id": "daa68e10",
   "metadata": {},
   "outputs": [],
   "source": []
   "execution_count": null,
   "id": "c814c96f",
   "metadata": {},
   "outputs": [],
   "source": []
   "display_name": "Julia 1.9.2",
   "version": "1.9.2"
