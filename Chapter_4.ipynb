{
 "cells": [
  {
   "cell_type": "markdown",
   "id": "db60caa3-76b1-43f3-b6ed-54c4666b5b3e",
   "metadata": {},
   "source": [
    "$$\n",
    "{\\huge Chapter4} \\\\\n",
    "Vector \\ Applications\n",
    "$$"
   ]
  },
  {
   "cell_type": "code",
   "execution_count": 2,
   "id": "e1f8c11b-bb52-4f9f-a6ef-ff6bf86dc3c4",
   "metadata": {},
   "outputs": [],
   "source": [
    "using Plots\n",
    "using Statistics\n",
    "using LinearAlgebra\n",
    "using Random"
   ]
  },
  {
   "cell_type": "markdown",
   "id": "97181b1e-7820-4fad-b230-e1b2f7508d29",
   "metadata": {},
   "source": [
    "**Exercise 4-8**"
   ]
  },
  {
   "cell_type": "code",
   "execution_count": null,
   "id": "38355f2c-9eda-4755-b5ec-b09a3934c446",
   "metadata": {},
   "outputs": [],
   "source": []
  }
 ],
 "metadata": {
  "kernelspec": {
   "display_name": "Julia 1.9.2",
   "language": "julia",
   "name": "julia-1.9"
  },
  "language_info": {
   "file_extension": ".jl",
   "mimetype": "application/julia",
   "name": "julia",
   "version": "1.9.2"
  }
 },
 "nbformat": 4,
 "nbformat_minor": 5
}
