{
 "cells": [
  {
   "cell_type": "markdown",
   "id": "99faf803-85dd-4f8d-8d86-207690f1c99f",
   "metadata": {},
   "source": [
    "$$\n",
    "{\\huge Chapter9} \\\\\n",
    " \\text{Orthogonal Matrices and QR Decomposition}\n",
    "$$"
   ]
  },
  {
   "cell_type": "code",
<<<<<<< HEAD
   "execution_count": 3,
=======
   "execution_count": 1,
>>>>>>> 3777c38b31b475d87b224c69d19cd4a5309a10da
   "id": "e59b3b5c-6002-40dd-b6d0-69ce520e6c68",
   "metadata": {},
   "outputs": [],
   "source": [
    "using LinearAlgebra\n",
    "using Plots"
   ]
  },
  {
   "cell_type": "markdown",
   "id": "7c6f275f",
   "metadata": {},
   "source": [
    "**Exercise 1**"
   ]
  },
  {
   "cell_type": "code",
   "execution_count": 30,
   "id": "6d8ada9a",
   "metadata": {},
   "outputs": [
    {
     "data": {
      "text/plain": [
       "set_thresh (generic function with 1 method)"
      ]
     },
     "execution_count": 30,
     "metadata": {},
     "output_type": "execute_result"
    }
   ],
   "source": [
    "function set_thresh(matrix)\n",
    "    for i in 1:n\n",
    "        for j in 1:n\n",
    "            if matrix[i, j] > 0.99\n",
    "                matrix[i, j] = 1.0\n",
    "            elseif matrix[i, j] < 1e-10\n",
    "                matrix[i, j] = 0.0\n",
    "            end\n",
    "        end\n",
    "    end\n",
    "end"
   ]
  },
  {
   "cell_type": "code",
   "execution_count": 33,
   "id": "6d1d4ac1",
   "metadata": {},
   "outputs": [
    {
     "name": "stdout",
     "output_type": "stream",
     "text": [
      "[1.0 0.0 0.0 0.0; 0.0 1.0 0.0 0.0; 0.0 0.0 1.0 0.0; 0.0 0.0 0.0 1.0]\n",
      "[1.0 0.0 0.0 0.0; 0.0 1.0 0.0 0.0; 0.0 0.0 1.0 0.0; 0.0 0.0 0.0 1.0]\n",
      "[1.0 0.0 0.0 0.0; 0.0 1.0 0.0 0.0; 0.0 0.0 1.0 0.0; 0.0 0.0 0.0 1.0]\n",
      "[1.0 0.0 0.0 0.0; 0.0 1.0 0.0 0.0; 0.0 0.0 1.0 0.0; 0.0 0.0 0.0 1.0]\n",
      "true"
     ]
    }
   ],
   "source": [
    "n = 4\n",
    "A = rand(n, n)\n",
    "\n",
    "Q = qr(A).Q\n",
    "\n",
    "Q_T = transpose(Q)\n",
    "Q_inv = inv(Q)\n",
    "\n",
    "equality1 = Q * Q_T\n",
    "equality2 = Q_T * Q\n",
    "equality3 = Q_inv * Q\n",
    "equality4 = Q * Q_inv\n",
    "\n",
    "set_thresh(equality1)\n",
    "set_thresh(equality2)\n",
    "set_thresh(equality3)\n",
    "set_thresh(equality4)\n",
    "\n",
    "println(equality1)\n",
    "println(equality2)\n",
    "println(equality3)\n",
    "println(equality4)\n",
    "\n",
    "print(equality1 == equality2 == equality3 == equality4)"
   ]
  },
  {
   "cell_type": "markdown",
   "id": "1a541758",
   "metadata": {},
   "source": [
    "**Exercise 2**"
   ]
  },
  {
   "cell_type": "code",
   "execution_count": 43,
   "id": "300ddaf4",
   "metadata": {},
   "outputs": [
    {
     "data": {
      "text/plain": [
       "gram_schmidt (generic function with 1 method)"
      ]
     },
     "execution_count": 43,
     "metadata": {},
     "output_type": "execute_result"
    }
   ],
   "source": [
    "function gram_schmidt(A)\n",
    "    n = size(A, 2)\n",
    "    Q = similar(A, Float64)\n",
    "    R = zeros(n, n)\n",
    "    for i in 1:n\n",
    "        v = A[:, i]\n",
    "        for j in 1:i-1\n",
    "            R[j, i] = dot(Q[:, j], A[:, i])\n",
    "            v -= R[j, i] * Q[:, j]\n",
    "        end\n",
    "        R[i, i] = norm(v)\n",
    "        Q[:, i] = v / R[i, i]\n",
    "    end\n",
    "    return Q, R\n",
    "end"
   ]
  },
  {
   "cell_type": "code",
   "execution_count": 44,
   "id": "6f5a1467",
   "metadata": {},
   "outputs": [
    {
     "name": "stdout",
     "output_type": "stream",
     "text": [
      "[0.9497593446238817 0.10609359311492517 0.4963155985934693 0.19138299495908728; 0.7899521070705824 0.9850254380810278 0.8438857021410557 0.1947337676224964; 0.7108344883111258 0.0003057698422538335 0.04655153660491029 0.7112308133204559; 0.5733962441141345 0.7387792918938798 0.9930843835557399 0.1684949673675613]\n",
      "[0.6182228521716325 -0.4650994795417691 0.3772386874318583 -0.509091300149036; 0.5142001997417214 0.6106505488269247 -0.5138014999054116 -0.31418478718406917; 0.46270050120927986 -0.43607870091485956 -0.44209943920064415 0.6326860980356416; 0.37323840346221987 0.46970602290769004 0.6310682033331374 0.49175427701963087]\n",
      "[1.5362734348749165 0.8479720440212734 1.1329564906806007 0.6104251296192479; 0.0 0.8990379927186385 0.730640723168788 -0.20110735739602947; 0.0 0.0 0.35976327491830956 -0.2359603594553955; 0.0 0.0 0.0 0.3742301638735524]\n"
     ]
    }
   ],
   "source": [
    "A = rand(4, 4)\n",
    "\n",
    "Q, R = gram_schmidt(A)\n",
    "\n",
    "println(A)\n",
    "println(Q)\n",
    "println(R)"
   ]
  },
  {
   "cell_type": "markdown",
   "id": "e98c8ecb",
   "metadata": {},
   "source": [
    "**Exercise 3**"
   ]
  },
  {
   "cell_type": "code",
   "execution_count": 62,
   "id": "b0f3c76a",
   "metadata": {},
   "outputs": [
    {
     "name": "stdout",
     "output_type": "stream",
     "text": [
      "Step 1:\n",
      "R is approximately equal to I : true\n"
     ]
    },
    {
     "ename": "LoadError",
     "evalue": "CanonicalIndexError: setindex! not defined for LinearAlgebra.QRCompactWYQ{Float64, Matrix{Float64}, Matrix{Float64}}",
     "output_type": "error",
     "traceback": [
      "CanonicalIndexError: setindex! not defined for LinearAlgebra.QRCompactWYQ{Float64, Matrix{Float64}, Matrix{Float64}}",
      "",
      "Stacktrace:",
      " [1] error_if_canonical_setindex(::IndexCartesian, ::LinearAlgebra.QRCompactWYQ{Float64, Matrix{Float64}, Matrix{Float64}}, ::Int64, ::Int64)",
      "   @ Base .\\abstractarray.jl:1407",
      " [2] setindex!",
      "   @ .\\abstractarray.jl:1396 [inlined]",
      " [3] macro expansion",
      "   @ .\\multidimensional.jl:932 [inlined]",
      " [4] macro expansion",
      "   @ .\\cartesian.jl:64 [inlined]",
      " [5] _unsafe_setindex!",
      "   @ .\\multidimensional.jl:927 [inlined]",
      " [6] _setindex!",
      "   @ .\\multidimensional.jl:916 [inlined]",
      " [7] setindex!(::LinearAlgebra.QRCompactWYQ{Float64, Matrix{Float64}, Matrix{Float64}}, ::Vector{Float64}, ::Function, ::Int64)",
      "   @ Base .\\abstractarray.jl:1397",
      " [8] top-level scope",
      "   @ .\\In[62]:11"
     ]
    }
   ],
   "source": [
    "A = rand(6, 6)\n",
    "Q, _ = qr(A)\n",
    "U = Q\n",
    "\n",
    "Q_new, R_new = qr(U)\n",
    "println(\"Step 1:\")\n",
    "println(\"R is approximately equal to I : \", isapprox(R_new, I))\n",
    "\n",
    "norms = 10:15\n",
    "for i in 1:6\n",
    "    U[:, i] = U[:, i] / norm(U[:, i]) * norms[i - 9]\n",
    "end\n",
    "\n",
    "Q_mod, R_mod = qr(U)\n",
    "println(\"Step 2\")\n",
    "println(\"The modified R with diagonal elements equaling 10-15 : \", isapprox(diagm(diag(R_mod)), Diagonal(10:15)))\n",
    "\n",
    "Q_T_Q = Q_mod' * Q_mod\n",
    "U[1, 4] = 0\n",
    "\n",
    "Q_broken, R_broken = qr(U)\n",
    "println(\"Step 3\")\n",
    "println(\"R_broken : \", R_broken)\n"
   ]
  },
  {
   "cell_type": "markdown",
   "id": "857e0d2e-9c81-4caa-87a8-5087b373045f",
   "metadata": {},
   "source": [
    "**Excersize 4**"
   ]
  },
  {
   "cell_type": "code",
   "execution_count": 2,
   "id": "39ce1f40-fbd1-45f7-b1b9-0865356be378",
   "metadata": {},
   "outputs": [
    {
     "data": {
      "text/plain": [
       "custom_inverse (generic function with 1 method)"
      ]
     },
     "execution_count": 2,
     "metadata": {},
     "output_type": "execute_result"
    }
   ],
   "source": [
    "# our custom inverse calculator\n",
    "\n",
    "function minor(matrix, row, col)\n",
    "    sub_matrix = matrix[setdiff(1:end, row), setdiff(1:end, col)]\n",
    "    return sub_matrix\n",
    "end\n",
    "\n",
    "function determinant(matrix)\n",
    "    n = size(matrix, 1)\n",
    "    if n == 1\n",
    "        return matrix[1, 1]\n",
    "    elseif n == 2\n",
    "        return matrix[1, 1] * matrix[2, 2] - matrix[1, 2] * matrix[2, 1]\n",
    "    else\n",
    "        det = 0\n",
    "        for i in 1:n\n",
    "            sign = (-1)^(i + 1)\n",
    "            minor_matrix = minor(matrix, [1], [i])\n",
    "            det += sign * matrix[1, i] * determinant(minor_matrix)\n",
    "        end\n",
    "        return det\n",
    "    end\n",
    "end\n",
    "\n",
    "function cofactor_matrix(matrix)\n",
    "    n = size(matrix, 1)\n",
    "    cofactor_mat = similar(matrix)\n",
    "    for i in 1:n\n",
    "        for j in 1:n\n",
    "            minor_mat = minor(matrix, [i], [j])\n",
    "            sign = (-1)^((i + j) % 2)\n",
    "            cofactor_mat[j, i] = sign * determinant(minor_mat)\n",
    "        end\n",
    "    end\n",
    "    return cofactor_mat\n",
    "end\n",
    "\n",
    "function adjugate(matrix)\n",
    "    return transpose(cofactor_matrix(matrix))\n",
    "end\n",
    "\n",
    "function custom_inverse(matrix)\n",
    "    det = determinant(matrix)\n",
    "    if det == 0\n",
    "        error(\"The matrix is singular and it's not invertible.\")\n",
    "    else\n",
    "        return adjugate(matrix) / det\n",
    "    end\n",
    "end"
   ]
  },
  {
   "cell_type": "code",
   "execution_count": 63,
   "id": "5e8191df-2bb8-4ea4-840c-db186b58cb61",
   "metadata": {},
   "outputs": [
    {
     "data": {
      "text/plain": [
       "10×10 Matrix{Float64}:\n",
       " 0.369818   0.461264  0.415873  0.77331   …  0.700418  0.0535794  0.459109\n",
       " 0.342058   0.633648  0.542794  0.116589     0.987935  0.934439   0.253565\n",
       " 0.190116   0.145302  0.644012  0.957584     0.96625   0.947317   0.421444\n",
       " 0.851948   0.382901  0.994166  0.674551     0.642553  0.849246   0.248483\n",
       " 0.812545   0.613783  0.541056  0.173935     0.242361  0.950004   0.191801\n",
       " 0.0852416  0.627368  0.62847   0.314178  …  0.462526  0.157993   0.808424\n",
       " 0.0832779  0.543206  0.808193  0.387887     0.921869  0.896518   0.892405\n",
       " 0.241983   0.492018  0.980293  0.761254     0.146236  0.129673   0.260476\n",
       " 0.0686455  0.513668  0.648268  0.637066     0.378003  0.458403   0.516022\n",
       " 0.127631   0.546937  0.953565  0.609412     0.53465   0.22173    0.905018"
      ]
     },
     "metadata": {},
     "output_type": "display_data"
    },
    {
     "data": {
      "text/plain": [
       "10×10 Matrix{Float64}:\n",
       "  0.898708    -4.13097  -0.0882487  …  -0.131532   -0.69293     2.71305\n",
       " -0.0527797    4.01398  -0.512841       1.02952    -0.137904   -2.13044\n",
       " -1.38464      1.02379   0.10512        0.23573     0.937636   -1.48744\n",
       "  1.37996      3.28413  -0.679449       1.20345    -0.814994   -2.25231\n",
       "  0.150197    -2.29029   0.206877      -1.45392     0.998529    1.95458\n",
       " -2.07861      5.29338  -0.0451472  …   1.66788    -0.164578   -4.69662\n",
       " -0.478608   -10.7239    2.51938       -0.92069     0.0376382   5.26287\n",
       " -1.93606     -6.12365   3.18464       -0.674113    0.0454296   1.27575\n",
       "  1.24346      8.29884  -3.66619       -0.0159428  -0.0187198  -2.41118\n",
       "  1.96989      2.95461  -0.98793       -0.732688    0.0731661   1.23581"
      ]
     },
     "metadata": {},
     "output_type": "display_data"
    }
   ],
   "source": [
    "matrix = rand(10, 10)\n",
    "\n",
    "display(matrix)\n",
    "# old school\n",
    "old_school_inverse_matrix = custom_inverse(matrix)\n",
    "display(old_school_inverse_matrix)"
   ]
  },
  {
   "cell_type": "code",
   "execution_count": 64,
   "id": "adbe6220-b4f9-4e38-934e-e8f07240dda0",
   "metadata": {},
   "outputs": [
    {
     "data": {
      "text/plain": [
       "10×10 LinearAlgebra.QRCompactWYQ{Float64, Matrix{Float64}, Matrix{Float64}}:\n",
       " -0.277995   -0.119408    0.243803  …   0.0830384   0.435786    -0.300101\n",
       " -0.257127   -0.293954    0.322318      0.309093    0.0497207    0.235656\n",
       " -0.142911    0.0200152  -0.476142      0.410539   -0.559419     0.164531\n",
       " -0.640415    0.327469   -0.376175      0.0372018   0.437116     0.249137\n",
       " -0.610795    0.0919525   0.423922     -0.203712   -0.54671     -0.216204\n",
       " -0.0640767  -0.489422    0.149673  …   0.26366     0.0294854    0.519512\n",
       " -0.0626005  -0.416351   -0.162596      0.404844    0.0513069   -0.582147\n",
       " -0.1819     -0.24674    -0.379824     -0.254127   -0.00842585  -0.141116\n",
       " -0.0516012  -0.401621   -0.026998     -0.548562   -0.0226581    0.26671\n",
       " -0.095941   -0.384939   -0.308072     -0.295339   -0.0249179   -0.136698"
      ]
     },
     "metadata": {},
     "output_type": "display_data"
    },
    {
     "data": {
      "text/plain": [
       "10×10 Matrix{Float64}:\n",
       " -1.33031  -1.17472  -1.70848   …  -1.33111   -1.64943   -0.797843\n",
       "  0.0      -1.12806  -1.3344       -1.1259    -0.648706  -1.40902\n",
       "  0.0       0.0      -0.895864     -0.420974  -0.305606  -0.434951\n",
       "  0.0       0.0       0.0           0.37253   -0.119605   0.1256\n",
       "  0.0       0.0       0.0           0.387029   0.50491   -0.340353\n",
       "  0.0       0.0       0.0       …  -0.120881  -0.507994  -0.106645\n",
       "  0.0       0.0       0.0          -0.425601  -0.28118   -0.374844\n",
       "  0.0       0.0       0.0           0.827481   0.57496    0.217573\n",
       "  0.0       0.0       0.0           0.0       -0.574642   0.0138585\n",
       "  0.0       0.0       0.0           0.0        0.0       -0.110614"
      ]
     },
     "metadata": {},
     "output_type": "display_data"
    },
    {
     "data": {
      "text/plain": [
       "10×10 adjoint(::Matrix{Float64}) with eltype Float64:\n",
       "  0.898708    -4.13097  -0.0882487  …  -0.131532   -0.69293     2.71305\n",
       " -0.0527797    4.01398  -0.512841       1.02952    -0.137904   -2.13044\n",
       " -1.38464      1.02379   0.10512        0.23573     0.937636   -1.48744\n",
       "  1.37996      3.28413  -0.679449       1.20345    -0.814994   -2.25231\n",
       "  0.150197    -2.29029   0.206877      -1.45392     0.998529    1.95458\n",
       " -2.07861      5.29338  -0.0451472  …   1.66788    -0.164578   -4.69662\n",
       " -0.478608   -10.7239    2.51938       -0.92069     0.0376382   5.26287\n",
       " -1.93606     -6.12365   3.18464       -0.674113    0.0454296   1.27575\n",
       "  1.24346      8.29884  -3.66619       -0.0159428  -0.0187198  -2.41118\n",
       "  1.96989      2.95461  -0.98793       -0.732688    0.0731661   1.23581"
      ]
     },
     "metadata": {},
     "output_type": "display_data"
    }
   ],
   "source": [
    "# QR decomposition\n",
    "Q, R = qr(matrix)\n",
    "display(Q)\n",
    "display(R)\n",
    "qr_decomposition = (inv(R) * Q')'\n",
    "display(qr_decomposition)"
   ]
  },
  {
   "cell_type": "code",
   "execution_count": 68,
   "id": "9c38a3ae-7194-4362-9da5-fd1fc892e5d3",
   "metadata": {},
   "outputs": [
    {
     "data": {
      "text/plain": [
       "24.187017197046153"
      ]
     },
     "execution_count": 68,
     "metadata": {},
     "output_type": "execute_result"
    }
   ],
   "source": [
    "error_old = sqrt(sum(((matrix * old_school_inverse_matrix) - I(10)) .^ 2))\n",
    "error_qr = sqrt(sum(((matrix * qr_decomposition) - I(10)) .^ 2))"
   ]
  },
  {
   "cell_type": "code",
   "execution_count": 69,
   "id": "5629e9e5-ea5f-4f16-a3f9-b294bcec46f2",
   "metadata": {},
   "outputs": [
    {
     "name": "stdout",
     "output_type": "stream",
     "text": [
      "24.187017197046092 24.187017197046153"
     ]
    }
   ],
   "source": [
    "print(error_old, \" \", error_qr)"
   ]
  },
  {
   "cell_type": "code",
   "execution_count": 70,
   "id": "a1531227-b247-44a1-8f8b-cbddab58bcfb",
   "metadata": {},
   "outputs": [
    {
     "data": {
      "image/png": "iVBORw0KGgoAAAANSUhEUgAAAlgAAAGQCAIAAAD9V4nPAAAABmJLR0QA/wD/AP+gvaeTAAAa2ElEQVR4nO3de3BU9dnA8d/ZW7J5wyWShCQQgSRI5eYlUYJWoILIyyVaRBQItHLXjmVGWxXkVaFVCeooI7RUQBjqTEV4iR2GmxJuQgEhWqWBgAo1ISRNUgLJkmSv5/1jX/flTQKs7tld8Pl+/jo5HH/ncZLNN2d3c6Lpuq4AAJDKFO0BAACIJkIIABCNEAIARCOEAADRCCEAQDRCCAAQjRACAEQjhAAA0QghAEA0QggAEM0SmdMcP3583759M2bMUEq53W6r1Wrg4nsOf1le7zJwQZl0n66U0kxatAe57mXeYB94Wx8DFzT8IVNVVVVUcoabK4bO6/WazeZoT3Hdi7OoYbfd1L59e6MW1HXd5/MF/6mJUAiPHTu2fft2fwidTqexj+q8/xxeP2qBsncwcE3gBzpf0aV41Zmvjhm4ZHNzs7EPmXffffe//vtT3x2PGrgm8IPFbX+l8E+vDx8+3KgFfT6fy+Wy2+1BHh+hEIbdLaNU+87RHgJQqrJUFa+K9hBXp6XerHIeivYUgFJK2T59N7oD8BohAEA0QggAEI0QAgBEI4QAANEIIQBANEIIABCNEAIARCOEAADRCCEAQLQfy51lAACXajz/H+uetClvtOe4Osu/TxUUFKxcufIKx2iatnjx4m7duoVlgHAsCgCIsvpq29ef/GnpW9GeIxjjr3rEggULTp06RQgBAN+DPb7dww8/HO0pjPHHP/4xfIvzGiEAQDRCCAAQjRACAEQjhAAA0QghAEA03jUKACLoup7eI6uuri5iZ8y+c8Dej7dG7HQ/GCEEABF0XT9b/k/9zcoIna/2nyfXTgry2LNnz+7Zs6ekpKRnz56/+MUvwjpXa4QQACSJS4jQiWLPBX/sn//85927dzscji+//DLyIeQ1QgBAhBw7dmzr1v97srS0tHTz5s1KqWeffXbr1q15eXlRmYoQAgAiJDY2dsKECQ0NDf4Pn3/++dLS0uiOpAghACBiMjIyBg4c+MEHHyilqqqqPvrooylTpkR7KEIIAIigxx9//J133lFKvfvuu3l5eUlJSdGeiBACACJo1KhR1dXVxcXFq1evnjVrVrTHUYoQAgAiyWw2T5s2berUqRaL5Z577on2OEoRQgBAhE2fPr20tHTWrFmapvn3FBYWZmZmLlq0qKioKDMzc+7cuZGch98jBAAxdN324fMROtXFOu0y/+RyuWJjYy99m8yoUaOGDBkS+DAmJia8w/1/hBAARDCZTMuXL4/gLdY63XTTyNZ7CwsL33777alTp95www2BnTabzWazRWqwlgghAEgxc+bMaI+gSkpK8vLyZs+eHe1B/g8hBABEzvz586M9Qku8WQYAIBohBACIRggBAKIRQgCAaLxZBgB+jEzm6jPf3nRLTrTnuDrN1WiPsVksV+rRyZMnzWZzmAYghADwY5SU4Xnuk6983mjPcXXt1s95dcbk3NzcKxyjadott9wSpgEIIQD8GGmaSg9XOYxljmvfs2fP7OzsaA3Aa4QAANEIIQBANEIIABCNEAIARCOEAADRCCEAQDRCCAAQjRACAEQjhAAA0QghAEA0QggAEI0QAgBEI4QAANEIIQBANEIIABCNEAIARCOEAADRgv0L9RcuXDhw4EBDQ0P//v179eoV2O92u3ft2lVXVzdkyJDOnTuHZ0gAAMIlqCvCY8eOpaenv/HGG4WFhQMHDnzhhRf8+91u97Bhw1544YVNmzb16dPns88+C+eoAAAYL6grwrS0tJMnT6akpCilPvvss5ycnDlz5nTq1OnDDz+sra39/PPPbTbb73//+xdffHHTpk1hHhgAACMFdUXYsWNHfwWVUunp6bquO51OpdSmTZsefPBBm82mlHr44Ye3bt3qdrvDNysAAIYL9jXCgFdeeWX48OFpaWlKqYqKitzcXP/+9PR0r9dbVVWVnp7e+r9yOBynTp1avny5UsrpdMbExIwePTo1NTW04f+XbsgqgFF03ev1Grie1+s1dkGfz2fgakDofD6fgV/k3u8opUwmk6ZpVz7++4VwxYoVhYWF+/bt83/o8XjMZrN/279xuSvCxsbGurq6I0eO+I+xWq05OTmJiYnf6+yXRwpxDdEv/0D4Ydxut7ELEkJcU3Rd93g8Bn6Re71et9ttsViUUjabzcgQrl27duHChbt27eratat/T0pKSk1NjX+7urpaKXW5i7zk5OTs7OyVK1cqpRwOR3x8fPDnvSpNXeV/EogkTdNiY2MNXNDtdhu7oP8bBHCN0DTNZrMZ+EXu9XpNJlPwCwb7e4Tr16+fO3fu9u3bs7KyAjsHDx788ccf+7c//vjjAQMG2O327zUuAADRFdQPhkePHp04ceLIkSPXrl3r3zN79uzu3bvn5+cXFBTMnDmzd+/eL7/8sv+CDwCA60hQIezUqdOyZcsu3eO/5Gzfvv2hQ4dWr1595syZjRs33nPPPWGZEQCAsAn29whnzpzZ5j+lpKTMnTvX0JEAAIgc7jUKABCNEAIARCOEAADRCCEAQDRCCAAQjRACAEQjhAAA0QghAEA0QggAEI0QAgBEI4QAANEIIQBANEIIABCNEAIARCOEAADRCCEAQDRCCAAQjRACAEQjhAAA0QghAEA0QggAEI0QAgBEI4QAANEIIQBANEIIABCNEAIARCOEAADRCCEAQDRCCAAQjRACAEQjhAAA0QghAEA0QggAEI0QAgBEI4QAANEIIQBANEIIABCNEAIARCOEAADRCCEAQDRCCAAQjRACAEQjhAAA0QghAEA0QggAEI0QAgBEI4QAANEIIQBANEIIABCNEAIARCOEAADRCCEAQDRCCAAQjRACAEQjhAAA0QghAEA0QggAEI0QAgBEI4QAANEIIQBANEIIABCNEAIARCOEAADRCCEAQLRgQ7h9+/b8/Py+ffs++eSTgZ0XL17MvERBQUF4hgQAIFwsQR7X0NCQm5trNpurq6sDO30+36lTp06cOGGxWJRSHTt2DMuMAACETbAhHDdunFJq4cKFJSUlLf6pR48eVqvV4LkAAIgIA14j7Nu3b69evWbPnl1bWxv6agAARFKwV4RtiomJ+fDDD++4447a2tpnnnlm/PjxO3fubPPIb775ZuPGjZqm+T80m80bN2782c9+FsrZA3SlG7IOYAjd52toaDBwQYfDYeBqSimn02nsgkAodF1vamoy8FHj9XpdLpfH41FKxcXFmc3mKx8fUghtNtsDDzyglEpLS1u1alXXrl1ramqSkpJaH5mZmTl27NgNGzYopRwOR3x8fCjnbUFTmoGrASHSTKZ27doZu6axC8bExCjlMnBBIBSaptntdgO/yP0htNvtQR5v2K9P+N8v4/P5jFoQAIAICPaKsKampqysrLKysq6urri4ODk5OT09/fDhw06ns2/fvv/+979/85vf3H333Z07dw7ruAAAGCvYK8JPPvlk1qxZhw8fPnfu3KxZs95//32l1IULF+bMmZOVlTVs2LCOHTv6n/kEAOA6EuwV4dixY8eOHdti57Bhw4qLi40eCQCAyOEWawAA0QghAEA0QggAEI0QAgBEI4QAANEIIQBANEIIABCNEAIARCOEAADRCCEAQDRCCAAQjRACAEQjhAAA0QghAEA0QggAEI0QAgBEI4QAANEIIQBANEIIABCNEAIARCOEAADRCCEAQDRCCAAQjRACAEQjhAAA0QghAEA0QggAEI0QAgBEI4QAANEIIQBANEIIABCNEAIARCOEAADRCCEAQDRCCAAQjRACAEQjhAAA0QghAEA0QggAEI0QAgBEI4QAANEIIQBANEIIABCNEAIARCOEAADRCCEAQDRCCAAQjRACAEQjhAAA0QghAEA0QggAEI0QAgBEI4QAANEIIQBANEIIABCNEAIARCOEAADRCCEAQDRCCAAQjRACAEQjhAAA0QghAEA0QggAEI0QAgBEswR53JkzZ44cOfLVV18NHTr09ttvD+wvLy9fvnz5hQsX8vLyhg8fHp4hAQAIl2CvCCdOnLhkyZI333zzwIEDgZ3nz5/Pzc11OBz9+vWbPHnyhg0bwjMkAADhEuwV4d69e5VSQ4cOvXTn2rVre/XqtWTJEqWU3W5ftGjRuHHjDB8RAIDwCek1wv379wfSeO+99xYXFzc2NhoxFQAAERLsFWGbKisr7733Xv92cnKyf09mZmabRx48ePChhx5SSnk8npiYmKeeeqp///6hnD1AV7oh6wCG0H26sT8RNjU1mc1mAxd0u90GrgaESNd1p9Np4KPG6/W6XC5d15VSsbGxJtNVLvlCCqHNZvN4PP5tl8vlP2WbR3bo0KFr167jx49XSjU3N8fGxnbv3j0mJiaUs19CM2gdwACapoz72lZKKZfLZeyCxmYVCJGmaVar1cAvcq/Xq2maf0FNu3ogQgphly5dzpw5498+c+aMxWLxXxe2FhcX17Vr10ceeUQp5XA44uPjQzlvC2QQ1xZNM7Y0ZrPZ2AWv+gMyEGEmkymKj5qQHg8PPvhgYWFhc3OzUuovf/nL6NGjrVZrKAsCABBhwYZw/vz5OTk5hw8fXrx4cU5OTlFRkVJqzJgx3bp1GzBgwNixY5cvX75gwYJwjgoAgPGCfWp02rRpP//5zwMfZmRkKKUsFsvWrVv/9re/1dXVrVq1KiEhISwzAgAQNsGGsEePHj169Gi932Qy/fSnPzV0JAAAIofXzAEAohFCAIBohBAAIBohBACIRggBAKIRQgCAaIQQACAaIQQAiEYIAQCiEUIAgGiEEAAgGiEEAIhGCAEAohFCAIBohBAAIBohBACIRggBAKIRQgCAaIQQACAaIQQAiEYIAQCiEUIAgGiEEAAgGiEEAIhGCAEAohFCAIBohBAAIBohBACIRggBAKIRQgCAaIQQACAaIQQAiEYIAQCiEUIAgGiEEAAgGiEEAIhGCAEAohFCAIBohBAAIBohBACIRggBAKIRQgCAaIQQACAaIQQAiEYIAQCiEUIAgGiEEAAgGiEEAIhGCAEAohFCAIBohBAAIBohBACIRggBAKIRQgCAaIQQACAaIQQAiEYIAQCiEUIAgGiEEAAgGiEEAIhGCAEAohFCAIBohBAAIJollP9Y1/Xz588HPoyNjbXb7SGPBABA5IQUQofDccMNN/To0UPTNKXUzJkzn332WYMGAwAgEkIKod+JEyesVmvo6wAAEHkGvEZYXV1dXV0d+joAAEReqFeEFotl0KBBFy5cSEpKeu+997Kzs9s8zO12V1dX79ixQynV1NRkt9sHDBjQrl27EM8OAECIQgphXFxcZWVlYmKiz+d7/vnnx48f//XXX/tfL2yhqqqqtLT0lVdeUUp5vV6z2Tx//vw777wzlLMH6Eo3ZB3AELrP53A4DFzw4sWLbT6sfjCXy2XgakCIdF1vamoy8FHj9XpdLpfX61VKxcXFmUxXee4zpBCazebExESllMlkmjt37qJFi8rLy2+88cbWR6anpw8aNGjDhg1KKYfDER8fH8p5W9CUkd8jgBBpJpOxX+G6rhu7oM1mU8pp4IJAKDRNs9vtBn6R+0MY/G8xGPZ7hGVlZZqmJSQkGLUgAAARENIV4V//+td//OMf/fv3r62tLSgoeOyxx3jZDwBwfQkphFlZWTt37ly5cmXHjh2fe+65yZMnGzUWAACREVII+/Tps2TJEqNGAQAg8rjXKABANEIIABCNEAIARCOEAADRCCEAQDRCCAAQjRACAEQjhAAA0QghAEA0QggAEI0QAgBEI4QAANEIIQBANEIIABCNEAIARCOEAADRCCEAQDRCCAAQjRACAEQjhAAA0QghAEA0QggAEI0QAgBEI4QAANEIIQBANEIIABCNEAIARCOEAADRCCEAQDRCCAAQjRACAEQjhAAA0QghAEA0QggAEI0QAgBEI4QAANEIIQBANEIIABCNEAIARCOEAADRCCEAQDRCCAAQjRACAEQjhAAA0QghAEA0QggAEI0QAgBEI4QAANEIIQBANEIIABCNEAIARCOEAADRCCEAQDRCCAAQjRACAEQjhAAA0QghAEA0QggAEI0QAgBEI4QAANEIIQBANEIIABCNEAIARIt0CCsrK9euXRvhkwLXtXfeeef8+fPRngK4bpSUlGzatCn440MN4bZt2wYNGtSvX7/58+d7PJ6rHl9aWrpu3boQTwqIsmbNmrKysmhPAVw3Pv300y1btgR/vCWUk50+fXr8+PGrV6/u3bv3lClT4uPjn3vuuVAWBAAgwkK6Ily1atXIkSMfeuihm2++eeHChX/4wx+MGgsAgMgIKYQlJSU5OTn+7ZycnPLycl7JAABcX0J6arS6urpjx47+7YSEhBZ7LnXw4MHCwkKr1arrus/ns1qtiYmJdrs9lLMHeOMSYj54Spl4B2xIPB6PpjSzxRztQa5zXm+905uRkWHgkmfPnh01apTVajVqwaamJnPq7ZZ3Jxu1oEy6rrvdbpvNFu1BrnvNjRenTZtm4Fe4w+FwOp179+5VSk2aNOl3v/vdlY8PKYQdOnRwOBz+7YaGBvVdDltbtGjRiBEjLBaLUsrpdNrt9tTUVBPpupZ4PB5N08xmQnjNcTqdMTEx0Z4CbeBTc23y+Xxer9df1tTU1KseH1IIMzIyTp486d8+efJku3btOnXq1OaRZrN56NChoZwLAIBwCOmaLD8/f/369eXl5bquv/XWW/n5+VzkAQCuLyFdEebm5v7617/u16+fzWbr06fP0qVLjRoLAIDI0HRdD3EJp9PpdDrbt29vyEAAAESSASEEAOD6FdJTo1e1ZcuWHTt2pKamzpgxo/WvVXzxxReHDh0KfDhhwoR27dqFdR4opdxu99GjR7/88sv4+Phx48a1eczFixdXrFhRVlZ21113Xe4YGK6xsfHvf//78ePHu3fv3uaby8rLy7du3Rr48P777+/WrVsEBxRK1/VDhw4VFRWdP3++X79+EyZMaPON/sePH3/vvfeUUpMmTerdu3fEx5TI4/Hs2rVr//79TU1NAwcOfOCBBzRNa3HMrl27vvrqK/+21Wp97LHHWq8Txve2LF++fPbs2RkZGcXFxYMHD259J9Lt27cvW7bs1HeCuVUpQrdixYpx48a9/fbbV/jdmhEjRhQVFWVlZc2fP//VV1+N5HiSzZs3b/r06a+//vqKFSvaPODo0aMLFiwIPGQaGxsjPKFM33zzzcSJE+vr67t06bJ06dIRI0b4fL4Wxxw/fjw3N9dqtcbExAwcOLCkpCQqo0qzbdu2Z555xufzJSUlPf3000888UTrY1avXv3BBx/4HzKnT59ueyE9PLxeb/fu3Tdv3uzf7tWrV2FhYYtjCgoKpk+fHqYBcDler1fX9XXr1vXv37/NA3bv3p2SkuJ0OnVdP3jwYKdOnZqamiI6olT+T81LL730yCOPtHnA5s2bc3NzIzsUdJfL5fF4/Nvnzp2zWCwlJSUtjpk1a9avfvUr//acOXP4zhYZl35r+vTTT61Wa3Nzc4tjJk+e/NZbb115nXBdEX777bdlZWXDhg1TSplMpqFDh+7Zs6f1YSdPnly8ePHatWvr6+vDNAlauOqvuOzZs2fw4MH++2XceeedHo+HH28jI5jfPqqtrX3jjTdWrFhRUVERgZGglLJarYEbTbhcLp/PFx8f3+KYvXv33nffff7t++67r81vdzBcbGxsYLu5uTk2NrbNZ60PHDjw2muvbdiwwe12t7lOuEJYWVnZoUOHwM2HOnfufPbs2RbHJCYmZmVl1dfXr1mz5ic/+Ql/aOYaUVVVlZSU5N/WNC05Obn15w5RERcXl52dXVdX99FHH/Xu3Xvfvn3RnkicOXPmPProozfeeGOL/ZWVlYFHTXJycmVlZcRHE83lcj399NO//e1vW/802a1bt8TExHPnzr388su5ublNTU2t//NwvVnGYrFc+pqf2+1ufSOiqVOnTp061b89duzYgoKCZcuWhWkeBK/15467KV4jhgwZMmTIEP/2iy++OG/ePP/dFBEZ8+bNKy0t3bVrV+t/uvRR4/F4eMhEktfrnTJlSlpa2ty5c1v/a+DNEAsXLrz11lvXrFnz+OOPtzgmXFeEXbp0aWhoCDzhWVFRceUbvt19992nTp0K0zD4Xrp06RJ42s3tdldXV6elpUV3JLR211138ZCJpJdeemnz5s1FRUVt3lG5S5cugSdOKioqeMhEjNfrnTx5cn19/bp16/y3s74cq9V6xx13tPl+mTCG8Pbbb1+/fr1SyuFwbNu2LS8vTyl14cKF3bt3+48JXKJ6PJ4tW7b07ds3TMMgGPv27autrVVKjRkzZvfu3f7tLVu2pKSk9OnTJ9rTyeXxeHbu3Ol/g2hzc3Ng/6ZNm3jIRMzrr7/+/vvvb9++/dLbKdfV1QVeCxwzZoz/251Sav369WPGjInClPL4fL6pU6fW1NRs3Ljx0icdKyoqDh8+7N8OPGrq6+v37NnT9ncz49/H8x3/F82UKVP69es3btw4/849e/ZYLBb/dk5Ozv3335+fn9+zZ89bb721trY2fMMgoLi4ODs7OyMjw263Z2dnP/HEE/79ycnJgXf2zpgx46abbvrlL3+ZlJS0fv366A0ry4YNG7Kzs9PS0hISErKzs1977TVd18+dO6eUKi0t1XV90qRJgwYNys/Pz8nJSU9PP3r0aLRHFuHo0aNKqYyMjOzv7Nu3T9f1oqIiu93uP6aqqiozM3PkyJGjR4/OyMiorKyM6shS+H/46N27d+BTU1FRoev60qVLb7vtNl3XfT5fQkLCmDFjJk6cmJqampeX53a7W68T3jvLlJeX79+/PyUlZfDgwf7fc2xoaDhx4oT/z/n+61//OnLkSH19fffu3QcMGMANuyOjoaEh8DdDlFLt27fv2bOnUurzzz/v0aNH4L4H+/fvLysrGzBggLF/Wg9XUFNTc+lbxpKTk9PT071eb3Fxcf/+/WNjY+vr6w8dOlRbW5uSkpKbm2vUX/TElTU2Nh4/fvzSPVlZWR06dPA/lLKzs/07L168uGPHDl3Xhw0b1vptpQiHc+fOtXiqs2/fvjExMdXV1TU1Nf6Lv9OnT3/xxRcul6tXr1633HJLm+twizUAgGhchAEARCOEAADRCCEAQDRCCAAQjRACAEQjhAAA0QghAEA0QggAEI0QAgBEI4QAANEIIQBAtP8BhNAT753BEcUAAAAASUVORK5CYII=",
      "image/svg+xml": [
       "<?xml version=\"1.0\" encoding=\"utf-8\"?>\n",
       "<svg xmlns=\"http://www.w3.org/2000/svg\" xmlns:xlink=\"http://www.w3.org/1999/xlink\" width=\"600\" height=\"400\" viewBox=\"0 0 2400 1600\">\n",
       "<defs>\n",
       "  <clipPath id=\"clip380\">\n",
       "    <rect x=\"0\" y=\"0\" width=\"2400\" height=\"1600\"/>\n",
       "  </clipPath>\n",
       "</defs>\n",
       "<path clip-path=\"url(#clip380)\" d=\"M0 1600 L2400 1600 L2400 0 L0 0  Z\" fill=\"#ffffff\" fill-rule=\"evenodd\" fill-opacity=\"1\"/>\n",
       "<defs>\n",
       "  <clipPath id=\"clip381\">\n",
       "    <rect x=\"480\" y=\"0\" width=\"1681\" height=\"1600\"/>\n",
       "  </clipPath>\n",
       "</defs>\n",
       "<path clip-path=\"url(#clip380)\" d=\"M140.696 1486.45 L2352.76 1486.45 L2352.76 47.2441 L140.696 47.2441  Z\" fill=\"#ffffff\" fill-rule=\"evenodd\" fill-opacity=\"1\"/>\n",
       "<defs>\n",
       "  <clipPath id=\"clip382\">\n",
       "    <rect x=\"140\" y=\"47\" width=\"2213\" height=\"1440\"/>\n",
       "  </clipPath>\n",
       "</defs>\n",
       "<polyline clip-path=\"url(#clip382)\" style=\"stroke:#000000; stroke-linecap:round; stroke-linejoin:round; stroke-width:2; stroke-opacity:0.1; fill:none\" points=\"152.989,1486.45 152.989,47.2441 \"/>\n",
       "<polyline clip-path=\"url(#clip382)\" style=\"stroke:#000000; stroke-linecap:round; stroke-linejoin:round; stroke-width:2; stroke-opacity:0.1; fill:none\" points=\"699.857,1486.45 699.857,47.2441 \"/>\n",
       "<polyline clip-path=\"url(#clip382)\" style=\"stroke:#000000; stroke-linecap:round; stroke-linejoin:round; stroke-width:2; stroke-opacity:0.1; fill:none\" points=\"1246.73,1486.45 1246.73,47.2441 \"/>\n",
       "<polyline clip-path=\"url(#clip382)\" style=\"stroke:#000000; stroke-linecap:round; stroke-linejoin:round; stroke-width:2; stroke-opacity:0.1; fill:none\" points=\"1793.59,1486.45 1793.59,47.2441 \"/>\n",
       "<polyline clip-path=\"url(#clip382)\" style=\"stroke:#000000; stroke-linecap:round; stroke-linejoin:round; stroke-width:2; stroke-opacity:0.1; fill:none\" points=\"2340.46,1486.45 2340.46,47.2441 \"/>\n",
       "<polyline clip-path=\"url(#clip380)\" style=\"stroke:#000000; stroke-linecap:round; stroke-linejoin:round; stroke-width:4; stroke-opacity:1; fill:none\" points=\"140.696,1486.45 2352.76,1486.45 \"/>\n",
       "<polyline clip-path=\"url(#clip380)\" style=\"stroke:#000000; stroke-linecap:round; stroke-linejoin:round; stroke-width:4; stroke-opacity:1; fill:none\" points=\"152.989,1486.45 152.989,1467.55 \"/>\n",
       "<polyline clip-path=\"url(#clip380)\" style=\"stroke:#000000; stroke-linecap:round; stroke-linejoin:round; stroke-width:4; stroke-opacity:1; fill:none\" points=\"699.857,1486.45 699.857,1467.55 \"/>\n",
       "<polyline clip-path=\"url(#clip380)\" style=\"stroke:#000000; stroke-linecap:round; stroke-linejoin:round; stroke-width:4; stroke-opacity:1; fill:none\" points=\"1246.73,1486.45 1246.73,1467.55 \"/>\n",
       "<polyline clip-path=\"url(#clip380)\" style=\"stroke:#000000; stroke-linecap:round; stroke-linejoin:round; stroke-width:4; stroke-opacity:1; fill:none\" points=\"1793.59,1486.45 1793.59,1467.55 \"/>\n",
       "<polyline clip-path=\"url(#clip380)\" style=\"stroke:#000000; stroke-linecap:round; stroke-linejoin:round; stroke-width:4; stroke-opacity:1; fill:none\" points=\"2340.46,1486.45 2340.46,1467.55 \"/>\n",
       "<path clip-path=\"url(#clip380)\" d=\"M130.871 1517.37 Q127.26 1517.37 125.431 1520.93 Q123.626 1524.47 123.626 1531.6 Q123.626 1538.71 125.431 1542.27 Q127.26 1545.82 130.871 1545.82 Q134.505 1545.82 136.311 1542.27 Q138.14 1538.71 138.14 1531.6 Q138.14 1524.47 136.311 1520.93 Q134.505 1517.37 130.871 1517.37 M130.871 1513.66 Q136.681 1513.66 139.737 1518.27 Q142.816 1522.85 142.816 1531.6 Q142.816 1540.33 139.737 1544.94 Q136.681 1549.52 130.871 1549.52 Q125.061 1549.52 121.982 1544.94 Q118.927 1540.33 118.927 1531.6 Q118.927 1522.85 121.982 1518.27 Q125.061 1513.66 130.871 1513.66 Z\" fill=\"#000000\" fill-rule=\"nonzero\" fill-opacity=\"1\" /><path clip-path=\"url(#clip380)\" d=\"M151.033 1542.97 L155.917 1542.97 L155.917 1548.85 L151.033 1548.85 L151.033 1542.97 Z\" fill=\"#000000\" fill-rule=\"nonzero\" fill-opacity=\"1\" /><path clip-path=\"url(#clip380)\" d=\"M166.149 1514.29 L184.505 1514.29 L184.505 1518.22 L170.431 1518.22 L170.431 1526.7 Q171.45 1526.35 172.468 1526.19 Q173.487 1526 174.505 1526 Q180.292 1526 183.672 1529.17 Q187.051 1532.34 187.051 1537.76 Q187.051 1543.34 183.579 1546.44 Q180.107 1549.52 173.788 1549.52 Q171.612 1549.52 169.343 1549.15 Q167.098 1548.78 164.69 1548.04 L164.69 1543.34 Q166.774 1544.47 168.996 1545.03 Q171.218 1545.58 173.695 1545.58 Q177.7 1545.58 180.038 1543.48 Q182.376 1541.37 182.376 1537.76 Q182.376 1534.15 180.038 1532.04 Q177.7 1529.94 173.695 1529.94 Q171.82 1529.94 169.945 1530.35 Q168.093 1530.77 166.149 1531.65 L166.149 1514.29 Z\" fill=\"#000000\" fill-rule=\"nonzero\" fill-opacity=\"1\" /><path clip-path=\"url(#clip380)\" d=\"M667.01 1544.91 L674.649 1544.91 L674.649 1518.55 L666.339 1520.21 L666.339 1515.95 L674.603 1514.29 L679.279 1514.29 L679.279 1544.91 L686.918 1544.91 L686.918 1548.85 L667.01 1548.85 L667.01 1544.91 Z\" fill=\"#000000\" fill-rule=\"nonzero\" fill-opacity=\"1\" /><path clip-path=\"url(#clip380)\" d=\"M696.362 1542.97 L701.246 1542.97 L701.246 1548.85 L696.362 1548.85 L696.362 1542.97 Z\" fill=\"#000000\" fill-rule=\"nonzero\" fill-opacity=\"1\" /><path clip-path=\"url(#clip380)\" d=\"M721.431 1517.37 Q717.82 1517.37 715.992 1520.93 Q714.186 1524.47 714.186 1531.6 Q714.186 1538.71 715.992 1542.27 Q717.82 1545.82 721.431 1545.82 Q725.066 1545.82 726.871 1542.27 Q728.7 1538.71 728.7 1531.6 Q728.7 1524.47 726.871 1520.93 Q725.066 1517.37 721.431 1517.37 M721.431 1513.66 Q727.242 1513.66 730.297 1518.27 Q733.376 1522.85 733.376 1531.6 Q733.376 1540.33 730.297 1544.94 Q727.242 1549.52 721.431 1549.52 Q715.621 1549.52 712.543 1544.94 Q709.487 1540.33 709.487 1531.6 Q709.487 1522.85 712.543 1518.27 Q715.621 1513.66 721.431 1513.66 Z\" fill=\"#000000\" fill-rule=\"nonzero\" fill-opacity=\"1\" /><path clip-path=\"url(#clip380)\" d=\"M1214.38 1544.91 L1222.02 1544.91 L1222.02 1518.55 L1213.71 1520.21 L1213.71 1515.95 L1221.97 1514.29 L1226.64 1514.29 L1226.64 1544.91 L1234.28 1544.91 L1234.28 1548.85 L1214.38 1548.85 L1214.38 1544.91 Z\" fill=\"#000000\" fill-rule=\"nonzero\" fill-opacity=\"1\" /><path clip-path=\"url(#clip380)\" d=\"M1243.73 1542.97 L1248.61 1542.97 L1248.61 1548.85 L1243.73 1548.85 L1243.73 1542.97 Z\" fill=\"#000000\" fill-rule=\"nonzero\" fill-opacity=\"1\" /><path clip-path=\"url(#clip380)\" d=\"M1258.84 1514.29 L1277.2 1514.29 L1277.2 1518.22 L1263.13 1518.22 L1263.13 1526.7 Q1264.14 1526.35 1265.16 1526.19 Q1266.18 1526 1267.2 1526 Q1272.99 1526 1276.37 1529.17 Q1279.75 1532.34 1279.75 1537.76 Q1279.75 1543.34 1276.27 1546.44 Q1272.8 1549.52 1266.48 1549.52 Q1264.31 1549.52 1262.04 1549.15 Q1259.79 1548.78 1257.39 1548.04 L1257.39 1543.34 Q1259.47 1544.47 1261.69 1545.03 Q1263.91 1545.58 1266.39 1545.58 Q1270.39 1545.58 1272.73 1543.48 Q1275.07 1541.37 1275.07 1537.76 Q1275.07 1534.15 1272.73 1532.04 Q1270.39 1529.94 1266.39 1529.94 Q1264.51 1529.94 1262.64 1530.35 Q1260.79 1530.77 1258.84 1531.65 L1258.84 1514.29 Z\" fill=\"#000000\" fill-rule=\"nonzero\" fill-opacity=\"1\" /><path clip-path=\"url(#clip380)\" d=\"M1764.83 1544.91 L1781.15 1544.91 L1781.15 1548.85 L1759.21 1548.85 L1759.21 1544.91 Q1761.87 1542.16 1766.45 1537.53 Q1771.06 1532.88 1772.24 1531.53 Q1774.49 1529.01 1775.36 1527.27 Q1776.27 1525.51 1776.27 1523.82 Q1776.27 1521.07 1774.32 1519.33 Q1772.4 1517.6 1769.3 1517.6 Q1767.1 1517.6 1764.65 1518.36 Q1762.22 1519.13 1759.44 1520.68 L1759.44 1515.95 Q1762.26 1514.82 1764.72 1514.24 Q1767.17 1513.66 1769.21 1513.66 Q1774.58 1513.66 1777.77 1516.35 Q1780.97 1519.03 1780.97 1523.52 Q1780.97 1525.65 1780.16 1527.57 Q1779.37 1529.47 1777.26 1532.07 Q1776.68 1532.74 1773.58 1535.95 Q1770.48 1539.15 1764.83 1544.91 Z\" fill=\"#000000\" fill-rule=\"nonzero\" fill-opacity=\"1\" /><path clip-path=\"url(#clip380)\" d=\"M1790.97 1542.97 L1795.85 1542.97 L1795.85 1548.85 L1790.97 1548.85 L1790.97 1542.97 Z\" fill=\"#000000\" fill-rule=\"nonzero\" fill-opacity=\"1\" /><path clip-path=\"url(#clip380)\" d=\"M1816.04 1517.37 Q1812.42 1517.37 1810.6 1520.93 Q1808.79 1524.47 1808.79 1531.6 Q1808.79 1538.71 1810.6 1542.27 Q1812.42 1545.82 1816.04 1545.82 Q1819.67 1545.82 1821.48 1542.27 Q1823.3 1538.71 1823.3 1531.6 Q1823.3 1524.47 1821.48 1520.93 Q1819.67 1517.37 1816.04 1517.37 M1816.04 1513.66 Q1821.85 1513.66 1824.9 1518.27 Q1827.98 1522.85 1827.98 1531.6 Q1827.98 1540.33 1824.9 1544.94 Q1821.85 1549.52 1816.04 1549.52 Q1810.23 1549.52 1807.15 1544.94 Q1804.09 1540.33 1804.09 1531.6 Q1804.09 1522.85 1807.15 1518.27 Q1810.23 1513.66 1816.04 1513.66 Z\" fill=\"#000000\" fill-rule=\"nonzero\" fill-opacity=\"1\" /><path clip-path=\"url(#clip380)\" d=\"M2312.2 1544.91 L2328.52 1544.91 L2328.52 1548.85 L2306.57 1548.85 L2306.57 1544.91 Q2309.24 1542.16 2313.82 1537.53 Q2318.43 1532.88 2319.61 1531.53 Q2321.85 1529.01 2322.73 1527.27 Q2323.63 1525.51 2323.63 1523.82 Q2323.63 1521.07 2321.69 1519.33 Q2319.77 1517.6 2316.67 1517.6 Q2314.47 1517.6 2312.01 1518.36 Q2309.58 1519.13 2306.81 1520.68 L2306.81 1515.95 Q2309.63 1514.82 2312.08 1514.24 Q2314.54 1513.66 2316.57 1513.66 Q2321.94 1513.66 2325.14 1516.35 Q2328.33 1519.03 2328.33 1523.52 Q2328.33 1525.65 2327.52 1527.57 Q2326.74 1529.47 2324.63 1532.07 Q2324.05 1532.74 2320.95 1535.95 Q2317.85 1539.15 2312.2 1544.91 Z\" fill=\"#000000\" fill-rule=\"nonzero\" fill-opacity=\"1\" /><path clip-path=\"url(#clip380)\" d=\"M2338.33 1542.97 L2343.22 1542.97 L2343.22 1548.85 L2338.33 1548.85 L2338.33 1542.97 Z\" fill=\"#000000\" fill-rule=\"nonzero\" fill-opacity=\"1\" /><path clip-path=\"url(#clip380)\" d=\"M2353.45 1514.29 L2371.8 1514.29 L2371.8 1518.22 L2357.73 1518.22 L2357.73 1526.7 Q2358.75 1526.35 2359.77 1526.19 Q2360.79 1526 2361.8 1526 Q2367.59 1526 2370.97 1529.17 Q2374.35 1532.34 2374.35 1537.76 Q2374.35 1543.34 2370.88 1546.44 Q2367.41 1549.52 2361.09 1549.52 Q2358.91 1549.52 2356.64 1549.15 Q2354.4 1548.78 2351.99 1548.04 L2351.99 1543.34 Q2354.07 1544.47 2356.3 1545.03 Q2358.52 1545.58 2360.99 1545.58 Q2365 1545.58 2367.34 1543.48 Q2369.68 1541.37 2369.68 1537.76 Q2369.68 1534.15 2367.34 1532.04 Q2365 1529.94 2360.99 1529.94 Q2359.12 1529.94 2357.24 1530.35 Q2355.39 1530.77 2353.45 1531.65 L2353.45 1514.29 Z\" fill=\"#000000\" fill-rule=\"nonzero\" fill-opacity=\"1\" /><polyline clip-path=\"url(#clip382)\" style=\"stroke:#000000; stroke-linecap:round; stroke-linejoin:round; stroke-width:2; stroke-opacity:0.1; fill:none\" points=\"140.696,1486.45 2352.76,1486.45 \"/>\n",
       "<polyline clip-path=\"url(#clip382)\" style=\"stroke:#000000; stroke-linecap:round; stroke-linejoin:round; stroke-width:2; stroke-opacity:0.1; fill:none\" points=\"140.696,1188.93 2352.76,1188.93 \"/>\n",
       "<polyline clip-path=\"url(#clip382)\" style=\"stroke:#000000; stroke-linecap:round; stroke-linejoin:round; stroke-width:2; stroke-opacity:0.1; fill:none\" points=\"140.696,891.416 2352.76,891.416 \"/>\n",
       "<polyline clip-path=\"url(#clip382)\" style=\"stroke:#000000; stroke-linecap:round; stroke-linejoin:round; stroke-width:2; stroke-opacity:0.1; fill:none\" points=\"140.696,593.901 2352.76,593.901 \"/>\n",
       "<polyline clip-path=\"url(#clip382)\" style=\"stroke:#000000; stroke-linecap:round; stroke-linejoin:round; stroke-width:2; stroke-opacity:0.1; fill:none\" points=\"140.696,296.385 2352.76,296.385 \"/>\n",
       "<polyline clip-path=\"url(#clip380)\" style=\"stroke:#000000; stroke-linecap:round; stroke-linejoin:round; stroke-width:4; stroke-opacity:1; fill:none\" points=\"140.696,1486.45 140.696,47.2441 \"/>\n",
       "<polyline clip-path=\"url(#clip380)\" style=\"stroke:#000000; stroke-linecap:round; stroke-linejoin:round; stroke-width:4; stroke-opacity:1; fill:none\" points=\"140.696,1486.45 159.593,1486.45 \"/>\n",
       "<polyline clip-path=\"url(#clip380)\" style=\"stroke:#000000; stroke-linecap:round; stroke-linejoin:round; stroke-width:4; stroke-opacity:1; fill:none\" points=\"140.696,1188.93 159.593,1188.93 \"/>\n",
       "<polyline clip-path=\"url(#clip380)\" style=\"stroke:#000000; stroke-linecap:round; stroke-linejoin:round; stroke-width:4; stroke-opacity:1; fill:none\" points=\"140.696,891.416 159.593,891.416 \"/>\n",
       "<polyline clip-path=\"url(#clip380)\" style=\"stroke:#000000; stroke-linecap:round; stroke-linejoin:round; stroke-width:4; stroke-opacity:1; fill:none\" points=\"140.696,593.901 159.593,593.901 \"/>\n",
       "<polyline clip-path=\"url(#clip380)\" style=\"stroke:#000000; stroke-linecap:round; stroke-linejoin:round; stroke-width:4; stroke-opacity:1; fill:none\" points=\"140.696,296.385 159.593,296.385 \"/>\n",
       "<path clip-path=\"url(#clip380)\" d=\"M92.7512 1472.25 Q89.1401 1472.25 87.3114 1475.81 Q85.5058 1479.35 85.5058 1486.48 Q85.5058 1493.59 87.3114 1497.15 Q89.1401 1500.7 92.7512 1500.7 Q96.3854 1500.7 98.1909 1497.15 Q100.02 1493.59 100.02 1486.48 Q100.02 1479.35 98.1909 1475.81 Q96.3854 1472.25 92.7512 1472.25 M92.7512 1468.54 Q98.5613 1468.54 101.617 1473.15 Q104.696 1477.73 104.696 1486.48 Q104.696 1495.21 101.617 1499.82 Q98.5613 1504.4 92.7512 1504.4 Q86.941 1504.4 83.8623 1499.82 Q80.8068 1495.21 80.8068 1486.48 Q80.8068 1477.73 83.8623 1473.15 Q86.941 1468.54 92.7512 1468.54 Z\" fill=\"#000000\" fill-rule=\"nonzero\" fill-opacity=\"1\" /><path clip-path=\"url(#clip380)\" d=\"M83.7929 1171.65 L102.149 1171.65 L102.149 1175.59 L88.0753 1175.59 L88.0753 1184.06 Q89.0938 1183.71 90.1123 1183.55 Q91.1308 1183.37 92.1493 1183.37 Q97.9363 1183.37 101.316 1186.54 Q104.696 1189.71 104.696 1195.12 Q104.696 1200.7 101.223 1203.8 Q97.7511 1206.88 91.4317 1206.88 Q89.2558 1206.88 86.9873 1206.51 Q84.7419 1206.14 82.3346 1205.4 L82.3346 1200.7 Q84.4179 1201.84 86.6401 1202.39 Q88.8623 1202.95 91.3391 1202.95 Q95.3437 1202.95 97.6817 1200.84 Q100.02 1198.74 100.02 1195.12 Q100.02 1191.51 97.6817 1189.41 Q95.3437 1187.3 91.3391 1187.3 Q89.4641 1187.3 87.5892 1187.72 Q85.7373 1188.13 83.7929 1189.01 L83.7929 1171.65 Z\" fill=\"#000000\" fill-rule=\"nonzero\" fill-opacity=\"1\" /><path clip-path=\"url(#clip380)\" d=\"M53.3995 904.761 L61.0384 904.761 L61.0384 878.396 L52.7282 880.062 L52.7282 875.803 L60.9921 874.136 L65.668 874.136 L65.668 904.761 L73.3068 904.761 L73.3068 908.696 L53.3995 908.696 L53.3995 904.761 Z\" fill=\"#000000\" fill-rule=\"nonzero\" fill-opacity=\"1\" /><path clip-path=\"url(#clip380)\" d=\"M92.7512 877.215 Q89.1401 877.215 87.3114 880.78 Q85.5058 884.321 85.5058 891.451 Q85.5058 898.558 87.3114 902.122 Q89.1401 905.664 92.7512 905.664 Q96.3854 905.664 98.1909 902.122 Q100.02 898.558 100.02 891.451 Q100.02 884.321 98.1909 880.78 Q96.3854 877.215 92.7512 877.215 M92.7512 873.511 Q98.5613 873.511 101.617 878.118 Q104.696 882.701 104.696 891.451 Q104.696 900.178 101.617 904.784 Q98.5613 909.368 92.7512 909.368 Q86.941 909.368 83.8623 904.784 Q80.8068 900.178 80.8068 891.451 Q80.8068 882.701 83.8623 878.118 Q86.941 873.511 92.7512 873.511 Z\" fill=\"#000000\" fill-rule=\"nonzero\" fill-opacity=\"1\" /><path clip-path=\"url(#clip380)\" d=\"M54.3949 607.245 L62.0337 607.245 L62.0337 580.88 L53.7236 582.546 L53.7236 578.287 L61.9874 576.621 L66.6633 576.621 L66.6633 607.245 L74.3022 607.245 L74.3022 611.181 L54.3949 611.181 L54.3949 607.245 Z\" fill=\"#000000\" fill-rule=\"nonzero\" fill-opacity=\"1\" /><path clip-path=\"url(#clip380)\" d=\"M83.7929 576.621 L102.149 576.621 L102.149 580.556 L88.0753 580.556 L88.0753 589.028 Q89.0938 588.681 90.1123 588.519 Q91.1308 588.333 92.1493 588.333 Q97.9363 588.333 101.316 591.505 Q104.696 594.676 104.696 600.093 Q104.696 605.671 101.223 608.773 Q97.7511 611.852 91.4317 611.852 Q89.2558 611.852 86.9873 611.482 Q84.7419 611.111 82.3346 610.37 L82.3346 605.671 Q84.4179 606.806 86.6401 607.361 Q88.8623 607.917 91.3391 607.917 Q95.3437 607.917 97.6817 605.81 Q100.02 603.704 100.02 600.093 Q100.02 596.482 97.6817 594.375 Q95.3437 592.269 91.3391 592.269 Q89.4641 592.269 87.5892 592.685 Q85.7373 593.102 83.7929 593.982 L83.7929 576.621 Z\" fill=\"#000000\" fill-rule=\"nonzero\" fill-opacity=\"1\" /><path clip-path=\"url(#clip380)\" d=\"M56.6171 309.73 L72.9365 309.73 L72.9365 313.665 L50.9921 313.665 L50.9921 309.73 Q53.6541 306.975 58.2375 302.345 Q62.8439 297.693 64.0245 296.35 Q66.2698 293.827 67.1494 292.091 Q68.0522 290.332 68.0522 288.642 Q68.0522 285.887 66.1078 284.151 Q64.1865 282.415 61.0847 282.415 Q58.8856 282.415 56.4319 283.179 Q54.0014 283.943 51.2236 285.494 L51.2236 280.771 Q54.0477 279.637 56.5014 279.059 Q58.955 278.48 60.9921 278.48 Q66.3624 278.48 69.5568 281.165 Q72.7513 283.85 72.7513 288.341 Q72.7513 290.47 71.9411 292.392 Q71.1541 294.29 69.0476 296.883 Q68.4689 297.554 65.367 300.771 Q62.2652 303.966 56.6171 309.73 Z\" fill=\"#000000\" fill-rule=\"nonzero\" fill-opacity=\"1\" /><path clip-path=\"url(#clip380)\" d=\"M92.7512 282.184 Q89.1401 282.184 87.3114 285.748 Q85.5058 289.29 85.5058 296.42 Q85.5058 303.526 87.3114 307.091 Q89.1401 310.632 92.7512 310.632 Q96.3854 310.632 98.1909 307.091 Q100.02 303.526 100.02 296.42 Q100.02 289.29 98.1909 285.748 Q96.3854 282.184 92.7512 282.184 M92.7512 278.48 Q98.5613 278.48 101.617 283.086 Q104.696 287.67 104.696 296.42 Q104.696 305.146 101.617 309.753 Q98.5613 314.336 92.7512 314.336 Q86.941 314.336 83.8623 309.753 Q80.8068 305.146 80.8068 296.42 Q80.8068 287.67 83.8623 283.086 Q86.941 278.48 92.7512 278.48 Z\" fill=\"#000000\" fill-rule=\"nonzero\" fill-opacity=\"1\" /><path clip-path=\"url(#clip382)\" d=\"M262.363 47.2441 L262.363 1486.45 L1137.35 1486.45 L1137.35 47.2441 L262.363 47.2441 L262.363 47.2441  Z\" fill=\"#009af9\" fill-rule=\"evenodd\" fill-opacity=\"1\"/>\n",
       "<polyline clip-path=\"url(#clip382)\" style=\"stroke:#000000; stroke-linecap:round; stroke-linejoin:round; stroke-width:4; stroke-opacity:1; fill:none\" points=\"262.363,47.2441 262.363,1486.45 1137.35,1486.45 1137.35,47.2441 262.363,47.2441 \"/>\n",
       "<path clip-path=\"url(#clip382)\" d=\"M1356.1 47.2441 L1356.1 1486.45 L2231.09 1486.45 L2231.09 47.2441 L1356.1 47.2441 L1356.1 47.2441  Z\" fill=\"#009af9\" fill-rule=\"evenodd\" fill-opacity=\"1\"/>\n",
       "<polyline clip-path=\"url(#clip382)\" style=\"stroke:#000000; stroke-linecap:round; stroke-linejoin:round; stroke-width:4; stroke-opacity:1; fill:none\" points=\"1356.1,47.2441 1356.1,1486.45 2231.09,1486.45 2231.09,47.2441 1356.1,47.2441 \"/>\n",
       "<circle clip-path=\"url(#clip382)\" style=\"fill:#009af9; stroke:none; fill-opacity:0\" cx=\"699.857\" cy=\"47.2441\" r=\"2\"/>\n",
       "<circle clip-path=\"url(#clip382)\" style=\"fill:#009af9; stroke:none; fill-opacity:0\" cx=\"1793.59\" cy=\"47.2441\" r=\"2\"/>\n",
       "<path clip-path=\"url(#clip380)\" d=\"M2005.38 198.898 L2279.02 198.898 L2279.02 95.2176 L2005.38 95.2176  Z\" fill=\"#ffffff\" fill-rule=\"evenodd\" fill-opacity=\"1\"/>\n",
       "<polyline clip-path=\"url(#clip380)\" style=\"stroke:#000000; stroke-linecap:round; stroke-linejoin:round; stroke-width:4; stroke-opacity:1; fill:none\" points=\"2005.38,198.898 2279.02,198.898 2279.02,95.2176 2005.38,95.2176 2005.38,198.898 \"/>\n",
       "<path clip-path=\"url(#clip380)\" d=\"M2029.96 167.794 L2177.43 167.794 L2177.43 126.322 L2029.96 126.322 L2029.96 167.794  Z\" fill=\"#009af9\" fill-rule=\"evenodd\" fill-opacity=\"1\"/>\n",
       "<polyline clip-path=\"url(#clip380)\" style=\"stroke:#000000; stroke-linecap:round; stroke-linejoin:round; stroke-width:4; stroke-opacity:1; fill:none\" points=\"2029.96,167.794 2177.43,167.794 2177.43,126.322 2029.96,126.322 2029.96,167.794 \"/>\n",
       "<path clip-path=\"url(#clip380)\" d=\"M2215.85 166.745 Q2214.05 171.375 2212.34 172.787 Q2210.62 174.199 2207.75 174.199 L2204.35 174.199 L2204.35 170.634 L2206.85 170.634 Q2208.61 170.634 2209.58 169.8 Q2210.55 168.967 2211.73 165.865 L2212.5 163.921 L2202.01 138.412 L2206.53 138.412 L2214.63 158.689 L2222.73 138.412 L2227.24 138.412 L2215.85 166.745 Z\" fill=\"#000000\" fill-rule=\"nonzero\" fill-opacity=\"1\" /><path clip-path=\"url(#clip380)\" d=\"M2234.53 160.402 L2242.17 160.402 L2242.17 134.037 L2233.86 135.703 L2233.86 131.444 L2242.13 129.778 L2246.8 129.778 L2246.8 160.402 L2254.44 160.402 L2254.44 164.338 L2234.53 164.338 L2234.53 160.402 Z\" fill=\"#000000\" fill-rule=\"nonzero\" fill-opacity=\"1\" /></svg>\n"
      ],
      "text/html": [
       "<?xml version=\"1.0\" encoding=\"utf-8\"?>\n",
       "<svg xmlns=\"http://www.w3.org/2000/svg\" xmlns:xlink=\"http://www.w3.org/1999/xlink\" width=\"600\" height=\"400\" viewBox=\"0 0 2400 1600\">\n",
       "<defs>\n",
       "  <clipPath id=\"clip430\">\n",
       "    <rect x=\"0\" y=\"0\" width=\"2400\" height=\"1600\"/>\n",
       "  </clipPath>\n",
       "</defs>\n",
       "<path clip-path=\"url(#clip430)\" d=\"M0 1600 L2400 1600 L2400 0 L0 0  Z\" fill=\"#ffffff\" fill-rule=\"evenodd\" fill-opacity=\"1\"/>\n",
       "<defs>\n",
       "  <clipPath id=\"clip431\">\n",
       "    <rect x=\"480\" y=\"0\" width=\"1681\" height=\"1600\"/>\n",
       "  </clipPath>\n",
       "</defs>\n",
       "<path clip-path=\"url(#clip430)\" d=\"M140.696 1486.45 L2352.76 1486.45 L2352.76 47.2441 L140.696 47.2441  Z\" fill=\"#ffffff\" fill-rule=\"evenodd\" fill-opacity=\"1\"/>\n",
       "<defs>\n",
       "  <clipPath id=\"clip432\">\n",
       "    <rect x=\"140\" y=\"47\" width=\"2213\" height=\"1440\"/>\n",
       "  </clipPath>\n",
       "</defs>\n",
       "<polyline clip-path=\"url(#clip432)\" style=\"stroke:#000000; stroke-linecap:round; stroke-linejoin:round; stroke-width:2; stroke-opacity:0.1; fill:none\" points=\"152.989,1486.45 152.989,47.2441 \"/>\n",
       "<polyline clip-path=\"url(#clip432)\" style=\"stroke:#000000; stroke-linecap:round; stroke-linejoin:round; stroke-width:2; stroke-opacity:0.1; fill:none\" points=\"699.857,1486.45 699.857,47.2441 \"/>\n",
       "<polyline clip-path=\"url(#clip432)\" style=\"stroke:#000000; stroke-linecap:round; stroke-linejoin:round; stroke-width:2; stroke-opacity:0.1; fill:none\" points=\"1246.73,1486.45 1246.73,47.2441 \"/>\n",
       "<polyline clip-path=\"url(#clip432)\" style=\"stroke:#000000; stroke-linecap:round; stroke-linejoin:round; stroke-width:2; stroke-opacity:0.1; fill:none\" points=\"1793.59,1486.45 1793.59,47.2441 \"/>\n",
       "<polyline clip-path=\"url(#clip432)\" style=\"stroke:#000000; stroke-linecap:round; stroke-linejoin:round; stroke-width:2; stroke-opacity:0.1; fill:none\" points=\"2340.46,1486.45 2340.46,47.2441 \"/>\n",
       "<polyline clip-path=\"url(#clip430)\" style=\"stroke:#000000; stroke-linecap:round; stroke-linejoin:round; stroke-width:4; stroke-opacity:1; fill:none\" points=\"140.696,1486.45 2352.76,1486.45 \"/>\n",
       "<polyline clip-path=\"url(#clip430)\" style=\"stroke:#000000; stroke-linecap:round; stroke-linejoin:round; stroke-width:4; stroke-opacity:1; fill:none\" points=\"152.989,1486.45 152.989,1467.55 \"/>\n",
       "<polyline clip-path=\"url(#clip430)\" style=\"stroke:#000000; stroke-linecap:round; stroke-linejoin:round; stroke-width:4; stroke-opacity:1; fill:none\" points=\"699.857,1486.45 699.857,1467.55 \"/>\n",
       "<polyline clip-path=\"url(#clip430)\" style=\"stroke:#000000; stroke-linecap:round; stroke-linejoin:round; stroke-width:4; stroke-opacity:1; fill:none\" points=\"1246.73,1486.45 1246.73,1467.55 \"/>\n",
       "<polyline clip-path=\"url(#clip430)\" style=\"stroke:#000000; stroke-linecap:round; stroke-linejoin:round; stroke-width:4; stroke-opacity:1; fill:none\" points=\"1793.59,1486.45 1793.59,1467.55 \"/>\n",
       "<polyline clip-path=\"url(#clip430)\" style=\"stroke:#000000; stroke-linecap:round; stroke-linejoin:round; stroke-width:4; stroke-opacity:1; fill:none\" points=\"2340.46,1486.45 2340.46,1467.55 \"/>\n",
       "<path clip-path=\"url(#clip430)\" d=\"M130.871 1517.37 Q127.26 1517.37 125.431 1520.93 Q123.626 1524.47 123.626 1531.6 Q123.626 1538.71 125.431 1542.27 Q127.26 1545.82 130.871 1545.82 Q134.505 1545.82 136.311 1542.27 Q138.14 1538.71 138.14 1531.6 Q138.14 1524.47 136.311 1520.93 Q134.505 1517.37 130.871 1517.37 M130.871 1513.66 Q136.681 1513.66 139.737 1518.27 Q142.816 1522.85 142.816 1531.6 Q142.816 1540.33 139.737 1544.94 Q136.681 1549.52 130.871 1549.52 Q125.061 1549.52 121.982 1544.94 Q118.927 1540.33 118.927 1531.6 Q118.927 1522.85 121.982 1518.27 Q125.061 1513.66 130.871 1513.66 Z\" fill=\"#000000\" fill-rule=\"nonzero\" fill-opacity=\"1\" /><path clip-path=\"url(#clip430)\" d=\"M151.033 1542.97 L155.917 1542.97 L155.917 1548.85 L151.033 1548.85 L151.033 1542.97 Z\" fill=\"#000000\" fill-rule=\"nonzero\" fill-opacity=\"1\" /><path clip-path=\"url(#clip430)\" d=\"M166.149 1514.29 L184.505 1514.29 L184.505 1518.22 L170.431 1518.22 L170.431 1526.7 Q171.45 1526.35 172.468 1526.19 Q173.487 1526 174.505 1526 Q180.292 1526 183.672 1529.17 Q187.051 1532.34 187.051 1537.76 Q187.051 1543.34 183.579 1546.44 Q180.107 1549.52 173.788 1549.52 Q171.612 1549.52 169.343 1549.15 Q167.098 1548.78 164.69 1548.04 L164.69 1543.34 Q166.774 1544.47 168.996 1545.03 Q171.218 1545.58 173.695 1545.58 Q177.7 1545.58 180.038 1543.48 Q182.376 1541.37 182.376 1537.76 Q182.376 1534.15 180.038 1532.04 Q177.7 1529.94 173.695 1529.94 Q171.82 1529.94 169.945 1530.35 Q168.093 1530.77 166.149 1531.65 L166.149 1514.29 Z\" fill=\"#000000\" fill-rule=\"nonzero\" fill-opacity=\"1\" /><path clip-path=\"url(#clip430)\" d=\"M667.01 1544.91 L674.649 1544.91 L674.649 1518.55 L666.339 1520.21 L666.339 1515.95 L674.603 1514.29 L679.279 1514.29 L679.279 1544.91 L686.918 1544.91 L686.918 1548.85 L667.01 1548.85 L667.01 1544.91 Z\" fill=\"#000000\" fill-rule=\"nonzero\" fill-opacity=\"1\" /><path clip-path=\"url(#clip430)\" d=\"M696.362 1542.97 L701.246 1542.97 L701.246 1548.85 L696.362 1548.85 L696.362 1542.97 Z\" fill=\"#000000\" fill-rule=\"nonzero\" fill-opacity=\"1\" /><path clip-path=\"url(#clip430)\" d=\"M721.431 1517.37 Q717.82 1517.37 715.992 1520.93 Q714.186 1524.47 714.186 1531.6 Q714.186 1538.71 715.992 1542.27 Q717.82 1545.82 721.431 1545.82 Q725.066 1545.82 726.871 1542.27 Q728.7 1538.71 728.7 1531.6 Q728.7 1524.47 726.871 1520.93 Q725.066 1517.37 721.431 1517.37 M721.431 1513.66 Q727.242 1513.66 730.297 1518.27 Q733.376 1522.85 733.376 1531.6 Q733.376 1540.33 730.297 1544.94 Q727.242 1549.52 721.431 1549.52 Q715.621 1549.52 712.543 1544.94 Q709.487 1540.33 709.487 1531.6 Q709.487 1522.85 712.543 1518.27 Q715.621 1513.66 721.431 1513.66 Z\" fill=\"#000000\" fill-rule=\"nonzero\" fill-opacity=\"1\" /><path clip-path=\"url(#clip430)\" d=\"M1214.38 1544.91 L1222.02 1544.91 L1222.02 1518.55 L1213.71 1520.21 L1213.71 1515.95 L1221.97 1514.29 L1226.64 1514.29 L1226.64 1544.91 L1234.28 1544.91 L1234.28 1548.85 L1214.38 1548.85 L1214.38 1544.91 Z\" fill=\"#000000\" fill-rule=\"nonzero\" fill-opacity=\"1\" /><path clip-path=\"url(#clip430)\" d=\"M1243.73 1542.97 L1248.61 1542.97 L1248.61 1548.85 L1243.73 1548.85 L1243.73 1542.97 Z\" fill=\"#000000\" fill-rule=\"nonzero\" fill-opacity=\"1\" /><path clip-path=\"url(#clip430)\" d=\"M1258.84 1514.29 L1277.2 1514.29 L1277.2 1518.22 L1263.13 1518.22 L1263.13 1526.7 Q1264.14 1526.35 1265.16 1526.19 Q1266.18 1526 1267.2 1526 Q1272.99 1526 1276.37 1529.17 Q1279.75 1532.34 1279.75 1537.76 Q1279.75 1543.34 1276.27 1546.44 Q1272.8 1549.52 1266.48 1549.52 Q1264.31 1549.52 1262.04 1549.15 Q1259.79 1548.78 1257.39 1548.04 L1257.39 1543.34 Q1259.47 1544.47 1261.69 1545.03 Q1263.91 1545.58 1266.39 1545.58 Q1270.39 1545.58 1272.73 1543.48 Q1275.07 1541.37 1275.07 1537.76 Q1275.07 1534.15 1272.73 1532.04 Q1270.39 1529.94 1266.39 1529.94 Q1264.51 1529.94 1262.64 1530.35 Q1260.79 1530.77 1258.84 1531.65 L1258.84 1514.29 Z\" fill=\"#000000\" fill-rule=\"nonzero\" fill-opacity=\"1\" /><path clip-path=\"url(#clip430)\" d=\"M1764.83 1544.91 L1781.15 1544.91 L1781.15 1548.85 L1759.21 1548.85 L1759.21 1544.91 Q1761.87 1542.16 1766.45 1537.53 Q1771.06 1532.88 1772.24 1531.53 Q1774.49 1529.01 1775.36 1527.27 Q1776.27 1525.51 1776.27 1523.82 Q1776.27 1521.07 1774.32 1519.33 Q1772.4 1517.6 1769.3 1517.6 Q1767.1 1517.6 1764.65 1518.36 Q1762.22 1519.13 1759.44 1520.68 L1759.44 1515.95 Q1762.26 1514.82 1764.72 1514.24 Q1767.17 1513.66 1769.21 1513.66 Q1774.58 1513.66 1777.77 1516.35 Q1780.97 1519.03 1780.97 1523.52 Q1780.97 1525.65 1780.16 1527.57 Q1779.37 1529.47 1777.26 1532.07 Q1776.68 1532.74 1773.58 1535.95 Q1770.48 1539.15 1764.83 1544.91 Z\" fill=\"#000000\" fill-rule=\"nonzero\" fill-opacity=\"1\" /><path clip-path=\"url(#clip430)\" d=\"M1790.97 1542.97 L1795.85 1542.97 L1795.85 1548.85 L1790.97 1548.85 L1790.97 1542.97 Z\" fill=\"#000000\" fill-rule=\"nonzero\" fill-opacity=\"1\" /><path clip-path=\"url(#clip430)\" d=\"M1816.04 1517.37 Q1812.42 1517.37 1810.6 1520.93 Q1808.79 1524.47 1808.79 1531.6 Q1808.79 1538.71 1810.6 1542.27 Q1812.42 1545.82 1816.04 1545.82 Q1819.67 1545.82 1821.48 1542.27 Q1823.3 1538.71 1823.3 1531.6 Q1823.3 1524.47 1821.48 1520.93 Q1819.67 1517.37 1816.04 1517.37 M1816.04 1513.66 Q1821.85 1513.66 1824.9 1518.27 Q1827.98 1522.85 1827.98 1531.6 Q1827.98 1540.33 1824.9 1544.94 Q1821.85 1549.52 1816.04 1549.52 Q1810.23 1549.52 1807.15 1544.94 Q1804.09 1540.33 1804.09 1531.6 Q1804.09 1522.85 1807.15 1518.27 Q1810.23 1513.66 1816.04 1513.66 Z\" fill=\"#000000\" fill-rule=\"nonzero\" fill-opacity=\"1\" /><path clip-path=\"url(#clip430)\" d=\"M2312.2 1544.91 L2328.52 1544.91 L2328.52 1548.85 L2306.57 1548.85 L2306.57 1544.91 Q2309.24 1542.16 2313.82 1537.53 Q2318.43 1532.88 2319.61 1531.53 Q2321.85 1529.01 2322.73 1527.27 Q2323.63 1525.51 2323.63 1523.82 Q2323.63 1521.07 2321.69 1519.33 Q2319.77 1517.6 2316.67 1517.6 Q2314.47 1517.6 2312.01 1518.36 Q2309.58 1519.13 2306.81 1520.68 L2306.81 1515.95 Q2309.63 1514.82 2312.08 1514.24 Q2314.54 1513.66 2316.57 1513.66 Q2321.94 1513.66 2325.14 1516.35 Q2328.33 1519.03 2328.33 1523.52 Q2328.33 1525.65 2327.52 1527.57 Q2326.74 1529.47 2324.63 1532.07 Q2324.05 1532.74 2320.95 1535.95 Q2317.85 1539.15 2312.2 1544.91 Z\" fill=\"#000000\" fill-rule=\"nonzero\" fill-opacity=\"1\" /><path clip-path=\"url(#clip430)\" d=\"M2338.33 1542.97 L2343.22 1542.97 L2343.22 1548.85 L2338.33 1548.85 L2338.33 1542.97 Z\" fill=\"#000000\" fill-rule=\"nonzero\" fill-opacity=\"1\" /><path clip-path=\"url(#clip430)\" d=\"M2353.45 1514.29 L2371.8 1514.29 L2371.8 1518.22 L2357.73 1518.22 L2357.73 1526.7 Q2358.75 1526.35 2359.77 1526.19 Q2360.79 1526 2361.8 1526 Q2367.59 1526 2370.97 1529.17 Q2374.35 1532.34 2374.35 1537.76 Q2374.35 1543.34 2370.88 1546.44 Q2367.41 1549.52 2361.09 1549.52 Q2358.91 1549.52 2356.64 1549.15 Q2354.4 1548.78 2351.99 1548.04 L2351.99 1543.34 Q2354.07 1544.47 2356.3 1545.03 Q2358.52 1545.58 2360.99 1545.58 Q2365 1545.58 2367.34 1543.48 Q2369.68 1541.37 2369.68 1537.76 Q2369.68 1534.15 2367.34 1532.04 Q2365 1529.94 2360.99 1529.94 Q2359.12 1529.94 2357.24 1530.35 Q2355.39 1530.77 2353.45 1531.65 L2353.45 1514.29 Z\" fill=\"#000000\" fill-rule=\"nonzero\" fill-opacity=\"1\" /><polyline clip-path=\"url(#clip432)\" style=\"stroke:#000000; stroke-linecap:round; stroke-linejoin:round; stroke-width:2; stroke-opacity:0.1; fill:none\" points=\"140.696,1486.45 2352.76,1486.45 \"/>\n",
       "<polyline clip-path=\"url(#clip432)\" style=\"stroke:#000000; stroke-linecap:round; stroke-linejoin:round; stroke-width:2; stroke-opacity:0.1; fill:none\" points=\"140.696,1188.93 2352.76,1188.93 \"/>\n",
       "<polyline clip-path=\"url(#clip432)\" style=\"stroke:#000000; stroke-linecap:round; stroke-linejoin:round; stroke-width:2; stroke-opacity:0.1; fill:none\" points=\"140.696,891.416 2352.76,891.416 \"/>\n",
       "<polyline clip-path=\"url(#clip432)\" style=\"stroke:#000000; stroke-linecap:round; stroke-linejoin:round; stroke-width:2; stroke-opacity:0.1; fill:none\" points=\"140.696,593.901 2352.76,593.901 \"/>\n",
       "<polyline clip-path=\"url(#clip432)\" style=\"stroke:#000000; stroke-linecap:round; stroke-linejoin:round; stroke-width:2; stroke-opacity:0.1; fill:none\" points=\"140.696,296.385 2352.76,296.385 \"/>\n",
       "<polyline clip-path=\"url(#clip430)\" style=\"stroke:#000000; stroke-linecap:round; stroke-linejoin:round; stroke-width:4; stroke-opacity:1; fill:none\" points=\"140.696,1486.45 140.696,47.2441 \"/>\n",
       "<polyline clip-path=\"url(#clip430)\" style=\"stroke:#000000; stroke-linecap:round; stroke-linejoin:round; stroke-width:4; stroke-opacity:1; fill:none\" points=\"140.696,1486.45 159.593,1486.45 \"/>\n",
       "<polyline clip-path=\"url(#clip430)\" style=\"stroke:#000000; stroke-linecap:round; stroke-linejoin:round; stroke-width:4; stroke-opacity:1; fill:none\" points=\"140.696,1188.93 159.593,1188.93 \"/>\n",
       "<polyline clip-path=\"url(#clip430)\" style=\"stroke:#000000; stroke-linecap:round; stroke-linejoin:round; stroke-width:4; stroke-opacity:1; fill:none\" points=\"140.696,891.416 159.593,891.416 \"/>\n",
       "<polyline clip-path=\"url(#clip430)\" style=\"stroke:#000000; stroke-linecap:round; stroke-linejoin:round; stroke-width:4; stroke-opacity:1; fill:none\" points=\"140.696,593.901 159.593,593.901 \"/>\n",
       "<polyline clip-path=\"url(#clip430)\" style=\"stroke:#000000; stroke-linecap:round; stroke-linejoin:round; stroke-width:4; stroke-opacity:1; fill:none\" points=\"140.696,296.385 159.593,296.385 \"/>\n",
       "<path clip-path=\"url(#clip430)\" d=\"M92.7512 1472.25 Q89.1401 1472.25 87.3114 1475.81 Q85.5058 1479.35 85.5058 1486.48 Q85.5058 1493.59 87.3114 1497.15 Q89.1401 1500.7 92.7512 1500.7 Q96.3854 1500.7 98.1909 1497.15 Q100.02 1493.59 100.02 1486.48 Q100.02 1479.35 98.1909 1475.81 Q96.3854 1472.25 92.7512 1472.25 M92.7512 1468.54 Q98.5613 1468.54 101.617 1473.15 Q104.696 1477.73 104.696 1486.48 Q104.696 1495.21 101.617 1499.82 Q98.5613 1504.4 92.7512 1504.4 Q86.941 1504.4 83.8623 1499.82 Q80.8068 1495.21 80.8068 1486.48 Q80.8068 1477.73 83.8623 1473.15 Q86.941 1468.54 92.7512 1468.54 Z\" fill=\"#000000\" fill-rule=\"nonzero\" fill-opacity=\"1\" /><path clip-path=\"url(#clip430)\" d=\"M83.7929 1171.65 L102.149 1171.65 L102.149 1175.59 L88.0753 1175.59 L88.0753 1184.06 Q89.0938 1183.71 90.1123 1183.55 Q91.1308 1183.37 92.1493 1183.37 Q97.9363 1183.37 101.316 1186.54 Q104.696 1189.71 104.696 1195.12 Q104.696 1200.7 101.223 1203.8 Q97.7511 1206.88 91.4317 1206.88 Q89.2558 1206.88 86.9873 1206.51 Q84.7419 1206.14 82.3346 1205.4 L82.3346 1200.7 Q84.4179 1201.84 86.6401 1202.39 Q88.8623 1202.95 91.3391 1202.95 Q95.3437 1202.95 97.6817 1200.84 Q100.02 1198.74 100.02 1195.12 Q100.02 1191.51 97.6817 1189.41 Q95.3437 1187.3 91.3391 1187.3 Q89.4641 1187.3 87.5892 1187.72 Q85.7373 1188.13 83.7929 1189.01 L83.7929 1171.65 Z\" fill=\"#000000\" fill-rule=\"nonzero\" fill-opacity=\"1\" /><path clip-path=\"url(#clip430)\" d=\"M53.3995 904.761 L61.0384 904.761 L61.0384 878.396 L52.7282 880.062 L52.7282 875.803 L60.9921 874.136 L65.668 874.136 L65.668 904.761 L73.3068 904.761 L73.3068 908.696 L53.3995 908.696 L53.3995 904.761 Z\" fill=\"#000000\" fill-rule=\"nonzero\" fill-opacity=\"1\" /><path clip-path=\"url(#clip430)\" d=\"M92.7512 877.215 Q89.1401 877.215 87.3114 880.78 Q85.5058 884.321 85.5058 891.451 Q85.5058 898.558 87.3114 902.122 Q89.1401 905.664 92.7512 905.664 Q96.3854 905.664 98.1909 902.122 Q100.02 898.558 100.02 891.451 Q100.02 884.321 98.1909 880.78 Q96.3854 877.215 92.7512 877.215 M92.7512 873.511 Q98.5613 873.511 101.617 878.118 Q104.696 882.701 104.696 891.451 Q104.696 900.178 101.617 904.784 Q98.5613 909.368 92.7512 909.368 Q86.941 909.368 83.8623 904.784 Q80.8068 900.178 80.8068 891.451 Q80.8068 882.701 83.8623 878.118 Q86.941 873.511 92.7512 873.511 Z\" fill=\"#000000\" fill-rule=\"nonzero\" fill-opacity=\"1\" /><path clip-path=\"url(#clip430)\" d=\"M54.3949 607.245 L62.0337 607.245 L62.0337 580.88 L53.7236 582.546 L53.7236 578.287 L61.9874 576.621 L66.6633 576.621 L66.6633 607.245 L74.3022 607.245 L74.3022 611.181 L54.3949 611.181 L54.3949 607.245 Z\" fill=\"#000000\" fill-rule=\"nonzero\" fill-opacity=\"1\" /><path clip-path=\"url(#clip430)\" d=\"M83.7929 576.621 L102.149 576.621 L102.149 580.556 L88.0753 580.556 L88.0753 589.028 Q89.0938 588.681 90.1123 588.519 Q91.1308 588.333 92.1493 588.333 Q97.9363 588.333 101.316 591.505 Q104.696 594.676 104.696 600.093 Q104.696 605.671 101.223 608.773 Q97.7511 611.852 91.4317 611.852 Q89.2558 611.852 86.9873 611.482 Q84.7419 611.111 82.3346 610.37 L82.3346 605.671 Q84.4179 606.806 86.6401 607.361 Q88.8623 607.917 91.3391 607.917 Q95.3437 607.917 97.6817 605.81 Q100.02 603.704 100.02 600.093 Q100.02 596.482 97.6817 594.375 Q95.3437 592.269 91.3391 592.269 Q89.4641 592.269 87.5892 592.685 Q85.7373 593.102 83.7929 593.982 L83.7929 576.621 Z\" fill=\"#000000\" fill-rule=\"nonzero\" fill-opacity=\"1\" /><path clip-path=\"url(#clip430)\" d=\"M56.6171 309.73 L72.9365 309.73 L72.9365 313.665 L50.9921 313.665 L50.9921 309.73 Q53.6541 306.975 58.2375 302.345 Q62.8439 297.693 64.0245 296.35 Q66.2698 293.827 67.1494 292.091 Q68.0522 290.332 68.0522 288.642 Q68.0522 285.887 66.1078 284.151 Q64.1865 282.415 61.0847 282.415 Q58.8856 282.415 56.4319 283.179 Q54.0014 283.943 51.2236 285.494 L51.2236 280.771 Q54.0477 279.637 56.5014 279.059 Q58.955 278.48 60.9921 278.48 Q66.3624 278.48 69.5568 281.165 Q72.7513 283.85 72.7513 288.341 Q72.7513 290.47 71.9411 292.392 Q71.1541 294.29 69.0476 296.883 Q68.4689 297.554 65.367 300.771 Q62.2652 303.966 56.6171 309.73 Z\" fill=\"#000000\" fill-rule=\"nonzero\" fill-opacity=\"1\" /><path clip-path=\"url(#clip430)\" d=\"M92.7512 282.184 Q89.1401 282.184 87.3114 285.748 Q85.5058 289.29 85.5058 296.42 Q85.5058 303.526 87.3114 307.091 Q89.1401 310.632 92.7512 310.632 Q96.3854 310.632 98.1909 307.091 Q100.02 303.526 100.02 296.42 Q100.02 289.29 98.1909 285.748 Q96.3854 282.184 92.7512 282.184 M92.7512 278.48 Q98.5613 278.48 101.617 283.086 Q104.696 287.67 104.696 296.42 Q104.696 305.146 101.617 309.753 Q98.5613 314.336 92.7512 314.336 Q86.941 314.336 83.8623 309.753 Q80.8068 305.146 80.8068 296.42 Q80.8068 287.67 83.8623 283.086 Q86.941 278.48 92.7512 278.48 Z\" fill=\"#000000\" fill-rule=\"nonzero\" fill-opacity=\"1\" /><path clip-path=\"url(#clip432)\" d=\"M262.363 47.2441 L262.363 1486.45 L1137.35 1486.45 L1137.35 47.2441 L262.363 47.2441 L262.363 47.2441  Z\" fill=\"#009af9\" fill-rule=\"evenodd\" fill-opacity=\"1\"/>\n",
       "<polyline clip-path=\"url(#clip432)\" style=\"stroke:#000000; stroke-linecap:round; stroke-linejoin:round; stroke-width:4; stroke-opacity:1; fill:none\" points=\"262.363,47.2441 262.363,1486.45 1137.35,1486.45 1137.35,47.2441 262.363,47.2441 \"/>\n",
       "<path clip-path=\"url(#clip432)\" d=\"M1356.1 47.2441 L1356.1 1486.45 L2231.09 1486.45 L2231.09 47.2441 L1356.1 47.2441 L1356.1 47.2441  Z\" fill=\"#009af9\" fill-rule=\"evenodd\" fill-opacity=\"1\"/>\n",
       "<polyline clip-path=\"url(#clip432)\" style=\"stroke:#000000; stroke-linecap:round; stroke-linejoin:round; stroke-width:4; stroke-opacity:1; fill:none\" points=\"1356.1,47.2441 1356.1,1486.45 2231.09,1486.45 2231.09,47.2441 1356.1,47.2441 \"/>\n",
       "<circle clip-path=\"url(#clip432)\" style=\"fill:#009af9; stroke:none; fill-opacity:0\" cx=\"699.857\" cy=\"47.2441\" r=\"2\"/>\n",
       "<circle clip-path=\"url(#clip432)\" style=\"fill:#009af9; stroke:none; fill-opacity:0\" cx=\"1793.59\" cy=\"47.2441\" r=\"2\"/>\n",
       "<path clip-path=\"url(#clip430)\" d=\"M2005.38 198.898 L2279.02 198.898 L2279.02 95.2176 L2005.38 95.2176  Z\" fill=\"#ffffff\" fill-rule=\"evenodd\" fill-opacity=\"1\"/>\n",
       "<polyline clip-path=\"url(#clip430)\" style=\"stroke:#000000; stroke-linecap:round; stroke-linejoin:round; stroke-width:4; stroke-opacity:1; fill:none\" points=\"2005.38,198.898 2279.02,198.898 2279.02,95.2176 2005.38,95.2176 2005.38,198.898 \"/>\n",
       "<path clip-path=\"url(#clip430)\" d=\"M2029.96 167.794 L2177.43 167.794 L2177.43 126.322 L2029.96 126.322 L2029.96 167.794  Z\" fill=\"#009af9\" fill-rule=\"evenodd\" fill-opacity=\"1\"/>\n",
       "<polyline clip-path=\"url(#clip430)\" style=\"stroke:#000000; stroke-linecap:round; stroke-linejoin:round; stroke-width:4; stroke-opacity:1; fill:none\" points=\"2029.96,167.794 2177.43,167.794 2177.43,126.322 2029.96,126.322 2029.96,167.794 \"/>\n",
       "<path clip-path=\"url(#clip430)\" d=\"M2215.85 166.745 Q2214.05 171.375 2212.34 172.787 Q2210.62 174.199 2207.75 174.199 L2204.35 174.199 L2204.35 170.634 L2206.85 170.634 Q2208.61 170.634 2209.58 169.8 Q2210.55 168.967 2211.73 165.865 L2212.5 163.921 L2202.01 138.412 L2206.53 138.412 L2214.63 158.689 L2222.73 138.412 L2227.24 138.412 L2215.85 166.745 Z\" fill=\"#000000\" fill-rule=\"nonzero\" fill-opacity=\"1\" /><path clip-path=\"url(#clip430)\" d=\"M2234.53 160.402 L2242.17 160.402 L2242.17 134.037 L2233.86 135.703 L2233.86 131.444 L2242.13 129.778 L2246.8 129.778 L2246.8 160.402 L2254.44 160.402 L2254.44 164.338 L2234.53 164.338 L2234.53 160.402 Z\" fill=\"#000000\" fill-rule=\"nonzero\" fill-opacity=\"1\" /></svg>\n"
      ]
     },
     "execution_count": 70,
     "metadata": {},
     "output_type": "execute_result"
    }
   ],
   "source": [
    "bar([error_old, error_qr])"
   ]
  },
  {
   "cell_type": "markdown",
   "id": "5b564a3a-8414-4712-b7b4-4d0f16eb55f6",
   "metadata": {},
   "source": [
    "**Excersize 5**"
   ]
  },
  {
   "cell_type": "code",
   "execution_count": 101,
   "id": "c68c9410-62d4-4cef-bbf2-4de40f60e726",
   "metadata": {},
   "outputs": [],
   "source": [
    "error_old = []\n",
    "error_qr = []\n",
    "\n",
    "for i in 0:100\n",
    "    matrix = rand(8, 8)\n",
    "    old = custom_inverse(matrix)\n",
    "    Q, R = qr(matrix)\n",
    "    qr_decomposition = (inv(R) * Q')'\n",
    "    append!(error_old, (sqrt(sum(((matrix * old) - I(8)) .^ 2))))\n",
    "    append!(error_qr, (sqrt(sum(((matrix * qr_decomposition) - I(8)) .^ 2))))\n",
    "end"
   ]
  },
  {
   "cell_type": "code",
   "execution_count": 102,
   "id": "cf057cb7-6d46-4058-8029-dd56cef41fbe",
   "metadata": {},
   "outputs": [
    {
     "data": {
      "image/png": "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",
      "image/svg+xml": [
       "<?xml version=\"1.0\" encoding=\"utf-8\"?>\n",
       "<svg xmlns=\"http://www.w3.org/2000/svg\" xmlns:xlink=\"http://www.w3.org/1999/xlink\" width=\"600\" height=\"400\" viewBox=\"0 0 2400 1600\">\n",
       "<defs>\n",
       "  <clipPath id=\"clip010\">\n",
       "    <rect x=\"0\" y=\"0\" width=\"2400\" height=\"1600\"/>\n",
       "  </clipPath>\n",
       "</defs>\n",
       "<path clip-path=\"url(#clip010)\" d=\"M0 1600 L2400 1600 L2400 0 L0 0  Z\" fill=\"#ffffff\" fill-rule=\"evenodd\" fill-opacity=\"1\"/>\n",
       "<defs>\n",
       "  <clipPath id=\"clip011\">\n",
       "    <rect x=\"480\" y=\"0\" width=\"1681\" height=\"1600\"/>\n",
       "  </clipPath>\n",
       "</defs>\n",
       "<path clip-path=\"url(#clip010)\" d=\"M201.019 1486.45 L2352.76 1486.45 L2352.76 47.2441 L201.019 47.2441  Z\" fill=\"#ffffff\" fill-rule=\"evenodd\" fill-opacity=\"1\"/>\n",
       "<defs>\n",
       "  <clipPath id=\"clip012\">\n",
       "    <rect x=\"201\" y=\"47\" width=\"2153\" height=\"1440\"/>\n",
       "  </clipPath>\n",
       "</defs>\n",
       "<polyline clip-path=\"url(#clip012)\" style=\"stroke:#000000; stroke-linecap:round; stroke-linejoin:round; stroke-width:2; stroke-opacity:0.1; fill:none\" points=\"257.506,1486.45 257.506,47.2441 \"/>\n",
       "<polyline clip-path=\"url(#clip012)\" style=\"stroke:#000000; stroke-linecap:round; stroke-linejoin:round; stroke-width:2; stroke-opacity:0.1; fill:none\" points=\"726.195,1486.45 726.195,47.2441 \"/>\n",
       "<polyline clip-path=\"url(#clip012)\" style=\"stroke:#000000; stroke-linecap:round; stroke-linejoin:round; stroke-width:2; stroke-opacity:0.1; fill:none\" points=\"1194.88,1486.45 1194.88,47.2441 \"/>\n",
       "<polyline clip-path=\"url(#clip012)\" style=\"stroke:#000000; stroke-linecap:round; stroke-linejoin:round; stroke-width:2; stroke-opacity:0.1; fill:none\" points=\"1663.57,1486.45 1663.57,47.2441 \"/>\n",
       "<polyline clip-path=\"url(#clip012)\" style=\"stroke:#000000; stroke-linecap:round; stroke-linejoin:round; stroke-width:2; stroke-opacity:0.1; fill:none\" points=\"2132.26,1486.45 2132.26,47.2441 \"/>\n",
       "<polyline clip-path=\"url(#clip010)\" style=\"stroke:#000000; stroke-linecap:round; stroke-linejoin:round; stroke-width:4; stroke-opacity:1; fill:none\" points=\"201.019,1486.45 2352.76,1486.45 \"/>\n",
       "<polyline clip-path=\"url(#clip010)\" style=\"stroke:#000000; stroke-linecap:round; stroke-linejoin:round; stroke-width:4; stroke-opacity:1; fill:none\" points=\"257.506,1486.45 257.506,1467.55 \"/>\n",
       "<polyline clip-path=\"url(#clip010)\" style=\"stroke:#000000; stroke-linecap:round; stroke-linejoin:round; stroke-width:4; stroke-opacity:1; fill:none\" points=\"726.195,1486.45 726.195,1467.55 \"/>\n",
       "<polyline clip-path=\"url(#clip010)\" style=\"stroke:#000000; stroke-linecap:round; stroke-linejoin:round; stroke-width:4; stroke-opacity:1; fill:none\" points=\"1194.88,1486.45 1194.88,1467.55 \"/>\n",
       "<polyline clip-path=\"url(#clip010)\" style=\"stroke:#000000; stroke-linecap:round; stroke-linejoin:round; stroke-width:4; stroke-opacity:1; fill:none\" points=\"1663.57,1486.45 1663.57,1467.55 \"/>\n",
       "<polyline clip-path=\"url(#clip010)\" style=\"stroke:#000000; stroke-linecap:round; stroke-linejoin:round; stroke-width:4; stroke-opacity:1; fill:none\" points=\"2132.26,1486.45 2132.26,1467.55 \"/>\n",
       "<path clip-path=\"url(#clip010)\" d=\"M257.506 1517.37 Q253.895 1517.37 252.067 1520.93 Q250.261 1524.47 250.261 1531.6 Q250.261 1538.71 252.067 1542.27 Q253.895 1545.82 257.506 1545.82 Q261.141 1545.82 262.946 1542.27 Q264.775 1538.71 264.775 1531.6 Q264.775 1524.47 262.946 1520.93 Q261.141 1517.37 257.506 1517.37 M257.506 1513.66 Q263.317 1513.66 266.372 1518.27 Q269.451 1522.85 269.451 1531.6 Q269.451 1540.33 266.372 1544.94 Q263.317 1549.52 257.506 1549.52 Q251.696 1549.52 248.618 1544.94 Q245.562 1540.33 245.562 1531.6 Q245.562 1522.85 248.618 1518.27 Q251.696 1513.66 257.506 1513.66 Z\" fill=\"#000000\" fill-rule=\"nonzero\" fill-opacity=\"1\" /><path clip-path=\"url(#clip010)\" d=\"M685.814 1514.29 L704.17 1514.29 L704.17 1518.22 L690.096 1518.22 L690.096 1526.7 Q691.114 1526.35 692.133 1526.19 Q693.152 1526 694.17 1526 Q699.957 1526 703.337 1529.17 Q706.716 1532.34 706.716 1537.76 Q706.716 1543.34 703.244 1546.44 Q699.772 1549.52 693.452 1549.52 Q691.277 1549.52 689.008 1549.15 Q686.763 1548.78 684.355 1548.04 L684.355 1543.34 Q686.439 1544.47 688.661 1545.03 Q690.883 1545.58 693.36 1545.58 Q697.364 1545.58 699.702 1543.48 Q702.04 1541.37 702.04 1537.76 Q702.04 1534.15 699.702 1532.04 Q697.364 1529.94 693.36 1529.94 Q691.485 1529.94 689.61 1530.35 Q687.758 1530.77 685.814 1531.65 L685.814 1514.29 Z\" fill=\"#000000\" fill-rule=\"nonzero\" fill-opacity=\"1\" /><path clip-path=\"url(#clip010)\" d=\"M725.929 1517.37 Q722.318 1517.37 720.489 1520.93 Q718.684 1524.47 718.684 1531.6 Q718.684 1538.71 720.489 1542.27 Q722.318 1545.82 725.929 1545.82 Q729.563 1545.82 731.369 1542.27 Q733.198 1538.71 733.198 1531.6 Q733.198 1524.47 731.369 1520.93 Q729.563 1517.37 725.929 1517.37 M725.929 1513.66 Q731.739 1513.66 734.795 1518.27 Q737.873 1522.85 737.873 1531.6 Q737.873 1540.33 734.795 1544.94 Q731.739 1549.52 725.929 1549.52 Q720.119 1549.52 717.04 1544.94 Q713.985 1540.33 713.985 1531.6 Q713.985 1522.85 717.04 1518.27 Q720.119 1513.66 725.929 1513.66 Z\" fill=\"#000000\" fill-rule=\"nonzero\" fill-opacity=\"1\" /><path clip-path=\"url(#clip010)\" d=\"M756.091 1517.37 Q752.48 1517.37 750.651 1520.93 Q748.846 1524.47 748.846 1531.6 Q748.846 1538.71 750.651 1542.27 Q752.48 1545.82 756.091 1545.82 Q759.725 1545.82 761.531 1542.27 Q763.359 1538.71 763.359 1531.6 Q763.359 1524.47 761.531 1520.93 Q759.725 1517.37 756.091 1517.37 M756.091 1513.66 Q761.901 1513.66 764.957 1518.27 Q768.035 1522.85 768.035 1531.6 Q768.035 1540.33 764.957 1544.94 Q761.901 1549.52 756.091 1549.52 Q750.281 1549.52 747.202 1544.94 Q744.147 1540.33 744.147 1531.6 Q744.147 1522.85 747.202 1518.27 Q750.281 1513.66 756.091 1513.66 Z\" fill=\"#000000\" fill-rule=\"nonzero\" fill-opacity=\"1\" /><path clip-path=\"url(#clip010)\" d=\"M1139.41 1544.91 L1147.05 1544.91 L1147.05 1518.55 L1138.74 1520.21 L1138.74 1515.95 L1147 1514.29 L1151.68 1514.29 L1151.68 1544.91 L1159.32 1544.91 L1159.32 1548.85 L1139.41 1548.85 L1139.41 1544.91 Z\" fill=\"#000000\" fill-rule=\"nonzero\" fill-opacity=\"1\" /><path clip-path=\"url(#clip010)\" d=\"M1178.76 1517.37 Q1175.15 1517.37 1173.32 1520.93 Q1171.52 1524.47 1171.52 1531.6 Q1171.52 1538.71 1173.32 1542.27 Q1175.15 1545.82 1178.76 1545.82 Q1182.4 1545.82 1184.2 1542.27 Q1186.03 1538.71 1186.03 1531.6 Q1186.03 1524.47 1184.2 1520.93 Q1182.4 1517.37 1178.76 1517.37 M1178.76 1513.66 Q1184.57 1513.66 1187.63 1518.27 Q1190.71 1522.85 1190.71 1531.6 Q1190.71 1540.33 1187.63 1544.94 Q1184.57 1549.52 1178.76 1549.52 Q1172.95 1549.52 1169.87 1544.94 Q1166.82 1540.33 1166.82 1531.6 Q1166.82 1522.85 1169.87 1518.27 Q1172.95 1513.66 1178.76 1513.66 Z\" fill=\"#000000\" fill-rule=\"nonzero\" fill-opacity=\"1\" /><path clip-path=\"url(#clip010)\" d=\"M1208.92 1517.37 Q1205.31 1517.37 1203.48 1520.93 Q1201.68 1524.47 1201.68 1531.6 Q1201.68 1538.71 1203.48 1542.27 Q1205.31 1545.82 1208.92 1545.82 Q1212.56 1545.82 1214.36 1542.27 Q1216.19 1538.71 1216.19 1531.6 Q1216.19 1524.47 1214.36 1520.93 Q1212.56 1517.37 1208.92 1517.37 M1208.92 1513.66 Q1214.73 1513.66 1217.79 1518.27 Q1220.87 1522.85 1220.87 1531.6 Q1220.87 1540.33 1217.79 1544.94 Q1214.73 1549.52 1208.92 1549.52 Q1203.11 1549.52 1200.03 1544.94 Q1196.98 1540.33 1196.98 1531.6 Q1196.98 1522.85 1200.03 1518.27 Q1203.11 1513.66 1208.92 1513.66 Z\" fill=\"#000000\" fill-rule=\"nonzero\" fill-opacity=\"1\" /><path clip-path=\"url(#clip010)\" d=\"M1239.09 1517.37 Q1235.47 1517.37 1233.65 1520.93 Q1231.84 1524.47 1231.84 1531.6 Q1231.84 1538.71 1233.65 1542.27 Q1235.47 1545.82 1239.09 1545.82 Q1242.72 1545.82 1244.53 1542.27 Q1246.35 1538.71 1246.35 1531.6 Q1246.35 1524.47 1244.53 1520.93 Q1242.72 1517.37 1239.09 1517.37 M1239.09 1513.66 Q1244.9 1513.66 1247.95 1518.27 Q1251.03 1522.85 1251.03 1531.6 Q1251.03 1540.33 1247.95 1544.94 Q1244.9 1549.52 1239.09 1549.52 Q1233.28 1549.52 1230.2 1544.94 Q1227.14 1540.33 1227.14 1531.6 Q1227.14 1522.85 1230.2 1518.27 Q1233.28 1513.66 1239.09 1513.66 Z\" fill=\"#000000\" fill-rule=\"nonzero\" fill-opacity=\"1\" /><path clip-path=\"url(#clip010)\" d=\"M1608.1 1544.91 L1615.74 1544.91 L1615.74 1518.55 L1607.43 1520.21 L1607.43 1515.95 L1615.69 1514.29 L1620.37 1514.29 L1620.37 1544.91 L1628.01 1544.91 L1628.01 1548.85 L1608.1 1548.85 L1608.1 1544.91 Z\" fill=\"#000000\" fill-rule=\"nonzero\" fill-opacity=\"1\" /><path clip-path=\"url(#clip010)\" d=\"M1637.5 1514.29 L1655.85 1514.29 L1655.85 1518.22 L1641.78 1518.22 L1641.78 1526.7 Q1642.8 1526.35 1643.82 1526.19 Q1644.83 1526 1645.85 1526 Q1651.64 1526 1655.02 1529.17 Q1658.4 1532.34 1658.4 1537.76 Q1658.4 1543.34 1654.93 1546.44 Q1651.46 1549.52 1645.14 1549.52 Q1642.96 1549.52 1640.69 1549.15 Q1638.45 1548.78 1636.04 1548.04 L1636.04 1543.34 Q1638.12 1544.47 1640.34 1545.03 Q1642.57 1545.58 1645.04 1545.58 Q1649.05 1545.58 1651.39 1543.48 Q1653.72 1541.37 1653.72 1537.76 Q1653.72 1534.15 1651.39 1532.04 Q1649.05 1529.94 1645.04 1529.94 Q1643.17 1529.94 1641.29 1530.35 Q1639.44 1530.77 1637.5 1531.65 L1637.5 1514.29 Z\" fill=\"#000000\" fill-rule=\"nonzero\" fill-opacity=\"1\" /><path clip-path=\"url(#clip010)\" d=\"M1677.61 1517.37 Q1674 1517.37 1672.17 1520.93 Q1670.37 1524.47 1670.37 1531.6 Q1670.37 1538.71 1672.17 1542.27 Q1674 1545.82 1677.61 1545.82 Q1681.25 1545.82 1683.05 1542.27 Q1684.88 1538.71 1684.88 1531.6 Q1684.88 1524.47 1683.05 1520.93 Q1681.25 1517.37 1677.61 1517.37 M1677.61 1513.66 Q1683.42 1513.66 1686.48 1518.27 Q1689.56 1522.85 1689.56 1531.6 Q1689.56 1540.33 1686.48 1544.94 Q1683.42 1549.52 1677.61 1549.52 Q1671.8 1549.52 1668.72 1544.94 Q1665.67 1540.33 1665.67 1531.6 Q1665.67 1522.85 1668.72 1518.27 Q1671.8 1513.66 1677.61 1513.66 Z\" fill=\"#000000\" fill-rule=\"nonzero\" fill-opacity=\"1\" /><path clip-path=\"url(#clip010)\" d=\"M1707.77 1517.37 Q1704.16 1517.37 1702.33 1520.93 Q1700.53 1524.47 1700.53 1531.6 Q1700.53 1538.71 1702.33 1542.27 Q1704.16 1545.82 1707.77 1545.82 Q1711.41 1545.82 1713.21 1542.27 Q1715.04 1538.71 1715.04 1531.6 Q1715.04 1524.47 1713.21 1520.93 Q1711.41 1517.37 1707.77 1517.37 M1707.77 1513.66 Q1713.58 1513.66 1716.64 1518.27 Q1719.72 1522.85 1719.72 1531.6 Q1719.72 1540.33 1716.64 1544.94 Q1713.58 1549.52 1707.77 1549.52 Q1701.96 1549.52 1698.89 1544.94 Q1695.83 1540.33 1695.83 1531.6 Q1695.83 1522.85 1698.89 1518.27 Q1701.96 1513.66 1707.77 1513.66 Z\" fill=\"#000000\" fill-rule=\"nonzero\" fill-opacity=\"1\" /><path clip-path=\"url(#clip010)\" d=\"M2080.87 1544.91 L2097.19 1544.91 L2097.19 1548.85 L2075.25 1548.85 L2075.25 1544.91 Q2077.91 1542.16 2082.49 1537.53 Q2087.1 1532.88 2088.28 1531.53 Q2090.53 1529.01 2091.41 1527.27 Q2092.31 1525.51 2092.31 1523.82 Q2092.31 1521.07 2090.36 1519.33 Q2088.44 1517.6 2085.34 1517.6 Q2083.14 1517.6 2080.69 1518.36 Q2078.26 1519.13 2075.48 1520.68 L2075.48 1515.95 Q2078.3 1514.82 2080.76 1514.24 Q2083.21 1513.66 2085.25 1513.66 Q2090.62 1513.66 2093.81 1516.35 Q2097.01 1519.03 2097.01 1523.52 Q2097.01 1525.65 2096.2 1527.57 Q2095.41 1529.47 2093.3 1532.07 Q2092.73 1532.74 2089.62 1535.95 Q2086.52 1539.15 2080.87 1544.91 Z\" fill=\"#000000\" fill-rule=\"nonzero\" fill-opacity=\"1\" /><path clip-path=\"url(#clip010)\" d=\"M2117.01 1517.37 Q2113.4 1517.37 2111.57 1520.93 Q2109.76 1524.47 2109.76 1531.6 Q2109.76 1538.71 2111.57 1542.27 Q2113.4 1545.82 2117.01 1545.82 Q2120.64 1545.82 2122.45 1542.27 Q2124.28 1538.71 2124.28 1531.6 Q2124.28 1524.47 2122.45 1520.93 Q2120.64 1517.37 2117.01 1517.37 M2117.01 1513.66 Q2122.82 1513.66 2125.87 1518.27 Q2128.95 1522.85 2128.95 1531.6 Q2128.95 1540.33 2125.87 1544.94 Q2122.82 1549.52 2117.01 1549.52 Q2111.2 1549.52 2108.12 1544.94 Q2105.06 1540.33 2105.06 1531.6 Q2105.06 1522.85 2108.12 1518.27 Q2111.2 1513.66 2117.01 1513.66 Z\" fill=\"#000000\" fill-rule=\"nonzero\" fill-opacity=\"1\" /><path clip-path=\"url(#clip010)\" d=\"M2147.17 1517.37 Q2143.56 1517.37 2141.73 1520.93 Q2139.92 1524.47 2139.92 1531.6 Q2139.92 1538.71 2141.73 1542.27 Q2143.56 1545.82 2147.17 1545.82 Q2150.8 1545.82 2152.61 1542.27 Q2154.44 1538.71 2154.44 1531.6 Q2154.44 1524.47 2152.61 1520.93 Q2150.8 1517.37 2147.17 1517.37 M2147.17 1513.66 Q2152.98 1513.66 2156.04 1518.27 Q2159.11 1522.85 2159.11 1531.6 Q2159.11 1540.33 2156.04 1544.94 Q2152.98 1549.52 2147.17 1549.52 Q2141.36 1549.52 2138.28 1544.94 Q2135.23 1540.33 2135.23 1531.6 Q2135.23 1522.85 2138.28 1518.27 Q2141.36 1513.66 2147.17 1513.66 Z\" fill=\"#000000\" fill-rule=\"nonzero\" fill-opacity=\"1\" /><path clip-path=\"url(#clip010)\" d=\"M2177.33 1517.37 Q2173.72 1517.37 2171.89 1520.93 Q2170.09 1524.47 2170.09 1531.6 Q2170.09 1538.71 2171.89 1542.27 Q2173.72 1545.82 2177.33 1545.82 Q2180.97 1545.82 2182.77 1542.27 Q2184.6 1538.71 2184.6 1531.6 Q2184.6 1524.47 2182.77 1520.93 Q2180.97 1517.37 2177.33 1517.37 M2177.33 1513.66 Q2183.14 1513.66 2186.2 1518.27 Q2189.28 1522.85 2189.28 1531.6 Q2189.28 1540.33 2186.2 1544.94 Q2183.14 1549.52 2177.33 1549.52 Q2171.52 1549.52 2168.44 1544.94 Q2165.39 1540.33 2165.39 1531.6 Q2165.39 1522.85 2168.44 1518.27 Q2171.52 1513.66 2177.33 1513.66 Z\" fill=\"#000000\" fill-rule=\"nonzero\" fill-opacity=\"1\" /><polyline clip-path=\"url(#clip012)\" style=\"stroke:#000000; stroke-linecap:round; stroke-linejoin:round; stroke-width:2; stroke-opacity:0.1; fill:none\" points=\"201.019,1448.67 2352.76,1448.67 \"/>\n",
       "<polyline clip-path=\"url(#clip012)\" style=\"stroke:#000000; stroke-linecap:round; stroke-linejoin:round; stroke-width:2; stroke-opacity:0.1; fill:none\" points=\"201.019,1135.18 2352.76,1135.18 \"/>\n",
       "<polyline clip-path=\"url(#clip012)\" style=\"stroke:#000000; stroke-linecap:round; stroke-linejoin:round; stroke-width:2; stroke-opacity:0.1; fill:none\" points=\"201.019,821.694 2352.76,821.694 \"/>\n",
       "<polyline clip-path=\"url(#clip012)\" style=\"stroke:#000000; stroke-linecap:round; stroke-linejoin:round; stroke-width:2; stroke-opacity:0.1; fill:none\" points=\"201.019,508.209 2352.76,508.209 \"/>\n",
       "<polyline clip-path=\"url(#clip012)\" style=\"stroke:#000000; stroke-linecap:round; stroke-linejoin:round; stroke-width:2; stroke-opacity:0.1; fill:none\" points=\"201.019,194.723 2352.76,194.723 \"/>\n",
       "<polyline clip-path=\"url(#clip010)\" style=\"stroke:#000000; stroke-linecap:round; stroke-linejoin:round; stroke-width:4; stroke-opacity:1; fill:none\" points=\"201.019,1486.45 201.019,47.2441 \"/>\n",
       "<polyline clip-path=\"url(#clip010)\" style=\"stroke:#000000; stroke-linecap:round; stroke-linejoin:round; stroke-width:4; stroke-opacity:1; fill:none\" points=\"201.019,1448.67 219.917,1448.67 \"/>\n",
       "<polyline clip-path=\"url(#clip010)\" style=\"stroke:#000000; stroke-linecap:round; stroke-linejoin:round; stroke-width:4; stroke-opacity:1; fill:none\" points=\"201.019,1135.18 219.917,1135.18 \"/>\n",
       "<polyline clip-path=\"url(#clip010)\" style=\"stroke:#000000; stroke-linecap:round; stroke-linejoin:round; stroke-width:4; stroke-opacity:1; fill:none\" points=\"201.019,821.694 219.917,821.694 \"/>\n",
       "<polyline clip-path=\"url(#clip010)\" style=\"stroke:#000000; stroke-linecap:round; stroke-linejoin:round; stroke-width:4; stroke-opacity:1; fill:none\" points=\"201.019,508.209 219.917,508.209 \"/>\n",
       "<polyline clip-path=\"url(#clip010)\" style=\"stroke:#000000; stroke-linecap:round; stroke-linejoin:round; stroke-width:4; stroke-opacity:1; fill:none\" points=\"201.019,194.723 219.917,194.723 \"/>\n",
       "<path clip-path=\"url(#clip010)\" d=\"M153.075 1434.46 Q149.464 1434.46 147.635 1438.03 Q145.83 1441.57 145.83 1448.7 Q145.83 1455.81 147.635 1459.37 Q149.464 1462.91 153.075 1462.91 Q156.709 1462.91 158.515 1459.37 Q160.343 1455.81 160.343 1448.7 Q160.343 1441.57 158.515 1438.03 Q156.709 1434.46 153.075 1434.46 M153.075 1430.76 Q158.885 1430.76 161.941 1435.37 Q165.019 1439.95 165.019 1448.7 Q165.019 1457.43 161.941 1462.03 Q158.885 1466.62 153.075 1466.62 Q147.265 1466.62 144.186 1462.03 Q141.131 1457.43 141.131 1448.7 Q141.131 1439.95 144.186 1435.37 Q147.265 1430.76 153.075 1430.76 Z\" fill=\"#000000\" fill-rule=\"nonzero\" fill-opacity=\"1\" /><path clip-path=\"url(#clip010)\" d=\"M82.7975 1117.9 L101.154 1117.9 L101.154 1121.84 L87.0799 1121.84 L87.0799 1130.31 Q88.0984 1129.96 89.1169 1129.8 Q90.1354 1129.61 91.1539 1129.61 Q96.941 1129.61 100.321 1132.78 Q103.7 1135.96 103.7 1141.37 Q103.7 1146.95 100.228 1150.05 Q96.7558 1153.13 90.4364 1153.13 Q88.2604 1153.13 85.9919 1152.76 Q83.7466 1152.39 81.3392 1151.65 L81.3392 1146.95 Q83.4225 1148.09 85.6447 1148.64 Q87.8669 1149.2 90.3438 1149.2 Q94.3484 1149.2 96.6863 1147.09 Q99.0243 1144.98 99.0243 1141.37 Q99.0243 1137.76 96.6863 1135.65 Q94.3484 1133.55 90.3438 1133.55 Q88.4688 1133.55 86.5938 1133.97 Q84.7419 1134.38 82.7975 1135.26 L82.7975 1117.9 Z\" fill=\"#000000\" fill-rule=\"nonzero\" fill-opacity=\"1\" /><path clip-path=\"url(#clip010)\" d=\"M122.913 1120.98 Q119.302 1120.98 117.473 1124.54 Q115.668 1128.09 115.668 1135.22 Q115.668 1142.32 117.473 1145.89 Q119.302 1149.43 122.913 1149.43 Q126.547 1149.43 128.353 1145.89 Q130.182 1142.32 130.182 1135.22 Q130.182 1128.09 128.353 1124.54 Q126.547 1120.98 122.913 1120.98 M122.913 1117.28 Q128.723 1117.28 131.779 1121.88 Q134.857 1126.47 134.857 1135.22 Q134.857 1143.94 131.779 1148.55 Q128.723 1153.13 122.913 1153.13 Q117.103 1153.13 114.024 1148.55 Q110.969 1143.94 110.969 1135.22 Q110.969 1126.47 114.024 1121.88 Q117.103 1117.28 122.913 1117.28 Z\" fill=\"#000000\" fill-rule=\"nonzero\" fill-opacity=\"1\" /><path clip-path=\"url(#clip010)\" d=\"M153.075 1120.98 Q149.464 1120.98 147.635 1124.54 Q145.83 1128.09 145.83 1135.22 Q145.83 1142.32 147.635 1145.89 Q149.464 1149.43 153.075 1149.43 Q156.709 1149.43 158.515 1145.89 Q160.343 1142.32 160.343 1135.22 Q160.343 1128.09 158.515 1124.54 Q156.709 1120.98 153.075 1120.98 M153.075 1117.28 Q158.885 1117.28 161.941 1121.88 Q165.019 1126.47 165.019 1135.22 Q165.019 1143.94 161.941 1148.55 Q158.885 1153.13 153.075 1153.13 Q147.265 1153.13 144.186 1148.55 Q141.131 1143.94 141.131 1135.22 Q141.131 1126.47 144.186 1121.88 Q147.265 1117.28 153.075 1117.28 Z\" fill=\"#000000\" fill-rule=\"nonzero\" fill-opacity=\"1\" /><path clip-path=\"url(#clip010)\" d=\"M53.3995 835.039 L61.0384 835.039 L61.0384 808.674 L52.7282 810.34 L52.7282 806.081 L60.9921 804.414 L65.668 804.414 L65.668 835.039 L73.3068 835.039 L73.3068 838.974 L53.3995 838.974 L53.3995 835.039 Z\" fill=\"#000000\" fill-rule=\"nonzero\" fill-opacity=\"1\" /><path clip-path=\"url(#clip010)\" d=\"M92.7512 807.493 Q89.1401 807.493 87.3114 811.058 Q85.5058 814.6 85.5058 821.729 Q85.5058 828.836 87.3114 832.4 Q89.1401 835.942 92.7512 835.942 Q96.3854 835.942 98.1909 832.4 Q100.02 828.836 100.02 821.729 Q100.02 814.6 98.1909 811.058 Q96.3854 807.493 92.7512 807.493 M92.7512 803.789 Q98.5613 803.789 101.617 808.396 Q104.696 812.979 104.696 821.729 Q104.696 830.456 101.617 835.062 Q98.5613 839.646 92.7512 839.646 Q86.941 839.646 83.8623 835.062 Q80.8068 830.456 80.8068 821.729 Q80.8068 812.979 83.8623 808.396 Q86.941 803.789 92.7512 803.789 Z\" fill=\"#000000\" fill-rule=\"nonzero\" fill-opacity=\"1\" /><path clip-path=\"url(#clip010)\" d=\"M122.913 807.493 Q119.302 807.493 117.473 811.058 Q115.668 814.6 115.668 821.729 Q115.668 828.836 117.473 832.4 Q119.302 835.942 122.913 835.942 Q126.547 835.942 128.353 832.4 Q130.182 828.836 130.182 821.729 Q130.182 814.6 128.353 811.058 Q126.547 807.493 122.913 807.493 M122.913 803.789 Q128.723 803.789 131.779 808.396 Q134.857 812.979 134.857 821.729 Q134.857 830.456 131.779 835.062 Q128.723 839.646 122.913 839.646 Q117.103 839.646 114.024 835.062 Q110.969 830.456 110.969 821.729 Q110.969 812.979 114.024 808.396 Q117.103 803.789 122.913 803.789 Z\" fill=\"#000000\" fill-rule=\"nonzero\" fill-opacity=\"1\" /><path clip-path=\"url(#clip010)\" d=\"M153.075 807.493 Q149.464 807.493 147.635 811.058 Q145.83 814.6 145.83 821.729 Q145.83 828.836 147.635 832.4 Q149.464 835.942 153.075 835.942 Q156.709 835.942 158.515 832.4 Q160.343 828.836 160.343 821.729 Q160.343 814.6 158.515 811.058 Q156.709 807.493 153.075 807.493 M153.075 803.789 Q158.885 803.789 161.941 808.396 Q165.019 812.979 165.019 821.729 Q165.019 830.456 161.941 835.062 Q158.885 839.646 153.075 839.646 Q147.265 839.646 144.186 835.062 Q141.131 830.456 141.131 821.729 Q141.131 812.979 144.186 808.396 Q147.265 803.789 153.075 803.789 Z\" fill=\"#000000\" fill-rule=\"nonzero\" fill-opacity=\"1\" /><path clip-path=\"url(#clip010)\" d=\"M53.3995 521.553 L61.0384 521.553 L61.0384 495.188 L52.7282 496.855 L52.7282 492.595 L60.9921 490.929 L65.668 490.929 L65.668 521.553 L73.3068 521.553 L73.3068 525.489 L53.3995 525.489 L53.3995 521.553 Z\" fill=\"#000000\" fill-rule=\"nonzero\" fill-opacity=\"1\" /><path clip-path=\"url(#clip010)\" d=\"M82.7975 490.929 L101.154 490.929 L101.154 494.864 L87.0799 494.864 L87.0799 503.336 Q88.0984 502.989 89.1169 502.827 Q90.1354 502.642 91.1539 502.642 Q96.941 502.642 100.321 505.813 Q103.7 508.984 103.7 514.401 Q103.7 519.979 100.228 523.081 Q96.7558 526.16 90.4364 526.16 Q88.2604 526.16 85.9919 525.79 Q83.7466 525.419 81.3392 524.678 L81.3392 519.979 Q83.4225 521.114 85.6447 521.669 Q87.8669 522.225 90.3438 522.225 Q94.3484 522.225 96.6863 520.118 Q99.0243 518.012 99.0243 514.401 Q99.0243 510.79 96.6863 508.683 Q94.3484 506.577 90.3438 506.577 Q88.4688 506.577 86.5938 506.993 Q84.7419 507.41 82.7975 508.29 L82.7975 490.929 Z\" fill=\"#000000\" fill-rule=\"nonzero\" fill-opacity=\"1\" /><path clip-path=\"url(#clip010)\" d=\"M122.913 494.007 Q119.302 494.007 117.473 497.572 Q115.668 501.114 115.668 508.243 Q115.668 515.35 117.473 518.915 Q119.302 522.456 122.913 522.456 Q126.547 522.456 128.353 518.915 Q130.182 515.35 130.182 508.243 Q130.182 501.114 128.353 497.572 Q126.547 494.007 122.913 494.007 M122.913 490.304 Q128.723 490.304 131.779 494.91 Q134.857 499.493 134.857 508.243 Q134.857 516.97 131.779 521.577 Q128.723 526.16 122.913 526.16 Q117.103 526.16 114.024 521.577 Q110.969 516.97 110.969 508.243 Q110.969 499.493 114.024 494.91 Q117.103 490.304 122.913 490.304 Z\" fill=\"#000000\" fill-rule=\"nonzero\" fill-opacity=\"1\" /><path clip-path=\"url(#clip010)\" d=\"M153.075 494.007 Q149.464 494.007 147.635 497.572 Q145.83 501.114 145.83 508.243 Q145.83 515.35 147.635 518.915 Q149.464 522.456 153.075 522.456 Q156.709 522.456 158.515 518.915 Q160.343 515.35 160.343 508.243 Q160.343 501.114 158.515 497.572 Q156.709 494.007 153.075 494.007 M153.075 490.304 Q158.885 490.304 161.941 494.91 Q165.019 499.493 165.019 508.243 Q165.019 516.97 161.941 521.577 Q158.885 526.16 153.075 526.16 Q147.265 526.16 144.186 521.577 Q141.131 516.97 141.131 508.243 Q141.131 499.493 144.186 494.91 Q147.265 490.304 153.075 490.304 Z\" fill=\"#000000\" fill-rule=\"nonzero\" fill-opacity=\"1\" /><path clip-path=\"url(#clip010)\" d=\"M56.6171 208.068 L72.9365 208.068 L72.9365 212.003 L50.9921 212.003 L50.9921 208.068 Q53.6541 205.313 58.2375 200.683 Q62.8439 196.031 64.0245 194.688 Q66.2698 192.165 67.1494 190.429 Q68.0522 188.67 68.0522 186.98 Q68.0522 184.225 66.1078 182.489 Q64.1865 180.753 61.0847 180.753 Q58.8856 180.753 56.4319 181.517 Q54.0014 182.281 51.2236 183.832 L51.2236 179.109 Q54.0477 177.975 56.5014 177.397 Q58.955 176.818 60.9921 176.818 Q66.3624 176.818 69.5568 179.503 Q72.7513 182.188 72.7513 186.679 Q72.7513 188.808 71.9411 190.73 Q71.1541 192.628 69.0476 195.221 Q68.4689 195.892 65.367 199.109 Q62.2652 202.304 56.6171 208.068 Z\" fill=\"#000000\" fill-rule=\"nonzero\" fill-opacity=\"1\" /><path clip-path=\"url(#clip010)\" d=\"M92.7512 180.522 Q89.1401 180.522 87.3114 184.086 Q85.5058 187.628 85.5058 194.758 Q85.5058 201.864 87.3114 205.429 Q89.1401 208.97 92.7512 208.97 Q96.3854 208.97 98.1909 205.429 Q100.02 201.864 100.02 194.758 Q100.02 187.628 98.1909 184.086 Q96.3854 180.522 92.7512 180.522 M92.7512 176.818 Q98.5613 176.818 101.617 181.424 Q104.696 186.008 104.696 194.758 Q104.696 203.484 101.617 208.091 Q98.5613 212.674 92.7512 212.674 Q86.941 212.674 83.8623 208.091 Q80.8068 203.484 80.8068 194.758 Q80.8068 186.008 83.8623 181.424 Q86.941 176.818 92.7512 176.818 Z\" fill=\"#000000\" fill-rule=\"nonzero\" fill-opacity=\"1\" /><path clip-path=\"url(#clip010)\" d=\"M122.913 180.522 Q119.302 180.522 117.473 184.086 Q115.668 187.628 115.668 194.758 Q115.668 201.864 117.473 205.429 Q119.302 208.97 122.913 208.97 Q126.547 208.97 128.353 205.429 Q130.182 201.864 130.182 194.758 Q130.182 187.628 128.353 184.086 Q126.547 180.522 122.913 180.522 M122.913 176.818 Q128.723 176.818 131.779 181.424 Q134.857 186.008 134.857 194.758 Q134.857 203.484 131.779 208.091 Q128.723 212.674 122.913 212.674 Q117.103 212.674 114.024 208.091 Q110.969 203.484 110.969 194.758 Q110.969 186.008 114.024 181.424 Q117.103 176.818 122.913 176.818 Z\" fill=\"#000000\" fill-rule=\"nonzero\" fill-opacity=\"1\" /><path clip-path=\"url(#clip010)\" d=\"M153.075 180.522 Q149.464 180.522 147.635 184.086 Q145.83 187.628 145.83 194.758 Q145.83 201.864 147.635 205.429 Q149.464 208.97 153.075 208.97 Q156.709 208.97 158.515 205.429 Q160.343 201.864 160.343 194.758 Q160.343 187.628 158.515 184.086 Q156.709 180.522 153.075 180.522 M153.075 176.818 Q158.885 176.818 161.941 181.424 Q165.019 186.008 165.019 194.758 Q165.019 203.484 161.941 208.091 Q158.885 212.674 153.075 212.674 Q147.265 212.674 144.186 208.091 Q141.131 203.484 141.131 194.758 Q141.131 186.008 144.186 181.424 Q147.265 176.818 153.075 176.818 Z\" fill=\"#000000\" fill-rule=\"nonzero\" fill-opacity=\"1\" /><circle clip-path=\"url(#clip012)\" cx=\"270.68\" cy=\"1439.85\" r=\"14.4\" fill=\"#009af9\" fill-rule=\"evenodd\" fill-opacity=\"1\" stroke=\"#000000\" stroke-opacity=\"1\" stroke-width=\"3.2\"/>\n",
       "<circle clip-path=\"url(#clip012)\" cx=\"441.657\" cy=\"1325.5\" r=\"14.4\" fill=\"#009af9\" fill-rule=\"evenodd\" fill-opacity=\"1\" stroke=\"#000000\" stroke-opacity=\"1\" stroke-width=\"3.2\"/>\n",
       "<circle clip-path=\"url(#clip012)\" cx=\"277.751\" cy=\"1435.13\" r=\"14.4\" fill=\"#009af9\" fill-rule=\"evenodd\" fill-opacity=\"1\" stroke=\"#000000\" stroke-opacity=\"1\" stroke-width=\"3.2\"/>\n",
       "<circle clip-path=\"url(#clip012)\" cx=\"270.328\" cy=\"1440.09\" r=\"14.4\" fill=\"#009af9\" fill-rule=\"evenodd\" fill-opacity=\"1\" stroke=\"#000000\" stroke-opacity=\"1\" stroke-width=\"3.2\"/>\n",
       "<circle clip-path=\"url(#clip012)\" cx=\"272.433\" cy=\"1438.68\" r=\"14.4\" fill=\"#009af9\" fill-rule=\"evenodd\" fill-opacity=\"1\" stroke=\"#000000\" stroke-opacity=\"1\" stroke-width=\"3.2\"/>\n",
       "<circle clip-path=\"url(#clip012)\" cx=\"272.12\" cy=\"1438.89\" r=\"14.4\" fill=\"#009af9\" fill-rule=\"evenodd\" fill-opacity=\"1\" stroke=\"#000000\" stroke-opacity=\"1\" stroke-width=\"3.2\"/>\n",
       "<circle clip-path=\"url(#clip012)\" cx=\"264.373\" cy=\"1444.07\" r=\"14.4\" fill=\"#009af9\" fill-rule=\"evenodd\" fill-opacity=\"1\" stroke=\"#000000\" stroke-opacity=\"1\" stroke-width=\"3.2\"/>\n",
       "<circle clip-path=\"url(#clip012)\" cx=\"266.697\" cy=\"1442.52\" r=\"14.4\" fill=\"#009af9\" fill-rule=\"evenodd\" fill-opacity=\"1\" stroke=\"#000000\" stroke-opacity=\"1\" stroke-width=\"3.2\"/>\n",
       "<circle clip-path=\"url(#clip012)\" cx=\"270.856\" cy=\"1439.74\" r=\"14.4\" fill=\"#009af9\" fill-rule=\"evenodd\" fill-opacity=\"1\" stroke=\"#000000\" stroke-opacity=\"1\" stroke-width=\"3.2\"/>\n",
       "<circle clip-path=\"url(#clip012)\" cx=\"329.697\" cy=\"1400.38\" r=\"14.4\" fill=\"#009af9\" fill-rule=\"evenodd\" fill-opacity=\"1\" stroke=\"#000000\" stroke-opacity=\"1\" stroke-width=\"3.2\"/>\n",
       "<circle clip-path=\"url(#clip012)\" cx=\"323.391\" cy=\"1404.6\" r=\"14.4\" fill=\"#009af9\" fill-rule=\"evenodd\" fill-opacity=\"1\" stroke=\"#000000\" stroke-opacity=\"1\" stroke-width=\"3.2\"/>\n",
       "<circle clip-path=\"url(#clip012)\" cx=\"293.856\" cy=\"1424.35\" r=\"14.4\" fill=\"#009af9\" fill-rule=\"evenodd\" fill-opacity=\"1\" stroke=\"#000000\" stroke-opacity=\"1\" stroke-width=\"3.2\"/>\n",
       "<circle clip-path=\"url(#clip012)\" cx=\"267.59\" cy=\"1441.92\" r=\"14.4\" fill=\"#009af9\" fill-rule=\"evenodd\" fill-opacity=\"1\" stroke=\"#000000\" stroke-opacity=\"1\" stroke-width=\"3.2\"/>\n",
       "<circle clip-path=\"url(#clip012)\" cx=\"294.946\" cy=\"1423.62\" r=\"14.4\" fill=\"#009af9\" fill-rule=\"evenodd\" fill-opacity=\"1\" stroke=\"#000000\" stroke-opacity=\"1\" stroke-width=\"3.2\"/>\n",
       "<circle clip-path=\"url(#clip012)\" cx=\"269.77\" cy=\"1440.46\" r=\"14.4\" fill=\"#009af9\" fill-rule=\"evenodd\" fill-opacity=\"1\" stroke=\"#000000\" stroke-opacity=\"1\" stroke-width=\"3.2\"/>\n",
       "<circle clip-path=\"url(#clip012)\" cx=\"325.145\" cy=\"1403.43\" r=\"14.4\" fill=\"#009af9\" fill-rule=\"evenodd\" fill-opacity=\"1\" stroke=\"#000000\" stroke-opacity=\"1\" stroke-width=\"3.2\"/>\n",
       "<circle clip-path=\"url(#clip012)\" cx=\"284.786\" cy=\"1430.42\" r=\"14.4\" fill=\"#009af9\" fill-rule=\"evenodd\" fill-opacity=\"1\" stroke=\"#000000\" stroke-opacity=\"1\" stroke-width=\"3.2\"/>\n",
       "<circle clip-path=\"url(#clip012)\" cx=\"267.254\" cy=\"1442.15\" r=\"14.4\" fill=\"#009af9\" fill-rule=\"evenodd\" fill-opacity=\"1\" stroke=\"#000000\" stroke-opacity=\"1\" stroke-width=\"3.2\"/>\n",
       "<circle clip-path=\"url(#clip012)\" cx=\"283.523\" cy=\"1431.26\" r=\"14.4\" fill=\"#009af9\" fill-rule=\"evenodd\" fill-opacity=\"1\" stroke=\"#000000\" stroke-opacity=\"1\" stroke-width=\"3.2\"/>\n",
       "<circle clip-path=\"url(#clip012)\" cx=\"2291.86\" cy=\"87.9763\" r=\"14.4\" fill=\"#009af9\" fill-rule=\"evenodd\" fill-opacity=\"1\" stroke=\"#000000\" stroke-opacity=\"1\" stroke-width=\"3.2\"/>\n",
       "<circle clip-path=\"url(#clip012)\" cx=\"284.448\" cy=\"1430.65\" r=\"14.4\" fill=\"#009af9\" fill-rule=\"evenodd\" fill-opacity=\"1\" stroke=\"#000000\" stroke-opacity=\"1\" stroke-width=\"3.2\"/>\n",
       "<circle clip-path=\"url(#clip012)\" cx=\"281.139\" cy=\"1432.86\" r=\"14.4\" fill=\"#009af9\" fill-rule=\"evenodd\" fill-opacity=\"1\" stroke=\"#000000\" stroke-opacity=\"1\" stroke-width=\"3.2\"/>\n",
       "<circle clip-path=\"url(#clip012)\" cx=\"268.821\" cy=\"1441.1\" r=\"14.4\" fill=\"#009af9\" fill-rule=\"evenodd\" fill-opacity=\"1\" stroke=\"#000000\" stroke-opacity=\"1\" stroke-width=\"3.2\"/>\n",
       "<circle clip-path=\"url(#clip012)\" cx=\"277.87\" cy=\"1435.05\" r=\"14.4\" fill=\"#009af9\" fill-rule=\"evenodd\" fill-opacity=\"1\" stroke=\"#000000\" stroke-opacity=\"1\" stroke-width=\"3.2\"/>\n",
       "<circle clip-path=\"url(#clip012)\" cx=\"329.21\" cy=\"1400.71\" r=\"14.4\" fill=\"#009af9\" fill-rule=\"evenodd\" fill-opacity=\"1\" stroke=\"#000000\" stroke-opacity=\"1\" stroke-width=\"3.2\"/>\n",
       "<circle clip-path=\"url(#clip012)\" cx=\"362.251\" cy=\"1378.61\" r=\"14.4\" fill=\"#009af9\" fill-rule=\"evenodd\" fill-opacity=\"1\" stroke=\"#000000\" stroke-opacity=\"1\" stroke-width=\"3.2\"/>\n",
       "<circle clip-path=\"url(#clip012)\" cx=\"276.781\" cy=\"1435.77\" r=\"14.4\" fill=\"#009af9\" fill-rule=\"evenodd\" fill-opacity=\"1\" stroke=\"#000000\" stroke-opacity=\"1\" stroke-width=\"3.2\"/>\n",
       "<circle clip-path=\"url(#clip012)\" cx=\"273.67\" cy=\"1437.85\" r=\"14.4\" fill=\"#009af9\" fill-rule=\"evenodd\" fill-opacity=\"1\" stroke=\"#000000\" stroke-opacity=\"1\" stroke-width=\"3.2\"/>\n",
       "<circle clip-path=\"url(#clip012)\" cx=\"262.525\" cy=\"1445.31\" r=\"14.4\" fill=\"#009af9\" fill-rule=\"evenodd\" fill-opacity=\"1\" stroke=\"#000000\" stroke-opacity=\"1\" stroke-width=\"3.2\"/>\n",
       "<circle clip-path=\"url(#clip012)\" cx=\"267.76\" cy=\"1441.81\" r=\"14.4\" fill=\"#009af9\" fill-rule=\"evenodd\" fill-opacity=\"1\" stroke=\"#000000\" stroke-opacity=\"1\" stroke-width=\"3.2\"/>\n",
       "<circle clip-path=\"url(#clip012)\" cx=\"300.69\" cy=\"1419.78\" r=\"14.4\" fill=\"#009af9\" fill-rule=\"evenodd\" fill-opacity=\"1\" stroke=\"#000000\" stroke-opacity=\"1\" stroke-width=\"3.2\"/>\n",
       "<circle clip-path=\"url(#clip012)\" cx=\"274.813\" cy=\"1437.09\" r=\"14.4\" fill=\"#009af9\" fill-rule=\"evenodd\" fill-opacity=\"1\" stroke=\"#000000\" stroke-opacity=\"1\" stroke-width=\"3.2\"/>\n",
       "<circle clip-path=\"url(#clip012)\" cx=\"266.755\" cy=\"1442.48\" r=\"14.4\" fill=\"#009af9\" fill-rule=\"evenodd\" fill-opacity=\"1\" stroke=\"#000000\" stroke-opacity=\"1\" stroke-width=\"3.2\"/>\n",
       "<circle clip-path=\"url(#clip012)\" cx=\"271.439\" cy=\"1439.35\" r=\"14.4\" fill=\"#009af9\" fill-rule=\"evenodd\" fill-opacity=\"1\" stroke=\"#000000\" stroke-opacity=\"1\" stroke-width=\"3.2\"/>\n",
       "<circle clip-path=\"url(#clip012)\" cx=\"264.391\" cy=\"1444.06\" r=\"14.4\" fill=\"#009af9\" fill-rule=\"evenodd\" fill-opacity=\"1\" stroke=\"#000000\" stroke-opacity=\"1\" stroke-width=\"3.2\"/>\n",
       "<circle clip-path=\"url(#clip012)\" cx=\"296.505\" cy=\"1422.58\" r=\"14.4\" fill=\"#009af9\" fill-rule=\"evenodd\" fill-opacity=\"1\" stroke=\"#000000\" stroke-opacity=\"1\" stroke-width=\"3.2\"/>\n",
       "<circle clip-path=\"url(#clip012)\" cx=\"264.303\" cy=\"1444.12\" r=\"14.4\" fill=\"#009af9\" fill-rule=\"evenodd\" fill-opacity=\"1\" stroke=\"#000000\" stroke-opacity=\"1\" stroke-width=\"3.2\"/>\n",
       "<circle clip-path=\"url(#clip012)\" cx=\"263.398\" cy=\"1444.73\" r=\"14.4\" fill=\"#009af9\" fill-rule=\"evenodd\" fill-opacity=\"1\" stroke=\"#000000\" stroke-opacity=\"1\" stroke-width=\"3.2\"/>\n",
       "<circle clip-path=\"url(#clip012)\" cx=\"262.363\" cy=\"1445.42\" r=\"14.4\" fill=\"#009af9\" fill-rule=\"evenodd\" fill-opacity=\"1\" stroke=\"#000000\" stroke-opacity=\"1\" stroke-width=\"3.2\"/>\n",
       "<circle clip-path=\"url(#clip012)\" cx=\"268.804\" cy=\"1441.11\" r=\"14.4\" fill=\"#009af9\" fill-rule=\"evenodd\" fill-opacity=\"1\" stroke=\"#000000\" stroke-opacity=\"1\" stroke-width=\"3.2\"/>\n",
       "<circle clip-path=\"url(#clip012)\" cx=\"262.624\" cy=\"1445.24\" r=\"14.4\" fill=\"#009af9\" fill-rule=\"evenodd\" fill-opacity=\"1\" stroke=\"#000000\" stroke-opacity=\"1\" stroke-width=\"3.2\"/>\n",
       "<circle clip-path=\"url(#clip012)\" cx=\"324.07\" cy=\"1404.14\" r=\"14.4\" fill=\"#009af9\" fill-rule=\"evenodd\" fill-opacity=\"1\" stroke=\"#000000\" stroke-opacity=\"1\" stroke-width=\"3.2\"/>\n",
       "<circle clip-path=\"url(#clip012)\" cx=\"265.363\" cy=\"1443.41\" r=\"14.4\" fill=\"#009af9\" fill-rule=\"evenodd\" fill-opacity=\"1\" stroke=\"#000000\" stroke-opacity=\"1\" stroke-width=\"3.2\"/>\n",
       "<circle clip-path=\"url(#clip012)\" cx=\"284.568\" cy=\"1430.57\" r=\"14.4\" fill=\"#009af9\" fill-rule=\"evenodd\" fill-opacity=\"1\" stroke=\"#000000\" stroke-opacity=\"1\" stroke-width=\"3.2\"/>\n",
       "<circle clip-path=\"url(#clip012)\" cx=\"272.229\" cy=\"1438.82\" r=\"14.4\" fill=\"#009af9\" fill-rule=\"evenodd\" fill-opacity=\"1\" stroke=\"#000000\" stroke-opacity=\"1\" stroke-width=\"3.2\"/>\n",
       "<circle clip-path=\"url(#clip012)\" cx=\"264.297\" cy=\"1444.12\" r=\"14.4\" fill=\"#009af9\" fill-rule=\"evenodd\" fill-opacity=\"1\" stroke=\"#000000\" stroke-opacity=\"1\" stroke-width=\"3.2\"/>\n",
       "<circle clip-path=\"url(#clip012)\" cx=\"317.773\" cy=\"1408.36\" r=\"14.4\" fill=\"#009af9\" fill-rule=\"evenodd\" fill-opacity=\"1\" stroke=\"#000000\" stroke-opacity=\"1\" stroke-width=\"3.2\"/>\n",
       "<circle clip-path=\"url(#clip012)\" cx=\"292.198\" cy=\"1425.46\" r=\"14.4\" fill=\"#009af9\" fill-rule=\"evenodd\" fill-opacity=\"1\" stroke=\"#000000\" stroke-opacity=\"1\" stroke-width=\"3.2\"/>\n",
       "<circle clip-path=\"url(#clip012)\" cx=\"324.821\" cy=\"1403.64\" r=\"14.4\" fill=\"#009af9\" fill-rule=\"evenodd\" fill-opacity=\"1\" stroke=\"#000000\" stroke-opacity=\"1\" stroke-width=\"3.2\"/>\n",
       "<circle clip-path=\"url(#clip012)\" cx=\"279.533\" cy=\"1433.93\" r=\"14.4\" fill=\"#009af9\" fill-rule=\"evenodd\" fill-opacity=\"1\" stroke=\"#000000\" stroke-opacity=\"1\" stroke-width=\"3.2\"/>\n",
       "<circle clip-path=\"url(#clip012)\" cx=\"271.054\" cy=\"1439.6\" r=\"14.4\" fill=\"#009af9\" fill-rule=\"evenodd\" fill-opacity=\"1\" stroke=\"#000000\" stroke-opacity=\"1\" stroke-width=\"3.2\"/>\n",
       "<circle clip-path=\"url(#clip012)\" cx=\"267.292\" cy=\"1442.12\" r=\"14.4\" fill=\"#009af9\" fill-rule=\"evenodd\" fill-opacity=\"1\" stroke=\"#000000\" stroke-opacity=\"1\" stroke-width=\"3.2\"/>\n",
       "<circle clip-path=\"url(#clip012)\" cx=\"375.352\" cy=\"1369.84\" r=\"14.4\" fill=\"#009af9\" fill-rule=\"evenodd\" fill-opacity=\"1\" stroke=\"#000000\" stroke-opacity=\"1\" stroke-width=\"3.2\"/>\n",
       "<circle clip-path=\"url(#clip012)\" cx=\"268.164\" cy=\"1441.54\" r=\"14.4\" fill=\"#009af9\" fill-rule=\"evenodd\" fill-opacity=\"1\" stroke=\"#000000\" stroke-opacity=\"1\" stroke-width=\"3.2\"/>\n",
       "<circle clip-path=\"url(#clip012)\" cx=\"289.91\" cy=\"1426.99\" r=\"14.4\" fill=\"#009af9\" fill-rule=\"evenodd\" fill-opacity=\"1\" stroke=\"#000000\" stroke-opacity=\"1\" stroke-width=\"3.2\"/>\n",
       "<circle clip-path=\"url(#clip012)\" cx=\"267.182\" cy=\"1442.19\" r=\"14.4\" fill=\"#009af9\" fill-rule=\"evenodd\" fill-opacity=\"1\" stroke=\"#000000\" stroke-opacity=\"1\" stroke-width=\"3.2\"/>\n",
       "<circle clip-path=\"url(#clip012)\" cx=\"272.932\" cy=\"1438.35\" r=\"14.4\" fill=\"#009af9\" fill-rule=\"evenodd\" fill-opacity=\"1\" stroke=\"#000000\" stroke-opacity=\"1\" stroke-width=\"3.2\"/>\n",
       "<circle clip-path=\"url(#clip012)\" cx=\"266.607\" cy=\"1442.58\" r=\"14.4\" fill=\"#009af9\" fill-rule=\"evenodd\" fill-opacity=\"1\" stroke=\"#000000\" stroke-opacity=\"1\" stroke-width=\"3.2\"/>\n",
       "<circle clip-path=\"url(#clip012)\" cx=\"269.752\" cy=\"1440.48\" r=\"14.4\" fill=\"#009af9\" fill-rule=\"evenodd\" fill-opacity=\"1\" stroke=\"#000000\" stroke-opacity=\"1\" stroke-width=\"3.2\"/>\n",
       "<circle clip-path=\"url(#clip012)\" cx=\"264.832\" cy=\"1443.77\" r=\"14.4\" fill=\"#009af9\" fill-rule=\"evenodd\" fill-opacity=\"1\" stroke=\"#000000\" stroke-opacity=\"1\" stroke-width=\"3.2\"/>\n",
       "<circle clip-path=\"url(#clip012)\" cx=\"279.02\" cy=\"1434.28\" r=\"14.4\" fill=\"#009af9\" fill-rule=\"evenodd\" fill-opacity=\"1\" stroke=\"#000000\" stroke-opacity=\"1\" stroke-width=\"3.2\"/>\n",
       "<circle clip-path=\"url(#clip012)\" cx=\"336.344\" cy=\"1395.94\" r=\"14.4\" fill=\"#009af9\" fill-rule=\"evenodd\" fill-opacity=\"1\" stroke=\"#000000\" stroke-opacity=\"1\" stroke-width=\"3.2\"/>\n",
       "<circle clip-path=\"url(#clip012)\" cx=\"317.534\" cy=\"1408.52\" r=\"14.4\" fill=\"#009af9\" fill-rule=\"evenodd\" fill-opacity=\"1\" stroke=\"#000000\" stroke-opacity=\"1\" stroke-width=\"3.2\"/>\n",
       "<circle clip-path=\"url(#clip012)\" cx=\"295.71\" cy=\"1423.11\" r=\"14.4\" fill=\"#009af9\" fill-rule=\"evenodd\" fill-opacity=\"1\" stroke=\"#000000\" stroke-opacity=\"1\" stroke-width=\"3.2\"/>\n",
       "<circle clip-path=\"url(#clip012)\" cx=\"274.653\" cy=\"1437.2\" r=\"14.4\" fill=\"#009af9\" fill-rule=\"evenodd\" fill-opacity=\"1\" stroke=\"#000000\" stroke-opacity=\"1\" stroke-width=\"3.2\"/>\n",
       "<circle clip-path=\"url(#clip012)\" cx=\"310.182\" cy=\"1413.43\" r=\"14.4\" fill=\"#009af9\" fill-rule=\"evenodd\" fill-opacity=\"1\" stroke=\"#000000\" stroke-opacity=\"1\" stroke-width=\"3.2\"/>\n",
       "<circle clip-path=\"url(#clip012)\" cx=\"261.917\" cy=\"1445.72\" r=\"14.4\" fill=\"#009af9\" fill-rule=\"evenodd\" fill-opacity=\"1\" stroke=\"#000000\" stroke-opacity=\"1\" stroke-width=\"3.2\"/>\n",
       "<circle clip-path=\"url(#clip012)\" cx=\"265.731\" cy=\"1443.16\" r=\"14.4\" fill=\"#009af9\" fill-rule=\"evenodd\" fill-opacity=\"1\" stroke=\"#000000\" stroke-opacity=\"1\" stroke-width=\"3.2\"/>\n",
       "<circle clip-path=\"url(#clip012)\" cx=\"266.288\" cy=\"1442.79\" r=\"14.4\" fill=\"#009af9\" fill-rule=\"evenodd\" fill-opacity=\"1\" stroke=\"#000000\" stroke-opacity=\"1\" stroke-width=\"3.2\"/>\n",
       "<circle clip-path=\"url(#clip012)\" cx=\"572.189\" cy=\"1238.19\" r=\"14.4\" fill=\"#009af9\" fill-rule=\"evenodd\" fill-opacity=\"1\" stroke=\"#000000\" stroke-opacity=\"1\" stroke-width=\"3.2\"/>\n",
       "<circle clip-path=\"url(#clip012)\" cx=\"279.585\" cy=\"1433.9\" r=\"14.4\" fill=\"#009af9\" fill-rule=\"evenodd\" fill-opacity=\"1\" stroke=\"#000000\" stroke-opacity=\"1\" stroke-width=\"3.2\"/>\n",
       "<circle clip-path=\"url(#clip012)\" cx=\"599.261\" cy=\"1220.08\" r=\"14.4\" fill=\"#009af9\" fill-rule=\"evenodd\" fill-opacity=\"1\" stroke=\"#000000\" stroke-opacity=\"1\" stroke-width=\"3.2\"/>\n",
       "<circle clip-path=\"url(#clip012)\" cx=\"269.811\" cy=\"1440.44\" r=\"14.4\" fill=\"#009af9\" fill-rule=\"evenodd\" fill-opacity=\"1\" stroke=\"#000000\" stroke-opacity=\"1\" stroke-width=\"3.2\"/>\n",
       "<circle clip-path=\"url(#clip012)\" cx=\"271.28\" cy=\"1439.45\" r=\"14.4\" fill=\"#009af9\" fill-rule=\"evenodd\" fill-opacity=\"1\" stroke=\"#000000\" stroke-opacity=\"1\" stroke-width=\"3.2\"/>\n",
       "<circle clip-path=\"url(#clip012)\" cx=\"274.491\" cy=\"1437.31\" r=\"14.4\" fill=\"#009af9\" fill-rule=\"evenodd\" fill-opacity=\"1\" stroke=\"#000000\" stroke-opacity=\"1\" stroke-width=\"3.2\"/>\n",
       "<circle clip-path=\"url(#clip012)\" cx=\"269.439\" cy=\"1440.68\" r=\"14.4\" fill=\"#009af9\" fill-rule=\"evenodd\" fill-opacity=\"1\" stroke=\"#000000\" stroke-opacity=\"1\" stroke-width=\"3.2\"/>\n",
       "<circle clip-path=\"url(#clip012)\" cx=\"274.661\" cy=\"1437.19\" r=\"14.4\" fill=\"#009af9\" fill-rule=\"evenodd\" fill-opacity=\"1\" stroke=\"#000000\" stroke-opacity=\"1\" stroke-width=\"3.2\"/>\n",
       "<circle clip-path=\"url(#clip012)\" cx=\"279.384\" cy=\"1434.03\" r=\"14.4\" fill=\"#009af9\" fill-rule=\"evenodd\" fill-opacity=\"1\" stroke=\"#000000\" stroke-opacity=\"1\" stroke-width=\"3.2\"/>\n",
       "<circle clip-path=\"url(#clip012)\" cx=\"269.16\" cy=\"1440.87\" r=\"14.4\" fill=\"#009af9\" fill-rule=\"evenodd\" fill-opacity=\"1\" stroke=\"#000000\" stroke-opacity=\"1\" stroke-width=\"3.2\"/>\n",
       "<circle clip-path=\"url(#clip012)\" cx=\"269.056\" cy=\"1440.94\" r=\"14.4\" fill=\"#009af9\" fill-rule=\"evenodd\" fill-opacity=\"1\" stroke=\"#000000\" stroke-opacity=\"1\" stroke-width=\"3.2\"/>\n",
       "<circle clip-path=\"url(#clip012)\" cx=\"262.534\" cy=\"1445.3\" r=\"14.4\" fill=\"#009af9\" fill-rule=\"evenodd\" fill-opacity=\"1\" stroke=\"#000000\" stroke-opacity=\"1\" stroke-width=\"3.2\"/>\n",
       "<circle clip-path=\"url(#clip012)\" cx=\"272.331\" cy=\"1438.75\" r=\"14.4\" fill=\"#009af9\" fill-rule=\"evenodd\" fill-opacity=\"1\" stroke=\"#000000\" stroke-opacity=\"1\" stroke-width=\"3.2\"/>\n",
       "<circle clip-path=\"url(#clip012)\" cx=\"264.631\" cy=\"1443.9\" r=\"14.4\" fill=\"#009af9\" fill-rule=\"evenodd\" fill-opacity=\"1\" stroke=\"#000000\" stroke-opacity=\"1\" stroke-width=\"3.2\"/>\n",
       "<circle clip-path=\"url(#clip012)\" cx=\"331.475\" cy=\"1399.19\" r=\"14.4\" fill=\"#009af9\" fill-rule=\"evenodd\" fill-opacity=\"1\" stroke=\"#000000\" stroke-opacity=\"1\" stroke-width=\"3.2\"/>\n",
       "<circle clip-path=\"url(#clip012)\" cx=\"271.59\" cy=\"1439.25\" r=\"14.4\" fill=\"#009af9\" fill-rule=\"evenodd\" fill-opacity=\"1\" stroke=\"#000000\" stroke-opacity=\"1\" stroke-width=\"3.2\"/>\n",
       "<circle clip-path=\"url(#clip012)\" cx=\"298.031\" cy=\"1421.56\" r=\"14.4\" fill=\"#009af9\" fill-rule=\"evenodd\" fill-opacity=\"1\" stroke=\"#000000\" stroke-opacity=\"1\" stroke-width=\"3.2\"/>\n",
       "<circle clip-path=\"url(#clip012)\" cx=\"297.262\" cy=\"1422.08\" r=\"14.4\" fill=\"#009af9\" fill-rule=\"evenodd\" fill-opacity=\"1\" stroke=\"#000000\" stroke-opacity=\"1\" stroke-width=\"3.2\"/>\n",
       "<circle clip-path=\"url(#clip012)\" cx=\"273.329\" cy=\"1438.08\" r=\"14.4\" fill=\"#009af9\" fill-rule=\"evenodd\" fill-opacity=\"1\" stroke=\"#000000\" stroke-opacity=\"1\" stroke-width=\"3.2\"/>\n",
       "<circle clip-path=\"url(#clip012)\" cx=\"270.791\" cy=\"1439.78\" r=\"14.4\" fill=\"#009af9\" fill-rule=\"evenodd\" fill-opacity=\"1\" stroke=\"#000000\" stroke-opacity=\"1\" stroke-width=\"3.2\"/>\n",
       "<circle clip-path=\"url(#clip012)\" cx=\"277.991\" cy=\"1434.97\" r=\"14.4\" fill=\"#009af9\" fill-rule=\"evenodd\" fill-opacity=\"1\" stroke=\"#000000\" stroke-opacity=\"1\" stroke-width=\"3.2\"/>\n",
       "<circle clip-path=\"url(#clip012)\" cx=\"286.218\" cy=\"1429.46\" r=\"14.4\" fill=\"#009af9\" fill-rule=\"evenodd\" fill-opacity=\"1\" stroke=\"#000000\" stroke-opacity=\"1\" stroke-width=\"3.2\"/>\n",
       "<circle clip-path=\"url(#clip012)\" cx=\"265.681\" cy=\"1443.2\" r=\"14.4\" fill=\"#009af9\" fill-rule=\"evenodd\" fill-opacity=\"1\" stroke=\"#000000\" stroke-opacity=\"1\" stroke-width=\"3.2\"/>\n",
       "<circle clip-path=\"url(#clip012)\" cx=\"262.606\" cy=\"1445.26\" r=\"14.4\" fill=\"#009af9\" fill-rule=\"evenodd\" fill-opacity=\"1\" stroke=\"#000000\" stroke-opacity=\"1\" stroke-width=\"3.2\"/>\n",
       "<circle clip-path=\"url(#clip012)\" cx=\"276.489\" cy=\"1435.97\" r=\"14.4\" fill=\"#009af9\" fill-rule=\"evenodd\" fill-opacity=\"1\" stroke=\"#000000\" stroke-opacity=\"1\" stroke-width=\"3.2\"/>\n",
       "<circle clip-path=\"url(#clip012)\" cx=\"267.446\" cy=\"1442.02\" r=\"14.4\" fill=\"#009af9\" fill-rule=\"evenodd\" fill-opacity=\"1\" stroke=\"#000000\" stroke-opacity=\"1\" stroke-width=\"3.2\"/>\n",
       "<circle clip-path=\"url(#clip012)\" cx=\"277.21\" cy=\"1435.49\" r=\"14.4\" fill=\"#009af9\" fill-rule=\"evenodd\" fill-opacity=\"1\" stroke=\"#000000\" stroke-opacity=\"1\" stroke-width=\"3.2\"/>\n",
       "<circle clip-path=\"url(#clip012)\" cx=\"266.927\" cy=\"1442.37\" r=\"14.4\" fill=\"#009af9\" fill-rule=\"evenodd\" fill-opacity=\"1\" stroke=\"#000000\" stroke-opacity=\"1\" stroke-width=\"3.2\"/>\n",
       "<circle clip-path=\"url(#clip012)\" cx=\"264.071\" cy=\"1444.27\" r=\"14.4\" fill=\"#009af9\" fill-rule=\"evenodd\" fill-opacity=\"1\" stroke=\"#000000\" stroke-opacity=\"1\" stroke-width=\"3.2\"/>\n",
       "<circle clip-path=\"url(#clip012)\" cx=\"267.792\" cy=\"1441.79\" r=\"14.4\" fill=\"#009af9\" fill-rule=\"evenodd\" fill-opacity=\"1\" stroke=\"#000000\" stroke-opacity=\"1\" stroke-width=\"3.2\"/>\n",
       "<circle clip-path=\"url(#clip012)\" cx=\"274.103\" cy=\"1437.57\" r=\"14.4\" fill=\"#009af9\" fill-rule=\"evenodd\" fill-opacity=\"1\" stroke=\"#000000\" stroke-opacity=\"1\" stroke-width=\"3.2\"/>\n",
       "<circle clip-path=\"url(#clip012)\" cx=\"266.529\" cy=\"1442.63\" r=\"14.4\" fill=\"#009af9\" fill-rule=\"evenodd\" fill-opacity=\"1\" stroke=\"#000000\" stroke-opacity=\"1\" stroke-width=\"3.2\"/>\n",
       "<path clip-path=\"url(#clip010)\" d=\"M272.744 198.898 L540.348 198.898 L540.348 95.2176 L272.744 95.2176  Z\" fill=\"#ffffff\" fill-rule=\"evenodd\" fill-opacity=\"1\"/>\n",
       "<polyline clip-path=\"url(#clip010)\" style=\"stroke:#000000; stroke-linecap:round; stroke-linejoin:round; stroke-width:4; stroke-opacity:1; fill:none\" points=\"272.744,198.898 540.348,198.898 540.348,95.2176 272.744,95.2176 272.744,198.898 \"/>\n",
       "<circle clip-path=\"url(#clip010)\" cx=\"368.377\" cy=\"147.058\" r=\"20.48\" fill=\"#009af9\" fill-rule=\"evenodd\" fill-opacity=\"1\" stroke=\"#000000\" stroke-opacity=\"1\" stroke-width=\"4.55111\"/>\n",
       "<path clip-path=\"url(#clip010)\" d=\"M477.852 166.745 Q476.046 171.375 474.333 172.787 Q472.62 174.199 469.75 174.199 L466.347 174.199 L466.347 170.634 L468.847 170.634 Q470.607 170.634 471.579 169.8 Q472.551 168.967 473.731 165.865 L474.495 163.921 L464.009 138.412 L468.523 138.412 L476.625 158.689 L484.727 138.412 L489.241 138.412 L477.852 166.745 Z\" fill=\"#000000\" fill-rule=\"nonzero\" fill-opacity=\"1\" /><path clip-path=\"url(#clip010)\" d=\"M496.532 160.402 L504.171 160.402 L504.171 134.037 L495.861 135.703 L495.861 131.444 L504.125 129.778 L508.801 129.778 L508.801 160.402 L516.44 160.402 L516.44 164.338 L496.532 164.338 L496.532 160.402 Z\" fill=\"#000000\" fill-rule=\"nonzero\" fill-opacity=\"1\" /></svg>\n"
      ],
      "text/html": [
       "<?xml version=\"1.0\" encoding=\"utf-8\"?>\n",
       "<svg xmlns=\"http://www.w3.org/2000/svg\" xmlns:xlink=\"http://www.w3.org/1999/xlink\" width=\"600\" height=\"400\" viewBox=\"0 0 2400 1600\">\n",
       "<defs>\n",
       "  <clipPath id=\"clip060\">\n",
       "    <rect x=\"0\" y=\"0\" width=\"2400\" height=\"1600\"/>\n",
       "  </clipPath>\n",
       "</defs>\n",
       "<path clip-path=\"url(#clip060)\" d=\"M0 1600 L2400 1600 L2400 0 L0 0  Z\" fill=\"#ffffff\" fill-rule=\"evenodd\" fill-opacity=\"1\"/>\n",
       "<defs>\n",
       "  <clipPath id=\"clip061\">\n",
       "    <rect x=\"480\" y=\"0\" width=\"1681\" height=\"1600\"/>\n",
       "  </clipPath>\n",
       "</defs>\n",
       "<path clip-path=\"url(#clip060)\" d=\"M201.019 1486.45 L2352.76 1486.45 L2352.76 47.2441 L201.019 47.2441  Z\" fill=\"#ffffff\" fill-rule=\"evenodd\" fill-opacity=\"1\"/>\n",
       "<defs>\n",
       "  <clipPath id=\"clip062\">\n",
       "    <rect x=\"201\" y=\"47\" width=\"2153\" height=\"1440\"/>\n",
       "  </clipPath>\n",
       "</defs>\n",
       "<polyline clip-path=\"url(#clip062)\" style=\"stroke:#000000; stroke-linecap:round; stroke-linejoin:round; stroke-width:2; stroke-opacity:0.1; fill:none\" points=\"257.506,1486.45 257.506,47.2441 \"/>\n",
       "<polyline clip-path=\"url(#clip062)\" style=\"stroke:#000000; stroke-linecap:round; stroke-linejoin:round; stroke-width:2; stroke-opacity:0.1; fill:none\" points=\"726.195,1486.45 726.195,47.2441 \"/>\n",
       "<polyline clip-path=\"url(#clip062)\" style=\"stroke:#000000; stroke-linecap:round; stroke-linejoin:round; stroke-width:2; stroke-opacity:0.1; fill:none\" points=\"1194.88,1486.45 1194.88,47.2441 \"/>\n",
       "<polyline clip-path=\"url(#clip062)\" style=\"stroke:#000000; stroke-linecap:round; stroke-linejoin:round; stroke-width:2; stroke-opacity:0.1; fill:none\" points=\"1663.57,1486.45 1663.57,47.2441 \"/>\n",
       "<polyline clip-path=\"url(#clip062)\" style=\"stroke:#000000; stroke-linecap:round; stroke-linejoin:round; stroke-width:2; stroke-opacity:0.1; fill:none\" points=\"2132.26,1486.45 2132.26,47.2441 \"/>\n",
       "<polyline clip-path=\"url(#clip060)\" style=\"stroke:#000000; stroke-linecap:round; stroke-linejoin:round; stroke-width:4; stroke-opacity:1; fill:none\" points=\"201.019,1486.45 2352.76,1486.45 \"/>\n",
       "<polyline clip-path=\"url(#clip060)\" style=\"stroke:#000000; stroke-linecap:round; stroke-linejoin:round; stroke-width:4; stroke-opacity:1; fill:none\" points=\"257.506,1486.45 257.506,1467.55 \"/>\n",
       "<polyline clip-path=\"url(#clip060)\" style=\"stroke:#000000; stroke-linecap:round; stroke-linejoin:round; stroke-width:4; stroke-opacity:1; fill:none\" points=\"726.195,1486.45 726.195,1467.55 \"/>\n",
       "<polyline clip-path=\"url(#clip060)\" style=\"stroke:#000000; stroke-linecap:round; stroke-linejoin:round; stroke-width:4; stroke-opacity:1; fill:none\" points=\"1194.88,1486.45 1194.88,1467.55 \"/>\n",
       "<polyline clip-path=\"url(#clip060)\" style=\"stroke:#000000; stroke-linecap:round; stroke-linejoin:round; stroke-width:4; stroke-opacity:1; fill:none\" points=\"1663.57,1486.45 1663.57,1467.55 \"/>\n",
       "<polyline clip-path=\"url(#clip060)\" style=\"stroke:#000000; stroke-linecap:round; stroke-linejoin:round; stroke-width:4; stroke-opacity:1; fill:none\" points=\"2132.26,1486.45 2132.26,1467.55 \"/>\n",
       "<path clip-path=\"url(#clip060)\" d=\"M257.506 1517.37 Q253.895 1517.37 252.067 1520.93 Q250.261 1524.47 250.261 1531.6 Q250.261 1538.71 252.067 1542.27 Q253.895 1545.82 257.506 1545.82 Q261.141 1545.82 262.946 1542.27 Q264.775 1538.71 264.775 1531.6 Q264.775 1524.47 262.946 1520.93 Q261.141 1517.37 257.506 1517.37 M257.506 1513.66 Q263.317 1513.66 266.372 1518.27 Q269.451 1522.85 269.451 1531.6 Q269.451 1540.33 266.372 1544.94 Q263.317 1549.52 257.506 1549.52 Q251.696 1549.52 248.618 1544.94 Q245.562 1540.33 245.562 1531.6 Q245.562 1522.85 248.618 1518.27 Q251.696 1513.66 257.506 1513.66 Z\" fill=\"#000000\" fill-rule=\"nonzero\" fill-opacity=\"1\" /><path clip-path=\"url(#clip060)\" d=\"M685.814 1514.29 L704.17 1514.29 L704.17 1518.22 L690.096 1518.22 L690.096 1526.7 Q691.114 1526.35 692.133 1526.19 Q693.152 1526 694.17 1526 Q699.957 1526 703.337 1529.17 Q706.716 1532.34 706.716 1537.76 Q706.716 1543.34 703.244 1546.44 Q699.772 1549.52 693.452 1549.52 Q691.277 1549.52 689.008 1549.15 Q686.763 1548.78 684.355 1548.04 L684.355 1543.34 Q686.439 1544.47 688.661 1545.03 Q690.883 1545.58 693.36 1545.58 Q697.364 1545.58 699.702 1543.48 Q702.04 1541.37 702.04 1537.76 Q702.04 1534.15 699.702 1532.04 Q697.364 1529.94 693.36 1529.94 Q691.485 1529.94 689.61 1530.35 Q687.758 1530.77 685.814 1531.65 L685.814 1514.29 Z\" fill=\"#000000\" fill-rule=\"nonzero\" fill-opacity=\"1\" /><path clip-path=\"url(#clip060)\" d=\"M725.929 1517.37 Q722.318 1517.37 720.489 1520.93 Q718.684 1524.47 718.684 1531.6 Q718.684 1538.71 720.489 1542.27 Q722.318 1545.82 725.929 1545.82 Q729.563 1545.82 731.369 1542.27 Q733.198 1538.71 733.198 1531.6 Q733.198 1524.47 731.369 1520.93 Q729.563 1517.37 725.929 1517.37 M725.929 1513.66 Q731.739 1513.66 734.795 1518.27 Q737.873 1522.85 737.873 1531.6 Q737.873 1540.33 734.795 1544.94 Q731.739 1549.52 725.929 1549.52 Q720.119 1549.52 717.04 1544.94 Q713.985 1540.33 713.985 1531.6 Q713.985 1522.85 717.04 1518.27 Q720.119 1513.66 725.929 1513.66 Z\" fill=\"#000000\" fill-rule=\"nonzero\" fill-opacity=\"1\" /><path clip-path=\"url(#clip060)\" d=\"M756.091 1517.37 Q752.48 1517.37 750.651 1520.93 Q748.846 1524.47 748.846 1531.6 Q748.846 1538.71 750.651 1542.27 Q752.48 1545.82 756.091 1545.82 Q759.725 1545.82 761.531 1542.27 Q763.359 1538.71 763.359 1531.6 Q763.359 1524.47 761.531 1520.93 Q759.725 1517.37 756.091 1517.37 M756.091 1513.66 Q761.901 1513.66 764.957 1518.27 Q768.035 1522.85 768.035 1531.6 Q768.035 1540.33 764.957 1544.94 Q761.901 1549.52 756.091 1549.52 Q750.281 1549.52 747.202 1544.94 Q744.147 1540.33 744.147 1531.6 Q744.147 1522.85 747.202 1518.27 Q750.281 1513.66 756.091 1513.66 Z\" fill=\"#000000\" fill-rule=\"nonzero\" fill-opacity=\"1\" /><path clip-path=\"url(#clip060)\" d=\"M1139.41 1544.91 L1147.05 1544.91 L1147.05 1518.55 L1138.74 1520.21 L1138.74 1515.95 L1147 1514.29 L1151.68 1514.29 L1151.68 1544.91 L1159.32 1544.91 L1159.32 1548.85 L1139.41 1548.85 L1139.41 1544.91 Z\" fill=\"#000000\" fill-rule=\"nonzero\" fill-opacity=\"1\" /><path clip-path=\"url(#clip060)\" d=\"M1178.76 1517.37 Q1175.15 1517.37 1173.32 1520.93 Q1171.52 1524.47 1171.52 1531.6 Q1171.52 1538.71 1173.32 1542.27 Q1175.15 1545.82 1178.76 1545.82 Q1182.4 1545.82 1184.2 1542.27 Q1186.03 1538.71 1186.03 1531.6 Q1186.03 1524.47 1184.2 1520.93 Q1182.4 1517.37 1178.76 1517.37 M1178.76 1513.66 Q1184.57 1513.66 1187.63 1518.27 Q1190.71 1522.85 1190.71 1531.6 Q1190.71 1540.33 1187.63 1544.94 Q1184.57 1549.52 1178.76 1549.52 Q1172.95 1549.52 1169.87 1544.94 Q1166.82 1540.33 1166.82 1531.6 Q1166.82 1522.85 1169.87 1518.27 Q1172.95 1513.66 1178.76 1513.66 Z\" fill=\"#000000\" fill-rule=\"nonzero\" fill-opacity=\"1\" /><path clip-path=\"url(#clip060)\" d=\"M1208.92 1517.37 Q1205.31 1517.37 1203.48 1520.93 Q1201.68 1524.47 1201.68 1531.6 Q1201.68 1538.71 1203.48 1542.27 Q1205.31 1545.82 1208.92 1545.82 Q1212.56 1545.82 1214.36 1542.27 Q1216.19 1538.71 1216.19 1531.6 Q1216.19 1524.47 1214.36 1520.93 Q1212.56 1517.37 1208.92 1517.37 M1208.92 1513.66 Q1214.73 1513.66 1217.79 1518.27 Q1220.87 1522.85 1220.87 1531.6 Q1220.87 1540.33 1217.79 1544.94 Q1214.73 1549.52 1208.92 1549.52 Q1203.11 1549.52 1200.03 1544.94 Q1196.98 1540.33 1196.98 1531.6 Q1196.98 1522.85 1200.03 1518.27 Q1203.11 1513.66 1208.92 1513.66 Z\" fill=\"#000000\" fill-rule=\"nonzero\" fill-opacity=\"1\" /><path clip-path=\"url(#clip060)\" d=\"M1239.09 1517.37 Q1235.47 1517.37 1233.65 1520.93 Q1231.84 1524.47 1231.84 1531.6 Q1231.84 1538.71 1233.65 1542.27 Q1235.47 1545.82 1239.09 1545.82 Q1242.72 1545.82 1244.53 1542.27 Q1246.35 1538.71 1246.35 1531.6 Q1246.35 1524.47 1244.53 1520.93 Q1242.72 1517.37 1239.09 1517.37 M1239.09 1513.66 Q1244.9 1513.66 1247.95 1518.27 Q1251.03 1522.85 1251.03 1531.6 Q1251.03 1540.33 1247.95 1544.94 Q1244.9 1549.52 1239.09 1549.52 Q1233.28 1549.52 1230.2 1544.94 Q1227.14 1540.33 1227.14 1531.6 Q1227.14 1522.85 1230.2 1518.27 Q1233.28 1513.66 1239.09 1513.66 Z\" fill=\"#000000\" fill-rule=\"nonzero\" fill-opacity=\"1\" /><path clip-path=\"url(#clip060)\" d=\"M1608.1 1544.91 L1615.74 1544.91 L1615.74 1518.55 L1607.43 1520.21 L1607.43 1515.95 L1615.69 1514.29 L1620.37 1514.29 L1620.37 1544.91 L1628.01 1544.91 L1628.01 1548.85 L1608.1 1548.85 L1608.1 1544.91 Z\" fill=\"#000000\" fill-rule=\"nonzero\" fill-opacity=\"1\" /><path clip-path=\"url(#clip060)\" d=\"M1637.5 1514.29 L1655.85 1514.29 L1655.85 1518.22 L1641.78 1518.22 L1641.78 1526.7 Q1642.8 1526.35 1643.82 1526.19 Q1644.83 1526 1645.85 1526 Q1651.64 1526 1655.02 1529.17 Q1658.4 1532.34 1658.4 1537.76 Q1658.4 1543.34 1654.93 1546.44 Q1651.46 1549.52 1645.14 1549.52 Q1642.96 1549.52 1640.69 1549.15 Q1638.45 1548.78 1636.04 1548.04 L1636.04 1543.34 Q1638.12 1544.47 1640.34 1545.03 Q1642.57 1545.58 1645.04 1545.58 Q1649.05 1545.58 1651.39 1543.48 Q1653.72 1541.37 1653.72 1537.76 Q1653.72 1534.15 1651.39 1532.04 Q1649.05 1529.94 1645.04 1529.94 Q1643.17 1529.94 1641.29 1530.35 Q1639.44 1530.77 1637.5 1531.65 L1637.5 1514.29 Z\" fill=\"#000000\" fill-rule=\"nonzero\" fill-opacity=\"1\" /><path clip-path=\"url(#clip060)\" d=\"M1677.61 1517.37 Q1674 1517.37 1672.17 1520.93 Q1670.37 1524.47 1670.37 1531.6 Q1670.37 1538.71 1672.17 1542.27 Q1674 1545.82 1677.61 1545.82 Q1681.25 1545.82 1683.05 1542.27 Q1684.88 1538.71 1684.88 1531.6 Q1684.88 1524.47 1683.05 1520.93 Q1681.25 1517.37 1677.61 1517.37 M1677.61 1513.66 Q1683.42 1513.66 1686.48 1518.27 Q1689.56 1522.85 1689.56 1531.6 Q1689.56 1540.33 1686.48 1544.94 Q1683.42 1549.52 1677.61 1549.52 Q1671.8 1549.52 1668.72 1544.94 Q1665.67 1540.33 1665.67 1531.6 Q1665.67 1522.85 1668.72 1518.27 Q1671.8 1513.66 1677.61 1513.66 Z\" fill=\"#000000\" fill-rule=\"nonzero\" fill-opacity=\"1\" /><path clip-path=\"url(#clip060)\" d=\"M1707.77 1517.37 Q1704.16 1517.37 1702.33 1520.93 Q1700.53 1524.47 1700.53 1531.6 Q1700.53 1538.71 1702.33 1542.27 Q1704.16 1545.82 1707.77 1545.82 Q1711.41 1545.82 1713.21 1542.27 Q1715.04 1538.71 1715.04 1531.6 Q1715.04 1524.47 1713.21 1520.93 Q1711.41 1517.37 1707.77 1517.37 M1707.77 1513.66 Q1713.58 1513.66 1716.64 1518.27 Q1719.72 1522.85 1719.72 1531.6 Q1719.72 1540.33 1716.64 1544.94 Q1713.58 1549.52 1707.77 1549.52 Q1701.96 1549.52 1698.89 1544.94 Q1695.83 1540.33 1695.83 1531.6 Q1695.83 1522.85 1698.89 1518.27 Q1701.96 1513.66 1707.77 1513.66 Z\" fill=\"#000000\" fill-rule=\"nonzero\" fill-opacity=\"1\" /><path clip-path=\"url(#clip060)\" d=\"M2080.87 1544.91 L2097.19 1544.91 L2097.19 1548.85 L2075.25 1548.85 L2075.25 1544.91 Q2077.91 1542.16 2082.49 1537.53 Q2087.1 1532.88 2088.28 1531.53 Q2090.53 1529.01 2091.41 1527.27 Q2092.31 1525.51 2092.31 1523.82 Q2092.31 1521.07 2090.36 1519.33 Q2088.44 1517.6 2085.34 1517.6 Q2083.14 1517.6 2080.69 1518.36 Q2078.26 1519.13 2075.48 1520.68 L2075.48 1515.95 Q2078.3 1514.82 2080.76 1514.24 Q2083.21 1513.66 2085.25 1513.66 Q2090.62 1513.66 2093.81 1516.35 Q2097.01 1519.03 2097.01 1523.52 Q2097.01 1525.65 2096.2 1527.57 Q2095.41 1529.47 2093.3 1532.07 Q2092.73 1532.74 2089.62 1535.95 Q2086.52 1539.15 2080.87 1544.91 Z\" fill=\"#000000\" fill-rule=\"nonzero\" fill-opacity=\"1\" /><path clip-path=\"url(#clip060)\" d=\"M2117.01 1517.37 Q2113.4 1517.37 2111.57 1520.93 Q2109.76 1524.47 2109.76 1531.6 Q2109.76 1538.71 2111.57 1542.27 Q2113.4 1545.82 2117.01 1545.82 Q2120.64 1545.82 2122.45 1542.27 Q2124.28 1538.71 2124.28 1531.6 Q2124.28 1524.47 2122.45 1520.93 Q2120.64 1517.37 2117.01 1517.37 M2117.01 1513.66 Q2122.82 1513.66 2125.87 1518.27 Q2128.95 1522.85 2128.95 1531.6 Q2128.95 1540.33 2125.87 1544.94 Q2122.82 1549.52 2117.01 1549.52 Q2111.2 1549.52 2108.12 1544.94 Q2105.06 1540.33 2105.06 1531.6 Q2105.06 1522.85 2108.12 1518.27 Q2111.2 1513.66 2117.01 1513.66 Z\" fill=\"#000000\" fill-rule=\"nonzero\" fill-opacity=\"1\" /><path clip-path=\"url(#clip060)\" d=\"M2147.17 1517.37 Q2143.56 1517.37 2141.73 1520.93 Q2139.92 1524.47 2139.92 1531.6 Q2139.92 1538.71 2141.73 1542.27 Q2143.56 1545.82 2147.17 1545.82 Q2150.8 1545.82 2152.61 1542.27 Q2154.44 1538.71 2154.44 1531.6 Q2154.44 1524.47 2152.61 1520.93 Q2150.8 1517.37 2147.17 1517.37 M2147.17 1513.66 Q2152.98 1513.66 2156.04 1518.27 Q2159.11 1522.85 2159.11 1531.6 Q2159.11 1540.33 2156.04 1544.94 Q2152.98 1549.52 2147.17 1549.52 Q2141.36 1549.52 2138.28 1544.94 Q2135.23 1540.33 2135.23 1531.6 Q2135.23 1522.85 2138.28 1518.27 Q2141.36 1513.66 2147.17 1513.66 Z\" fill=\"#000000\" fill-rule=\"nonzero\" fill-opacity=\"1\" /><path clip-path=\"url(#clip060)\" d=\"M2177.33 1517.37 Q2173.72 1517.37 2171.89 1520.93 Q2170.09 1524.47 2170.09 1531.6 Q2170.09 1538.71 2171.89 1542.27 Q2173.72 1545.82 2177.33 1545.82 Q2180.97 1545.82 2182.77 1542.27 Q2184.6 1538.71 2184.6 1531.6 Q2184.6 1524.47 2182.77 1520.93 Q2180.97 1517.37 2177.33 1517.37 M2177.33 1513.66 Q2183.14 1513.66 2186.2 1518.27 Q2189.28 1522.85 2189.28 1531.6 Q2189.28 1540.33 2186.2 1544.94 Q2183.14 1549.52 2177.33 1549.52 Q2171.52 1549.52 2168.44 1544.94 Q2165.39 1540.33 2165.39 1531.6 Q2165.39 1522.85 2168.44 1518.27 Q2171.52 1513.66 2177.33 1513.66 Z\" fill=\"#000000\" fill-rule=\"nonzero\" fill-opacity=\"1\" /><polyline clip-path=\"url(#clip062)\" style=\"stroke:#000000; stroke-linecap:round; stroke-linejoin:round; stroke-width:2; stroke-opacity:0.1; fill:none\" points=\"201.019,1448.67 2352.76,1448.67 \"/>\n",
       "<polyline clip-path=\"url(#clip062)\" style=\"stroke:#000000; stroke-linecap:round; stroke-linejoin:round; stroke-width:2; stroke-opacity:0.1; fill:none\" points=\"201.019,1135.18 2352.76,1135.18 \"/>\n",
       "<polyline clip-path=\"url(#clip062)\" style=\"stroke:#000000; stroke-linecap:round; stroke-linejoin:round; stroke-width:2; stroke-opacity:0.1; fill:none\" points=\"201.019,821.694 2352.76,821.694 \"/>\n",
       "<polyline clip-path=\"url(#clip062)\" style=\"stroke:#000000; stroke-linecap:round; stroke-linejoin:round; stroke-width:2; stroke-opacity:0.1; fill:none\" points=\"201.019,508.209 2352.76,508.209 \"/>\n",
       "<polyline clip-path=\"url(#clip062)\" style=\"stroke:#000000; stroke-linecap:round; stroke-linejoin:round; stroke-width:2; stroke-opacity:0.1; fill:none\" points=\"201.019,194.723 2352.76,194.723 \"/>\n",
       "<polyline clip-path=\"url(#clip060)\" style=\"stroke:#000000; stroke-linecap:round; stroke-linejoin:round; stroke-width:4; stroke-opacity:1; fill:none\" points=\"201.019,1486.45 201.019,47.2441 \"/>\n",
       "<polyline clip-path=\"url(#clip060)\" style=\"stroke:#000000; stroke-linecap:round; stroke-linejoin:round; stroke-width:4; stroke-opacity:1; fill:none\" points=\"201.019,1448.67 219.917,1448.67 \"/>\n",
       "<polyline clip-path=\"url(#clip060)\" style=\"stroke:#000000; stroke-linecap:round; stroke-linejoin:round; stroke-width:4; stroke-opacity:1; fill:none\" points=\"201.019,1135.18 219.917,1135.18 \"/>\n",
       "<polyline clip-path=\"url(#clip060)\" style=\"stroke:#000000; stroke-linecap:round; stroke-linejoin:round; stroke-width:4; stroke-opacity:1; fill:none\" points=\"201.019,821.694 219.917,821.694 \"/>\n",
       "<polyline clip-path=\"url(#clip060)\" style=\"stroke:#000000; stroke-linecap:round; stroke-linejoin:round; stroke-width:4; stroke-opacity:1; fill:none\" points=\"201.019,508.209 219.917,508.209 \"/>\n",
       "<polyline clip-path=\"url(#clip060)\" style=\"stroke:#000000; stroke-linecap:round; stroke-linejoin:round; stroke-width:4; stroke-opacity:1; fill:none\" points=\"201.019,194.723 219.917,194.723 \"/>\n",
       "<path clip-path=\"url(#clip060)\" d=\"M153.075 1434.46 Q149.464 1434.46 147.635 1438.03 Q145.83 1441.57 145.83 1448.7 Q145.83 1455.81 147.635 1459.37 Q149.464 1462.91 153.075 1462.91 Q156.709 1462.91 158.515 1459.37 Q160.343 1455.81 160.343 1448.7 Q160.343 1441.57 158.515 1438.03 Q156.709 1434.46 153.075 1434.46 M153.075 1430.76 Q158.885 1430.76 161.941 1435.37 Q165.019 1439.95 165.019 1448.7 Q165.019 1457.43 161.941 1462.03 Q158.885 1466.62 153.075 1466.62 Q147.265 1466.62 144.186 1462.03 Q141.131 1457.43 141.131 1448.7 Q141.131 1439.95 144.186 1435.37 Q147.265 1430.76 153.075 1430.76 Z\" fill=\"#000000\" fill-rule=\"nonzero\" fill-opacity=\"1\" /><path clip-path=\"url(#clip060)\" d=\"M82.7975 1117.9 L101.154 1117.9 L101.154 1121.84 L87.0799 1121.84 L87.0799 1130.31 Q88.0984 1129.96 89.1169 1129.8 Q90.1354 1129.61 91.1539 1129.61 Q96.941 1129.61 100.321 1132.78 Q103.7 1135.96 103.7 1141.37 Q103.7 1146.95 100.228 1150.05 Q96.7558 1153.13 90.4364 1153.13 Q88.2604 1153.13 85.9919 1152.76 Q83.7466 1152.39 81.3392 1151.65 L81.3392 1146.95 Q83.4225 1148.09 85.6447 1148.64 Q87.8669 1149.2 90.3438 1149.2 Q94.3484 1149.2 96.6863 1147.09 Q99.0243 1144.98 99.0243 1141.37 Q99.0243 1137.76 96.6863 1135.65 Q94.3484 1133.55 90.3438 1133.55 Q88.4688 1133.55 86.5938 1133.97 Q84.7419 1134.38 82.7975 1135.26 L82.7975 1117.9 Z\" fill=\"#000000\" fill-rule=\"nonzero\" fill-opacity=\"1\" /><path clip-path=\"url(#clip060)\" d=\"M122.913 1120.98 Q119.302 1120.98 117.473 1124.54 Q115.668 1128.09 115.668 1135.22 Q115.668 1142.32 117.473 1145.89 Q119.302 1149.43 122.913 1149.43 Q126.547 1149.43 128.353 1145.89 Q130.182 1142.32 130.182 1135.22 Q130.182 1128.09 128.353 1124.54 Q126.547 1120.98 122.913 1120.98 M122.913 1117.28 Q128.723 1117.28 131.779 1121.88 Q134.857 1126.47 134.857 1135.22 Q134.857 1143.94 131.779 1148.55 Q128.723 1153.13 122.913 1153.13 Q117.103 1153.13 114.024 1148.55 Q110.969 1143.94 110.969 1135.22 Q110.969 1126.47 114.024 1121.88 Q117.103 1117.28 122.913 1117.28 Z\" fill=\"#000000\" fill-rule=\"nonzero\" fill-opacity=\"1\" /><path clip-path=\"url(#clip060)\" d=\"M153.075 1120.98 Q149.464 1120.98 147.635 1124.54 Q145.83 1128.09 145.83 1135.22 Q145.83 1142.32 147.635 1145.89 Q149.464 1149.43 153.075 1149.43 Q156.709 1149.43 158.515 1145.89 Q160.343 1142.32 160.343 1135.22 Q160.343 1128.09 158.515 1124.54 Q156.709 1120.98 153.075 1120.98 M153.075 1117.28 Q158.885 1117.28 161.941 1121.88 Q165.019 1126.47 165.019 1135.22 Q165.019 1143.94 161.941 1148.55 Q158.885 1153.13 153.075 1153.13 Q147.265 1153.13 144.186 1148.55 Q141.131 1143.94 141.131 1135.22 Q141.131 1126.47 144.186 1121.88 Q147.265 1117.28 153.075 1117.28 Z\" fill=\"#000000\" fill-rule=\"nonzero\" fill-opacity=\"1\" /><path clip-path=\"url(#clip060)\" d=\"M53.3995 835.039 L61.0384 835.039 L61.0384 808.674 L52.7282 810.34 L52.7282 806.081 L60.9921 804.414 L65.668 804.414 L65.668 835.039 L73.3068 835.039 L73.3068 838.974 L53.3995 838.974 L53.3995 835.039 Z\" fill=\"#000000\" fill-rule=\"nonzero\" fill-opacity=\"1\" /><path clip-path=\"url(#clip060)\" d=\"M92.7512 807.493 Q89.1401 807.493 87.3114 811.058 Q85.5058 814.6 85.5058 821.729 Q85.5058 828.836 87.3114 832.4 Q89.1401 835.942 92.7512 835.942 Q96.3854 835.942 98.1909 832.4 Q100.02 828.836 100.02 821.729 Q100.02 814.6 98.1909 811.058 Q96.3854 807.493 92.7512 807.493 M92.7512 803.789 Q98.5613 803.789 101.617 808.396 Q104.696 812.979 104.696 821.729 Q104.696 830.456 101.617 835.062 Q98.5613 839.646 92.7512 839.646 Q86.941 839.646 83.8623 835.062 Q80.8068 830.456 80.8068 821.729 Q80.8068 812.979 83.8623 808.396 Q86.941 803.789 92.7512 803.789 Z\" fill=\"#000000\" fill-rule=\"nonzero\" fill-opacity=\"1\" /><path clip-path=\"url(#clip060)\" d=\"M122.913 807.493 Q119.302 807.493 117.473 811.058 Q115.668 814.6 115.668 821.729 Q115.668 828.836 117.473 832.4 Q119.302 835.942 122.913 835.942 Q126.547 835.942 128.353 832.4 Q130.182 828.836 130.182 821.729 Q130.182 814.6 128.353 811.058 Q126.547 807.493 122.913 807.493 M122.913 803.789 Q128.723 803.789 131.779 808.396 Q134.857 812.979 134.857 821.729 Q134.857 830.456 131.779 835.062 Q128.723 839.646 122.913 839.646 Q117.103 839.646 114.024 835.062 Q110.969 830.456 110.969 821.729 Q110.969 812.979 114.024 808.396 Q117.103 803.789 122.913 803.789 Z\" fill=\"#000000\" fill-rule=\"nonzero\" fill-opacity=\"1\" /><path clip-path=\"url(#clip060)\" d=\"M153.075 807.493 Q149.464 807.493 147.635 811.058 Q145.83 814.6 145.83 821.729 Q145.83 828.836 147.635 832.4 Q149.464 835.942 153.075 835.942 Q156.709 835.942 158.515 832.4 Q160.343 828.836 160.343 821.729 Q160.343 814.6 158.515 811.058 Q156.709 807.493 153.075 807.493 M153.075 803.789 Q158.885 803.789 161.941 808.396 Q165.019 812.979 165.019 821.729 Q165.019 830.456 161.941 835.062 Q158.885 839.646 153.075 839.646 Q147.265 839.646 144.186 835.062 Q141.131 830.456 141.131 821.729 Q141.131 812.979 144.186 808.396 Q147.265 803.789 153.075 803.789 Z\" fill=\"#000000\" fill-rule=\"nonzero\" fill-opacity=\"1\" /><path clip-path=\"url(#clip060)\" d=\"M53.3995 521.553 L61.0384 521.553 L61.0384 495.188 L52.7282 496.855 L52.7282 492.595 L60.9921 490.929 L65.668 490.929 L65.668 521.553 L73.3068 521.553 L73.3068 525.489 L53.3995 525.489 L53.3995 521.553 Z\" fill=\"#000000\" fill-rule=\"nonzero\" fill-opacity=\"1\" /><path clip-path=\"url(#clip060)\" d=\"M82.7975 490.929 L101.154 490.929 L101.154 494.864 L87.0799 494.864 L87.0799 503.336 Q88.0984 502.989 89.1169 502.827 Q90.1354 502.642 91.1539 502.642 Q96.941 502.642 100.321 505.813 Q103.7 508.984 103.7 514.401 Q103.7 519.979 100.228 523.081 Q96.7558 526.16 90.4364 526.16 Q88.2604 526.16 85.9919 525.79 Q83.7466 525.419 81.3392 524.678 L81.3392 519.979 Q83.4225 521.114 85.6447 521.669 Q87.8669 522.225 90.3438 522.225 Q94.3484 522.225 96.6863 520.118 Q99.0243 518.012 99.0243 514.401 Q99.0243 510.79 96.6863 508.683 Q94.3484 506.577 90.3438 506.577 Q88.4688 506.577 86.5938 506.993 Q84.7419 507.41 82.7975 508.29 L82.7975 490.929 Z\" fill=\"#000000\" fill-rule=\"nonzero\" fill-opacity=\"1\" /><path clip-path=\"url(#clip060)\" d=\"M122.913 494.007 Q119.302 494.007 117.473 497.572 Q115.668 501.114 115.668 508.243 Q115.668 515.35 117.473 518.915 Q119.302 522.456 122.913 522.456 Q126.547 522.456 128.353 518.915 Q130.182 515.35 130.182 508.243 Q130.182 501.114 128.353 497.572 Q126.547 494.007 122.913 494.007 M122.913 490.304 Q128.723 490.304 131.779 494.91 Q134.857 499.493 134.857 508.243 Q134.857 516.97 131.779 521.577 Q128.723 526.16 122.913 526.16 Q117.103 526.16 114.024 521.577 Q110.969 516.97 110.969 508.243 Q110.969 499.493 114.024 494.91 Q117.103 490.304 122.913 490.304 Z\" fill=\"#000000\" fill-rule=\"nonzero\" fill-opacity=\"1\" /><path clip-path=\"url(#clip060)\" d=\"M153.075 494.007 Q149.464 494.007 147.635 497.572 Q145.83 501.114 145.83 508.243 Q145.83 515.35 147.635 518.915 Q149.464 522.456 153.075 522.456 Q156.709 522.456 158.515 518.915 Q160.343 515.35 160.343 508.243 Q160.343 501.114 158.515 497.572 Q156.709 494.007 153.075 494.007 M153.075 490.304 Q158.885 490.304 161.941 494.91 Q165.019 499.493 165.019 508.243 Q165.019 516.97 161.941 521.577 Q158.885 526.16 153.075 526.16 Q147.265 526.16 144.186 521.577 Q141.131 516.97 141.131 508.243 Q141.131 499.493 144.186 494.91 Q147.265 490.304 153.075 490.304 Z\" fill=\"#000000\" fill-rule=\"nonzero\" fill-opacity=\"1\" /><path clip-path=\"url(#clip060)\" d=\"M56.6171 208.068 L72.9365 208.068 L72.9365 212.003 L50.9921 212.003 L50.9921 208.068 Q53.6541 205.313 58.2375 200.683 Q62.8439 196.031 64.0245 194.688 Q66.2698 192.165 67.1494 190.429 Q68.0522 188.67 68.0522 186.98 Q68.0522 184.225 66.1078 182.489 Q64.1865 180.753 61.0847 180.753 Q58.8856 180.753 56.4319 181.517 Q54.0014 182.281 51.2236 183.832 L51.2236 179.109 Q54.0477 177.975 56.5014 177.397 Q58.955 176.818 60.9921 176.818 Q66.3624 176.818 69.5568 179.503 Q72.7513 182.188 72.7513 186.679 Q72.7513 188.808 71.9411 190.73 Q71.1541 192.628 69.0476 195.221 Q68.4689 195.892 65.367 199.109 Q62.2652 202.304 56.6171 208.068 Z\" fill=\"#000000\" fill-rule=\"nonzero\" fill-opacity=\"1\" /><path clip-path=\"url(#clip060)\" d=\"M92.7512 180.522 Q89.1401 180.522 87.3114 184.086 Q85.5058 187.628 85.5058 194.758 Q85.5058 201.864 87.3114 205.429 Q89.1401 208.97 92.7512 208.97 Q96.3854 208.97 98.1909 205.429 Q100.02 201.864 100.02 194.758 Q100.02 187.628 98.1909 184.086 Q96.3854 180.522 92.7512 180.522 M92.7512 176.818 Q98.5613 176.818 101.617 181.424 Q104.696 186.008 104.696 194.758 Q104.696 203.484 101.617 208.091 Q98.5613 212.674 92.7512 212.674 Q86.941 212.674 83.8623 208.091 Q80.8068 203.484 80.8068 194.758 Q80.8068 186.008 83.8623 181.424 Q86.941 176.818 92.7512 176.818 Z\" fill=\"#000000\" fill-rule=\"nonzero\" fill-opacity=\"1\" /><path clip-path=\"url(#clip060)\" d=\"M122.913 180.522 Q119.302 180.522 117.473 184.086 Q115.668 187.628 115.668 194.758 Q115.668 201.864 117.473 205.429 Q119.302 208.97 122.913 208.97 Q126.547 208.97 128.353 205.429 Q130.182 201.864 130.182 194.758 Q130.182 187.628 128.353 184.086 Q126.547 180.522 122.913 180.522 M122.913 176.818 Q128.723 176.818 131.779 181.424 Q134.857 186.008 134.857 194.758 Q134.857 203.484 131.779 208.091 Q128.723 212.674 122.913 212.674 Q117.103 212.674 114.024 208.091 Q110.969 203.484 110.969 194.758 Q110.969 186.008 114.024 181.424 Q117.103 176.818 122.913 176.818 Z\" fill=\"#000000\" fill-rule=\"nonzero\" fill-opacity=\"1\" /><path clip-path=\"url(#clip060)\" d=\"M153.075 180.522 Q149.464 180.522 147.635 184.086 Q145.83 187.628 145.83 194.758 Q145.83 201.864 147.635 205.429 Q149.464 208.97 153.075 208.97 Q156.709 208.97 158.515 205.429 Q160.343 201.864 160.343 194.758 Q160.343 187.628 158.515 184.086 Q156.709 180.522 153.075 180.522 M153.075 176.818 Q158.885 176.818 161.941 181.424 Q165.019 186.008 165.019 194.758 Q165.019 203.484 161.941 208.091 Q158.885 212.674 153.075 212.674 Q147.265 212.674 144.186 208.091 Q141.131 203.484 141.131 194.758 Q141.131 186.008 144.186 181.424 Q147.265 176.818 153.075 176.818 Z\" fill=\"#000000\" fill-rule=\"nonzero\" fill-opacity=\"1\" /><circle clip-path=\"url(#clip062)\" cx=\"270.68\" cy=\"1439.85\" r=\"14.4\" fill=\"#009af9\" fill-rule=\"evenodd\" fill-opacity=\"1\" stroke=\"#000000\" stroke-opacity=\"1\" stroke-width=\"3.2\"/>\n",
       "<circle clip-path=\"url(#clip062)\" cx=\"441.657\" cy=\"1325.5\" r=\"14.4\" fill=\"#009af9\" fill-rule=\"evenodd\" fill-opacity=\"1\" stroke=\"#000000\" stroke-opacity=\"1\" stroke-width=\"3.2\"/>\n",
       "<circle clip-path=\"url(#clip062)\" cx=\"277.751\" cy=\"1435.13\" r=\"14.4\" fill=\"#009af9\" fill-rule=\"evenodd\" fill-opacity=\"1\" stroke=\"#000000\" stroke-opacity=\"1\" stroke-width=\"3.2\"/>\n",
       "<circle clip-path=\"url(#clip062)\" cx=\"270.328\" cy=\"1440.09\" r=\"14.4\" fill=\"#009af9\" fill-rule=\"evenodd\" fill-opacity=\"1\" stroke=\"#000000\" stroke-opacity=\"1\" stroke-width=\"3.2\"/>\n",
       "<circle clip-path=\"url(#clip062)\" cx=\"272.433\" cy=\"1438.68\" r=\"14.4\" fill=\"#009af9\" fill-rule=\"evenodd\" fill-opacity=\"1\" stroke=\"#000000\" stroke-opacity=\"1\" stroke-width=\"3.2\"/>\n",
       "<circle clip-path=\"url(#clip062)\" cx=\"272.12\" cy=\"1438.89\" r=\"14.4\" fill=\"#009af9\" fill-rule=\"evenodd\" fill-opacity=\"1\" stroke=\"#000000\" stroke-opacity=\"1\" stroke-width=\"3.2\"/>\n",
       "<circle clip-path=\"url(#clip062)\" cx=\"264.373\" cy=\"1444.07\" r=\"14.4\" fill=\"#009af9\" fill-rule=\"evenodd\" fill-opacity=\"1\" stroke=\"#000000\" stroke-opacity=\"1\" stroke-width=\"3.2\"/>\n",
       "<circle clip-path=\"url(#clip062)\" cx=\"266.697\" cy=\"1442.52\" r=\"14.4\" fill=\"#009af9\" fill-rule=\"evenodd\" fill-opacity=\"1\" stroke=\"#000000\" stroke-opacity=\"1\" stroke-width=\"3.2\"/>\n",
       "<circle clip-path=\"url(#clip062)\" cx=\"270.856\" cy=\"1439.74\" r=\"14.4\" fill=\"#009af9\" fill-rule=\"evenodd\" fill-opacity=\"1\" stroke=\"#000000\" stroke-opacity=\"1\" stroke-width=\"3.2\"/>\n",
       "<circle clip-path=\"url(#clip062)\" cx=\"329.697\" cy=\"1400.38\" r=\"14.4\" fill=\"#009af9\" fill-rule=\"evenodd\" fill-opacity=\"1\" stroke=\"#000000\" stroke-opacity=\"1\" stroke-width=\"3.2\"/>\n",
       "<circle clip-path=\"url(#clip062)\" cx=\"323.391\" cy=\"1404.6\" r=\"14.4\" fill=\"#009af9\" fill-rule=\"evenodd\" fill-opacity=\"1\" stroke=\"#000000\" stroke-opacity=\"1\" stroke-width=\"3.2\"/>\n",
       "<circle clip-path=\"url(#clip062)\" cx=\"293.856\" cy=\"1424.35\" r=\"14.4\" fill=\"#009af9\" fill-rule=\"evenodd\" fill-opacity=\"1\" stroke=\"#000000\" stroke-opacity=\"1\" stroke-width=\"3.2\"/>\n",
       "<circle clip-path=\"url(#clip062)\" cx=\"267.59\" cy=\"1441.92\" r=\"14.4\" fill=\"#009af9\" fill-rule=\"evenodd\" fill-opacity=\"1\" stroke=\"#000000\" stroke-opacity=\"1\" stroke-width=\"3.2\"/>\n",
       "<circle clip-path=\"url(#clip062)\" cx=\"294.946\" cy=\"1423.62\" r=\"14.4\" fill=\"#009af9\" fill-rule=\"evenodd\" fill-opacity=\"1\" stroke=\"#000000\" stroke-opacity=\"1\" stroke-width=\"3.2\"/>\n",
       "<circle clip-path=\"url(#clip062)\" cx=\"269.77\" cy=\"1440.46\" r=\"14.4\" fill=\"#009af9\" fill-rule=\"evenodd\" fill-opacity=\"1\" stroke=\"#000000\" stroke-opacity=\"1\" stroke-width=\"3.2\"/>\n",
       "<circle clip-path=\"url(#clip062)\" cx=\"325.145\" cy=\"1403.43\" r=\"14.4\" fill=\"#009af9\" fill-rule=\"evenodd\" fill-opacity=\"1\" stroke=\"#000000\" stroke-opacity=\"1\" stroke-width=\"3.2\"/>\n",
       "<circle clip-path=\"url(#clip062)\" cx=\"284.786\" cy=\"1430.42\" r=\"14.4\" fill=\"#009af9\" fill-rule=\"evenodd\" fill-opacity=\"1\" stroke=\"#000000\" stroke-opacity=\"1\" stroke-width=\"3.2\"/>\n",
       "<circle clip-path=\"url(#clip062)\" cx=\"267.254\" cy=\"1442.15\" r=\"14.4\" fill=\"#009af9\" fill-rule=\"evenodd\" fill-opacity=\"1\" stroke=\"#000000\" stroke-opacity=\"1\" stroke-width=\"3.2\"/>\n",
       "<circle clip-path=\"url(#clip062)\" cx=\"283.523\" cy=\"1431.26\" r=\"14.4\" fill=\"#009af9\" fill-rule=\"evenodd\" fill-opacity=\"1\" stroke=\"#000000\" stroke-opacity=\"1\" stroke-width=\"3.2\"/>\n",
       "<circle clip-path=\"url(#clip062)\" cx=\"2291.86\" cy=\"87.9763\" r=\"14.4\" fill=\"#009af9\" fill-rule=\"evenodd\" fill-opacity=\"1\" stroke=\"#000000\" stroke-opacity=\"1\" stroke-width=\"3.2\"/>\n",
       "<circle clip-path=\"url(#clip062)\" cx=\"284.448\" cy=\"1430.65\" r=\"14.4\" fill=\"#009af9\" fill-rule=\"evenodd\" fill-opacity=\"1\" stroke=\"#000000\" stroke-opacity=\"1\" stroke-width=\"3.2\"/>\n",
       "<circle clip-path=\"url(#clip062)\" cx=\"281.139\" cy=\"1432.86\" r=\"14.4\" fill=\"#009af9\" fill-rule=\"evenodd\" fill-opacity=\"1\" stroke=\"#000000\" stroke-opacity=\"1\" stroke-width=\"3.2\"/>\n",
       "<circle clip-path=\"url(#clip062)\" cx=\"268.821\" cy=\"1441.1\" r=\"14.4\" fill=\"#009af9\" fill-rule=\"evenodd\" fill-opacity=\"1\" stroke=\"#000000\" stroke-opacity=\"1\" stroke-width=\"3.2\"/>\n",
       "<circle clip-path=\"url(#clip062)\" cx=\"277.87\" cy=\"1435.05\" r=\"14.4\" fill=\"#009af9\" fill-rule=\"evenodd\" fill-opacity=\"1\" stroke=\"#000000\" stroke-opacity=\"1\" stroke-width=\"3.2\"/>\n",
       "<circle clip-path=\"url(#clip062)\" cx=\"329.21\" cy=\"1400.71\" r=\"14.4\" fill=\"#009af9\" fill-rule=\"evenodd\" fill-opacity=\"1\" stroke=\"#000000\" stroke-opacity=\"1\" stroke-width=\"3.2\"/>\n",
       "<circle clip-path=\"url(#clip062)\" cx=\"362.251\" cy=\"1378.61\" r=\"14.4\" fill=\"#009af9\" fill-rule=\"evenodd\" fill-opacity=\"1\" stroke=\"#000000\" stroke-opacity=\"1\" stroke-width=\"3.2\"/>\n",
       "<circle clip-path=\"url(#clip062)\" cx=\"276.781\" cy=\"1435.77\" r=\"14.4\" fill=\"#009af9\" fill-rule=\"evenodd\" fill-opacity=\"1\" stroke=\"#000000\" stroke-opacity=\"1\" stroke-width=\"3.2\"/>\n",
       "<circle clip-path=\"url(#clip062)\" cx=\"273.67\" cy=\"1437.85\" r=\"14.4\" fill=\"#009af9\" fill-rule=\"evenodd\" fill-opacity=\"1\" stroke=\"#000000\" stroke-opacity=\"1\" stroke-width=\"3.2\"/>\n",
       "<circle clip-path=\"url(#clip062)\" cx=\"262.525\" cy=\"1445.31\" r=\"14.4\" fill=\"#009af9\" fill-rule=\"evenodd\" fill-opacity=\"1\" stroke=\"#000000\" stroke-opacity=\"1\" stroke-width=\"3.2\"/>\n",
       "<circle clip-path=\"url(#clip062)\" cx=\"267.76\" cy=\"1441.81\" r=\"14.4\" fill=\"#009af9\" fill-rule=\"evenodd\" fill-opacity=\"1\" stroke=\"#000000\" stroke-opacity=\"1\" stroke-width=\"3.2\"/>\n",
       "<circle clip-path=\"url(#clip062)\" cx=\"300.69\" cy=\"1419.78\" r=\"14.4\" fill=\"#009af9\" fill-rule=\"evenodd\" fill-opacity=\"1\" stroke=\"#000000\" stroke-opacity=\"1\" stroke-width=\"3.2\"/>\n",
       "<circle clip-path=\"url(#clip062)\" cx=\"274.813\" cy=\"1437.09\" r=\"14.4\" fill=\"#009af9\" fill-rule=\"evenodd\" fill-opacity=\"1\" stroke=\"#000000\" stroke-opacity=\"1\" stroke-width=\"3.2\"/>\n",
       "<circle clip-path=\"url(#clip062)\" cx=\"266.755\" cy=\"1442.48\" r=\"14.4\" fill=\"#009af9\" fill-rule=\"evenodd\" fill-opacity=\"1\" stroke=\"#000000\" stroke-opacity=\"1\" stroke-width=\"3.2\"/>\n",
       "<circle clip-path=\"url(#clip062)\" cx=\"271.439\" cy=\"1439.35\" r=\"14.4\" fill=\"#009af9\" fill-rule=\"evenodd\" fill-opacity=\"1\" stroke=\"#000000\" stroke-opacity=\"1\" stroke-width=\"3.2\"/>\n",
       "<circle clip-path=\"url(#clip062)\" cx=\"264.391\" cy=\"1444.06\" r=\"14.4\" fill=\"#009af9\" fill-rule=\"evenodd\" fill-opacity=\"1\" stroke=\"#000000\" stroke-opacity=\"1\" stroke-width=\"3.2\"/>\n",
       "<circle clip-path=\"url(#clip062)\" cx=\"296.505\" cy=\"1422.58\" r=\"14.4\" fill=\"#009af9\" fill-rule=\"evenodd\" fill-opacity=\"1\" stroke=\"#000000\" stroke-opacity=\"1\" stroke-width=\"3.2\"/>\n",
       "<circle clip-path=\"url(#clip062)\" cx=\"264.303\" cy=\"1444.12\" r=\"14.4\" fill=\"#009af9\" fill-rule=\"evenodd\" fill-opacity=\"1\" stroke=\"#000000\" stroke-opacity=\"1\" stroke-width=\"3.2\"/>\n",
       "<circle clip-path=\"url(#clip062)\" cx=\"263.398\" cy=\"1444.73\" r=\"14.4\" fill=\"#009af9\" fill-rule=\"evenodd\" fill-opacity=\"1\" stroke=\"#000000\" stroke-opacity=\"1\" stroke-width=\"3.2\"/>\n",
       "<circle clip-path=\"url(#clip062)\" cx=\"262.363\" cy=\"1445.42\" r=\"14.4\" fill=\"#009af9\" fill-rule=\"evenodd\" fill-opacity=\"1\" stroke=\"#000000\" stroke-opacity=\"1\" stroke-width=\"3.2\"/>\n",
       "<circle clip-path=\"url(#clip062)\" cx=\"268.804\" cy=\"1441.11\" r=\"14.4\" fill=\"#009af9\" fill-rule=\"evenodd\" fill-opacity=\"1\" stroke=\"#000000\" stroke-opacity=\"1\" stroke-width=\"3.2\"/>\n",
       "<circle clip-path=\"url(#clip062)\" cx=\"262.624\" cy=\"1445.24\" r=\"14.4\" fill=\"#009af9\" fill-rule=\"evenodd\" fill-opacity=\"1\" stroke=\"#000000\" stroke-opacity=\"1\" stroke-width=\"3.2\"/>\n",
       "<circle clip-path=\"url(#clip062)\" cx=\"324.07\" cy=\"1404.14\" r=\"14.4\" fill=\"#009af9\" fill-rule=\"evenodd\" fill-opacity=\"1\" stroke=\"#000000\" stroke-opacity=\"1\" stroke-width=\"3.2\"/>\n",
       "<circle clip-path=\"url(#clip062)\" cx=\"265.363\" cy=\"1443.41\" r=\"14.4\" fill=\"#009af9\" fill-rule=\"evenodd\" fill-opacity=\"1\" stroke=\"#000000\" stroke-opacity=\"1\" stroke-width=\"3.2\"/>\n",
       "<circle clip-path=\"url(#clip062)\" cx=\"284.568\" cy=\"1430.57\" r=\"14.4\" fill=\"#009af9\" fill-rule=\"evenodd\" fill-opacity=\"1\" stroke=\"#000000\" stroke-opacity=\"1\" stroke-width=\"3.2\"/>\n",
       "<circle clip-path=\"url(#clip062)\" cx=\"272.229\" cy=\"1438.82\" r=\"14.4\" fill=\"#009af9\" fill-rule=\"evenodd\" fill-opacity=\"1\" stroke=\"#000000\" stroke-opacity=\"1\" stroke-width=\"3.2\"/>\n",
       "<circle clip-path=\"url(#clip062)\" cx=\"264.297\" cy=\"1444.12\" r=\"14.4\" fill=\"#009af9\" fill-rule=\"evenodd\" fill-opacity=\"1\" stroke=\"#000000\" stroke-opacity=\"1\" stroke-width=\"3.2\"/>\n",
       "<circle clip-path=\"url(#clip062)\" cx=\"317.773\" cy=\"1408.36\" r=\"14.4\" fill=\"#009af9\" fill-rule=\"evenodd\" fill-opacity=\"1\" stroke=\"#000000\" stroke-opacity=\"1\" stroke-width=\"3.2\"/>\n",
       "<circle clip-path=\"url(#clip062)\" cx=\"292.198\" cy=\"1425.46\" r=\"14.4\" fill=\"#009af9\" fill-rule=\"evenodd\" fill-opacity=\"1\" stroke=\"#000000\" stroke-opacity=\"1\" stroke-width=\"3.2\"/>\n",
       "<circle clip-path=\"url(#clip062)\" cx=\"324.821\" cy=\"1403.64\" r=\"14.4\" fill=\"#009af9\" fill-rule=\"evenodd\" fill-opacity=\"1\" stroke=\"#000000\" stroke-opacity=\"1\" stroke-width=\"3.2\"/>\n",
       "<circle clip-path=\"url(#clip062)\" cx=\"279.533\" cy=\"1433.93\" r=\"14.4\" fill=\"#009af9\" fill-rule=\"evenodd\" fill-opacity=\"1\" stroke=\"#000000\" stroke-opacity=\"1\" stroke-width=\"3.2\"/>\n",
       "<circle clip-path=\"url(#clip062)\" cx=\"271.054\" cy=\"1439.6\" r=\"14.4\" fill=\"#009af9\" fill-rule=\"evenodd\" fill-opacity=\"1\" stroke=\"#000000\" stroke-opacity=\"1\" stroke-width=\"3.2\"/>\n",
       "<circle clip-path=\"url(#clip062)\" cx=\"267.292\" cy=\"1442.12\" r=\"14.4\" fill=\"#009af9\" fill-rule=\"evenodd\" fill-opacity=\"1\" stroke=\"#000000\" stroke-opacity=\"1\" stroke-width=\"3.2\"/>\n",
       "<circle clip-path=\"url(#clip062)\" cx=\"375.352\" cy=\"1369.84\" r=\"14.4\" fill=\"#009af9\" fill-rule=\"evenodd\" fill-opacity=\"1\" stroke=\"#000000\" stroke-opacity=\"1\" stroke-width=\"3.2\"/>\n",
       "<circle clip-path=\"url(#clip062)\" cx=\"268.164\" cy=\"1441.54\" r=\"14.4\" fill=\"#009af9\" fill-rule=\"evenodd\" fill-opacity=\"1\" stroke=\"#000000\" stroke-opacity=\"1\" stroke-width=\"3.2\"/>\n",
       "<circle clip-path=\"url(#clip062)\" cx=\"289.91\" cy=\"1426.99\" r=\"14.4\" fill=\"#009af9\" fill-rule=\"evenodd\" fill-opacity=\"1\" stroke=\"#000000\" stroke-opacity=\"1\" stroke-width=\"3.2\"/>\n",
       "<circle clip-path=\"url(#clip062)\" cx=\"267.182\" cy=\"1442.19\" r=\"14.4\" fill=\"#009af9\" fill-rule=\"evenodd\" fill-opacity=\"1\" stroke=\"#000000\" stroke-opacity=\"1\" stroke-width=\"3.2\"/>\n",
       "<circle clip-path=\"url(#clip062)\" cx=\"272.932\" cy=\"1438.35\" r=\"14.4\" fill=\"#009af9\" fill-rule=\"evenodd\" fill-opacity=\"1\" stroke=\"#000000\" stroke-opacity=\"1\" stroke-width=\"3.2\"/>\n",
       "<circle clip-path=\"url(#clip062)\" cx=\"266.607\" cy=\"1442.58\" r=\"14.4\" fill=\"#009af9\" fill-rule=\"evenodd\" fill-opacity=\"1\" stroke=\"#000000\" stroke-opacity=\"1\" stroke-width=\"3.2\"/>\n",
       "<circle clip-path=\"url(#clip062)\" cx=\"269.752\" cy=\"1440.48\" r=\"14.4\" fill=\"#009af9\" fill-rule=\"evenodd\" fill-opacity=\"1\" stroke=\"#000000\" stroke-opacity=\"1\" stroke-width=\"3.2\"/>\n",
       "<circle clip-path=\"url(#clip062)\" cx=\"264.832\" cy=\"1443.77\" r=\"14.4\" fill=\"#009af9\" fill-rule=\"evenodd\" fill-opacity=\"1\" stroke=\"#000000\" stroke-opacity=\"1\" stroke-width=\"3.2\"/>\n",
       "<circle clip-path=\"url(#clip062)\" cx=\"279.02\" cy=\"1434.28\" r=\"14.4\" fill=\"#009af9\" fill-rule=\"evenodd\" fill-opacity=\"1\" stroke=\"#000000\" stroke-opacity=\"1\" stroke-width=\"3.2\"/>\n",
       "<circle clip-path=\"url(#clip062)\" cx=\"336.344\" cy=\"1395.94\" r=\"14.4\" fill=\"#009af9\" fill-rule=\"evenodd\" fill-opacity=\"1\" stroke=\"#000000\" stroke-opacity=\"1\" stroke-width=\"3.2\"/>\n",
       "<circle clip-path=\"url(#clip062)\" cx=\"317.534\" cy=\"1408.52\" r=\"14.4\" fill=\"#009af9\" fill-rule=\"evenodd\" fill-opacity=\"1\" stroke=\"#000000\" stroke-opacity=\"1\" stroke-width=\"3.2\"/>\n",
       "<circle clip-path=\"url(#clip062)\" cx=\"295.71\" cy=\"1423.11\" r=\"14.4\" fill=\"#009af9\" fill-rule=\"evenodd\" fill-opacity=\"1\" stroke=\"#000000\" stroke-opacity=\"1\" stroke-width=\"3.2\"/>\n",
       "<circle clip-path=\"url(#clip062)\" cx=\"274.653\" cy=\"1437.2\" r=\"14.4\" fill=\"#009af9\" fill-rule=\"evenodd\" fill-opacity=\"1\" stroke=\"#000000\" stroke-opacity=\"1\" stroke-width=\"3.2\"/>\n",
       "<circle clip-path=\"url(#clip062)\" cx=\"310.182\" cy=\"1413.43\" r=\"14.4\" fill=\"#009af9\" fill-rule=\"evenodd\" fill-opacity=\"1\" stroke=\"#000000\" stroke-opacity=\"1\" stroke-width=\"3.2\"/>\n",
       "<circle clip-path=\"url(#clip062)\" cx=\"261.917\" cy=\"1445.72\" r=\"14.4\" fill=\"#009af9\" fill-rule=\"evenodd\" fill-opacity=\"1\" stroke=\"#000000\" stroke-opacity=\"1\" stroke-width=\"3.2\"/>\n",
       "<circle clip-path=\"url(#clip062)\" cx=\"265.731\" cy=\"1443.16\" r=\"14.4\" fill=\"#009af9\" fill-rule=\"evenodd\" fill-opacity=\"1\" stroke=\"#000000\" stroke-opacity=\"1\" stroke-width=\"3.2\"/>\n",
       "<circle clip-path=\"url(#clip062)\" cx=\"266.288\" cy=\"1442.79\" r=\"14.4\" fill=\"#009af9\" fill-rule=\"evenodd\" fill-opacity=\"1\" stroke=\"#000000\" stroke-opacity=\"1\" stroke-width=\"3.2\"/>\n",
       "<circle clip-path=\"url(#clip062)\" cx=\"572.189\" cy=\"1238.19\" r=\"14.4\" fill=\"#009af9\" fill-rule=\"evenodd\" fill-opacity=\"1\" stroke=\"#000000\" stroke-opacity=\"1\" stroke-width=\"3.2\"/>\n",
       "<circle clip-path=\"url(#clip062)\" cx=\"279.585\" cy=\"1433.9\" r=\"14.4\" fill=\"#009af9\" fill-rule=\"evenodd\" fill-opacity=\"1\" stroke=\"#000000\" stroke-opacity=\"1\" stroke-width=\"3.2\"/>\n",
       "<circle clip-path=\"url(#clip062)\" cx=\"599.261\" cy=\"1220.08\" r=\"14.4\" fill=\"#009af9\" fill-rule=\"evenodd\" fill-opacity=\"1\" stroke=\"#000000\" stroke-opacity=\"1\" stroke-width=\"3.2\"/>\n",
       "<circle clip-path=\"url(#clip062)\" cx=\"269.811\" cy=\"1440.44\" r=\"14.4\" fill=\"#009af9\" fill-rule=\"evenodd\" fill-opacity=\"1\" stroke=\"#000000\" stroke-opacity=\"1\" stroke-width=\"3.2\"/>\n",
       "<circle clip-path=\"url(#clip062)\" cx=\"271.28\" cy=\"1439.45\" r=\"14.4\" fill=\"#009af9\" fill-rule=\"evenodd\" fill-opacity=\"1\" stroke=\"#000000\" stroke-opacity=\"1\" stroke-width=\"3.2\"/>\n",
       "<circle clip-path=\"url(#clip062)\" cx=\"274.491\" cy=\"1437.31\" r=\"14.4\" fill=\"#009af9\" fill-rule=\"evenodd\" fill-opacity=\"1\" stroke=\"#000000\" stroke-opacity=\"1\" stroke-width=\"3.2\"/>\n",
       "<circle clip-path=\"url(#clip062)\" cx=\"269.439\" cy=\"1440.68\" r=\"14.4\" fill=\"#009af9\" fill-rule=\"evenodd\" fill-opacity=\"1\" stroke=\"#000000\" stroke-opacity=\"1\" stroke-width=\"3.2\"/>\n",
       "<circle clip-path=\"url(#clip062)\" cx=\"274.661\" cy=\"1437.19\" r=\"14.4\" fill=\"#009af9\" fill-rule=\"evenodd\" fill-opacity=\"1\" stroke=\"#000000\" stroke-opacity=\"1\" stroke-width=\"3.2\"/>\n",
       "<circle clip-path=\"url(#clip062)\" cx=\"279.384\" cy=\"1434.03\" r=\"14.4\" fill=\"#009af9\" fill-rule=\"evenodd\" fill-opacity=\"1\" stroke=\"#000000\" stroke-opacity=\"1\" stroke-width=\"3.2\"/>\n",
       "<circle clip-path=\"url(#clip062)\" cx=\"269.16\" cy=\"1440.87\" r=\"14.4\" fill=\"#009af9\" fill-rule=\"evenodd\" fill-opacity=\"1\" stroke=\"#000000\" stroke-opacity=\"1\" stroke-width=\"3.2\"/>\n",
       "<circle clip-path=\"url(#clip062)\" cx=\"269.056\" cy=\"1440.94\" r=\"14.4\" fill=\"#009af9\" fill-rule=\"evenodd\" fill-opacity=\"1\" stroke=\"#000000\" stroke-opacity=\"1\" stroke-width=\"3.2\"/>\n",
       "<circle clip-path=\"url(#clip062)\" cx=\"262.534\" cy=\"1445.3\" r=\"14.4\" fill=\"#009af9\" fill-rule=\"evenodd\" fill-opacity=\"1\" stroke=\"#000000\" stroke-opacity=\"1\" stroke-width=\"3.2\"/>\n",
       "<circle clip-path=\"url(#clip062)\" cx=\"272.331\" cy=\"1438.75\" r=\"14.4\" fill=\"#009af9\" fill-rule=\"evenodd\" fill-opacity=\"1\" stroke=\"#000000\" stroke-opacity=\"1\" stroke-width=\"3.2\"/>\n",
       "<circle clip-path=\"url(#clip062)\" cx=\"264.631\" cy=\"1443.9\" r=\"14.4\" fill=\"#009af9\" fill-rule=\"evenodd\" fill-opacity=\"1\" stroke=\"#000000\" stroke-opacity=\"1\" stroke-width=\"3.2\"/>\n",
       "<circle clip-path=\"url(#clip062)\" cx=\"331.475\" cy=\"1399.19\" r=\"14.4\" fill=\"#009af9\" fill-rule=\"evenodd\" fill-opacity=\"1\" stroke=\"#000000\" stroke-opacity=\"1\" stroke-width=\"3.2\"/>\n",
       "<circle clip-path=\"url(#clip062)\" cx=\"271.59\" cy=\"1439.25\" r=\"14.4\" fill=\"#009af9\" fill-rule=\"evenodd\" fill-opacity=\"1\" stroke=\"#000000\" stroke-opacity=\"1\" stroke-width=\"3.2\"/>\n",
       "<circle clip-path=\"url(#clip062)\" cx=\"298.031\" cy=\"1421.56\" r=\"14.4\" fill=\"#009af9\" fill-rule=\"evenodd\" fill-opacity=\"1\" stroke=\"#000000\" stroke-opacity=\"1\" stroke-width=\"3.2\"/>\n",
       "<circle clip-path=\"url(#clip062)\" cx=\"297.262\" cy=\"1422.08\" r=\"14.4\" fill=\"#009af9\" fill-rule=\"evenodd\" fill-opacity=\"1\" stroke=\"#000000\" stroke-opacity=\"1\" stroke-width=\"3.2\"/>\n",
       "<circle clip-path=\"url(#clip062)\" cx=\"273.329\" cy=\"1438.08\" r=\"14.4\" fill=\"#009af9\" fill-rule=\"evenodd\" fill-opacity=\"1\" stroke=\"#000000\" stroke-opacity=\"1\" stroke-width=\"3.2\"/>\n",
       "<circle clip-path=\"url(#clip062)\" cx=\"270.791\" cy=\"1439.78\" r=\"14.4\" fill=\"#009af9\" fill-rule=\"evenodd\" fill-opacity=\"1\" stroke=\"#000000\" stroke-opacity=\"1\" stroke-width=\"3.2\"/>\n",
       "<circle clip-path=\"url(#clip062)\" cx=\"277.991\" cy=\"1434.97\" r=\"14.4\" fill=\"#009af9\" fill-rule=\"evenodd\" fill-opacity=\"1\" stroke=\"#000000\" stroke-opacity=\"1\" stroke-width=\"3.2\"/>\n",
       "<circle clip-path=\"url(#clip062)\" cx=\"286.218\" cy=\"1429.46\" r=\"14.4\" fill=\"#009af9\" fill-rule=\"evenodd\" fill-opacity=\"1\" stroke=\"#000000\" stroke-opacity=\"1\" stroke-width=\"3.2\"/>\n",
       "<circle clip-path=\"url(#clip062)\" cx=\"265.681\" cy=\"1443.2\" r=\"14.4\" fill=\"#009af9\" fill-rule=\"evenodd\" fill-opacity=\"1\" stroke=\"#000000\" stroke-opacity=\"1\" stroke-width=\"3.2\"/>\n",
       "<circle clip-path=\"url(#clip062)\" cx=\"262.606\" cy=\"1445.26\" r=\"14.4\" fill=\"#009af9\" fill-rule=\"evenodd\" fill-opacity=\"1\" stroke=\"#000000\" stroke-opacity=\"1\" stroke-width=\"3.2\"/>\n",
       "<circle clip-path=\"url(#clip062)\" cx=\"276.489\" cy=\"1435.97\" r=\"14.4\" fill=\"#009af9\" fill-rule=\"evenodd\" fill-opacity=\"1\" stroke=\"#000000\" stroke-opacity=\"1\" stroke-width=\"3.2\"/>\n",
       "<circle clip-path=\"url(#clip062)\" cx=\"267.446\" cy=\"1442.02\" r=\"14.4\" fill=\"#009af9\" fill-rule=\"evenodd\" fill-opacity=\"1\" stroke=\"#000000\" stroke-opacity=\"1\" stroke-width=\"3.2\"/>\n",
       "<circle clip-path=\"url(#clip062)\" cx=\"277.21\" cy=\"1435.49\" r=\"14.4\" fill=\"#009af9\" fill-rule=\"evenodd\" fill-opacity=\"1\" stroke=\"#000000\" stroke-opacity=\"1\" stroke-width=\"3.2\"/>\n",
       "<circle clip-path=\"url(#clip062)\" cx=\"266.927\" cy=\"1442.37\" r=\"14.4\" fill=\"#009af9\" fill-rule=\"evenodd\" fill-opacity=\"1\" stroke=\"#000000\" stroke-opacity=\"1\" stroke-width=\"3.2\"/>\n",
       "<circle clip-path=\"url(#clip062)\" cx=\"264.071\" cy=\"1444.27\" r=\"14.4\" fill=\"#009af9\" fill-rule=\"evenodd\" fill-opacity=\"1\" stroke=\"#000000\" stroke-opacity=\"1\" stroke-width=\"3.2\"/>\n",
       "<circle clip-path=\"url(#clip062)\" cx=\"267.792\" cy=\"1441.79\" r=\"14.4\" fill=\"#009af9\" fill-rule=\"evenodd\" fill-opacity=\"1\" stroke=\"#000000\" stroke-opacity=\"1\" stroke-width=\"3.2\"/>\n",
       "<circle clip-path=\"url(#clip062)\" cx=\"274.103\" cy=\"1437.57\" r=\"14.4\" fill=\"#009af9\" fill-rule=\"evenodd\" fill-opacity=\"1\" stroke=\"#000000\" stroke-opacity=\"1\" stroke-width=\"3.2\"/>\n",
       "<circle clip-path=\"url(#clip062)\" cx=\"266.529\" cy=\"1442.63\" r=\"14.4\" fill=\"#009af9\" fill-rule=\"evenodd\" fill-opacity=\"1\" stroke=\"#000000\" stroke-opacity=\"1\" stroke-width=\"3.2\"/>\n",
       "<path clip-path=\"url(#clip060)\" d=\"M272.744 198.898 L540.348 198.898 L540.348 95.2176 L272.744 95.2176  Z\" fill=\"#ffffff\" fill-rule=\"evenodd\" fill-opacity=\"1\"/>\n",
       "<polyline clip-path=\"url(#clip060)\" style=\"stroke:#000000; stroke-linecap:round; stroke-linejoin:round; stroke-width:4; stroke-opacity:1; fill:none\" points=\"272.744,198.898 540.348,198.898 540.348,95.2176 272.744,95.2176 272.744,198.898 \"/>\n",
       "<circle clip-path=\"url(#clip060)\" cx=\"368.377\" cy=\"147.058\" r=\"20.48\" fill=\"#009af9\" fill-rule=\"evenodd\" fill-opacity=\"1\" stroke=\"#000000\" stroke-opacity=\"1\" stroke-width=\"4.55111\"/>\n",
       "<path clip-path=\"url(#clip060)\" d=\"M477.852 166.745 Q476.046 171.375 474.333 172.787 Q472.62 174.199 469.75 174.199 L466.347 174.199 L466.347 170.634 L468.847 170.634 Q470.607 170.634 471.579 169.8 Q472.551 168.967 473.731 165.865 L474.495 163.921 L464.009 138.412 L468.523 138.412 L476.625 158.689 L484.727 138.412 L489.241 138.412 L477.852 166.745 Z\" fill=\"#000000\" fill-rule=\"nonzero\" fill-opacity=\"1\" /><path clip-path=\"url(#clip060)\" d=\"M496.532 160.402 L504.171 160.402 L504.171 134.037 L495.861 135.703 L495.861 131.444 L504.125 129.778 L508.801 129.778 L508.801 160.402 L516.44 160.402 L516.44 164.338 L496.532 164.338 L496.532 160.402 Z\" fill=\"#000000\" fill-rule=\"nonzero\" fill-opacity=\"1\" /></svg>\n"
      ]
     },
     "execution_count": 102,
     "metadata": {},
     "output_type": "execute_result"
    }
   ],
   "source": [
    "scatter(error_old, error_qr)"
   ]
  },
  {
   "cell_type": "markdown",
   "id": "04d4d51e-bd26-4c8e-b5df-be7cec500778",
   "metadata": {},
   "source": [
    "**Excersize 6**"
   ]
  },
  {
   "cell_type": "code",
   "execution_count": 24,
   "id": "ed578a26-866f-438a-ae1f-cbaa1582d9d8",
   "metadata": {},
   "outputs": [
    {
     "name": "stdout",
     "output_type": "stream",
     "text": [
      "2.2360679774997894\n",
      "0.4578431614745893\n"
     ]
    }
   ],
   "source": [
    "matrix = rand(5, 5)\n",
    "q, r = qr(matrix)\n",
    "println(norm(q, 2))\n",
    "println(norm(q, 5) / sqrt(5)) "
   ]
  },
  {
   "cell_type": "code",
   "execution_count": 26,
   "id": "46a222e4-0c4e-4983-a256-f425ac5c0888",
   "metadata": {},
   "outputs": [
    {
     "name": "stdout",
     "output_type": "stream",
     "text": [
      "1.3718703440643238 3.067595345643853"
     ]
    }
   ],
   "source": [
    "vector = rand(5, 1)\n",
    "vector_norm = norm(vector, 2)\n",
    "norm_qv = norm(q * vector_norm, 2)\n",
    "\n",
    "print(vector_norm, \" \",norm_qv)"
   ]
  },
  {
   "cell_type": "markdown",
   "id": "eb71317b-eb20-4fe8-9e21-bb7c6fc6689d",
   "metadata": {},
   "source": [
    "**Excersize 7**"
   ]
  },
  {
   "cell_type": "code",
   "execution_count": 40,
   "id": "dfd0328c-32e1-4938-b951-56f90a0b3fff",
   "metadata": {},
   "outputs": [
    {
     "data": {
      "text/plain": [
       "4×4 Matrix{Float64}:\n",
       " -1.40369  -1.51655  -1.27187   -1.34769\n",
       "  0.0      -1.22932  -0.740743  -0.265389\n",
       "  0.0       0.0      -0.664961   0.131598\n",
       "  0.0       0.0       0.0        1.04438"
      ]
     },
     "execution_count": 40,
     "metadata": {},
     "output_type": "execute_result"
    }
   ],
   "source": [
    "matrix = rand(10, 4)\n",
    "_, r = qr(matrix)\n",
    "r"
   ]
  },
  {
   "cell_type": "code",
   "execution_count": 41,
   "id": "6eec0d43-4c6a-4528-9e57-e4a7f29152fe",
   "metadata": {},
   "outputs": [
    {
     "data": {
      "text/plain": [
       "4×4 Matrix{Float64}:\n",
       "  3.52676   -0.787345  -1.53587    1.02819\n",
       " -0.353907   1.66909   -0.760244  -0.281372\n",
       " -5.25408   -1.59004    3.82973    1.81194\n",
       "  2.23313    0.309501  -0.147622  -1.07831"
      ]
     },
     "metadata": {},
     "output_type": "display_data"
    },
    {
     "data": {
      "text/plain": [
       "4×10 Matrix{Float64}:\n",
       "  0.04122     -0.202082  -0.577887   0.767407  …   0.351025     0.418421\n",
       " -0.100338     0.838306  -0.333235   0.363381     -0.00933089  -0.714731\n",
       " -0.00282366  -0.692051   0.51865   -0.443752     -0.451224     0.909075\n",
       "  0.20295      0.037883   0.57719   -0.498083      0.377566    -0.12981"
      ]
     },
     "metadata": {},
     "output_type": "display_data"
    }
   ],
   "source": [
    "inv_mat = matrix[1:4, :]\n",
    "\n",
    "full_inv = inv(inv_mat)\n",
    "psu_inv  = pinv(matrix)\n",
    "\n",
    "display(full_inv)\n",
    "display(psu_inv)"
   ]
  }
 ],
 "metadata": {
  "kernelspec": {
   "display_name": "Julia 1.9.2",
   "language": "julia",
   "name": "julia-1.9"
  },
  "language_info": {
   "file_extension": ".jl",
   "mimetype": "application/julia",
   "name": "julia",
   "version": "1.9.2"
  }
 },
 "nbformat": 4,
 "nbformat_minor": 5
}
