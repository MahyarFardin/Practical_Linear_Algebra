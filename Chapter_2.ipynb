{
 "cells": [
  {
   "cell_type": "markdown",
   "id": "6b37283d-0b9c-4c00-b62d-c1808cfedbff",
   "metadata": {},
   "source": [
    "$$\n",
    "{\\huge Chapter2} \\\\\n",
    "Vectors - part I\n",
    "$$"
   ]
  },
  {
   "cell_type": "markdown",
   "id": "b57ebe89-f774-426b-a9ea-d0e224a1ea64",
   "metadata": {},
   "source": [
    "**Excersize 2-1**"
   ]
  },
  {
   "cell_type": "code",
   "execution_count": null,
   "id": "5ba39dce-316e-45c4-baba-bead74a4e0bb",
   "metadata": {},
   "outputs": [],
   "source": []
  },
  {
   "cell_type": "markdown",
   "id": "6e6e7a79-fb90-478a-b9fd-6fa90be89215",
   "metadata": {},
   "source": [
    "**Excersize 2-2**"
   ]
  },
  {
   "cell_type": "code",
   "execution_count": null,
   "id": "0bbc4dee-b325-4c6a-8569-f7d2b14992b2",
   "metadata": {},
   "outputs": [],
   "source": []
  },
  {
   "cell_type": "markdown",
   "id": "b27b78fb-03cd-4bb6-bb81-6ace2abecd88",
   "metadata": {},
   "source": [
    "**Excersize 2-3**"
   ]
  },
  {
   "cell_type": "code",
   "execution_count": null,
   "id": "e82cd65f-c156-4ec8-b8f2-d6ab287fca18",
   "metadata": {},
   "outputs": [],
   "source": []
  },
  {
   "cell_type": "markdown",
   "id": "c131ca43-e3d3-4e2c-b78c-32acfd96b0c9",
   "metadata": {},
   "source": [
    "**Excersize 2-4**"
   ]
  },
  {
   "cell_type": "code",
   "execution_count": null,
   "id": "60671483-cddd-4fbc-8219-933af74cf184",
   "metadata": {},
   "outputs": [],
   "source": []
  },
  {
   "cell_type": "markdown",
   "id": "19513094-905e-4e07-8a77-b9dbba3c81ce",
   "metadata": {},
   "source": [
    "**Excersize 2-5**"
   ]
  },
  {
   "cell_type": "code",
   "execution_count": null,
   "id": "57337429-2fe1-47ee-8494-fe611e5ddeff",
   "metadata": {},
   "outputs": [],
   "source": []
  },
  {
   "cell_type": "markdown",
   "id": "b72ef0f2-e904-4f7e-ac83-ab0d31f11067",
   "metadata": {},
   "source": [
    "**Excersize 2-6**"
   ]
  },
  {
   "cell_type": "code",
   "execution_count": null,
   "id": "39dca589-471f-4f1f-bfdb-2556f72ce876",
   "metadata": {},
   "outputs": [],
   "source": []
  },
  {
   "cell_type": "markdown",
   "id": "2007b48d-15c0-48d0-b591-00e52f171518",
   "metadata": {},
   "source": [
    "**Excersize 2-7**"
   ]
  },
  {
   "cell_type": "code",
   "execution_count": null,
   "id": "3b96ba0a-79ff-437e-bca4-4bfcad033a90",
   "metadata": {},
   "outputs": [],
   "source": []
  },
  {
   "cell_type": "markdown",
   "id": "2414124b-b23b-46aa-8568-93991b6abb59",
   "metadata": {},
   "source": [
    "**Excersize 2-8**"
   ]
  },
  {
   "cell_type": "code",
   "execution_count": null,
   "id": "21db82a8-6e62-4f78-bf5c-8c3d77db8103",
   "metadata": {},
   "outputs": [],
   "source": []
  }
 ],
 "metadata": {
  "kernelspec": {
   "display_name": "Julia 1.9.2",
   "language": "julia",
   "name": "julia-1.9"
  },
  "language_info": {
   "file_extension": ".jl",
   "mimetype": "application/julia",
   "name": "julia",
   "version": "1.9.2"
  }
 },
 "nbformat": 4,
 "nbformat_minor": 5
}
