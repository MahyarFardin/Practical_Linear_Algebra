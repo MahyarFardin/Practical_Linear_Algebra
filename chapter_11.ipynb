{
 "cells": [
  {
   "cell_type": "markdown",
   "id": "418619cd",
   "metadata": {},
   "source": [
    "$$\n",
    "{\\huge Chapter11}\\\\\n",
    " \\text{General Linear Models and Least Squares}\n",
    "$$"
   ]
  },
  {
   "cell_type": "code",
   "execution_count": null,
   "id": "b0179a54",
   "metadata": {},
   "outputs": [],
   "source": []
  }
 ],
 "metadata": {
  "kernelspec": {
   "display_name": "Julia 1.9.2",
   "language": "julia",
   "name": "julia-1.9"
  },
  "language_info": {
   "file_extension": ".jl",
   "mimetype": "application/julia",
   "name": "julia",
   "version": "1.9.2"
  }
 },
 "nbformat": 4,
 "nbformat_minor": 5
}
