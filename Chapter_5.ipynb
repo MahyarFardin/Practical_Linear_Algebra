{
 "cells": [
  {
   "cell_type": "markdown",
   "id": "49862b74-3a4e-4517-870e-1774bc8265dd",
   "metadata": {},
   "source": [
    "$$\n",
    "{\\huge Chapter5} \\\\\n",
    " Matrices, Part 1\n",
    "$$"
   ]
  },
  {
   "cell_type": "code",
   "execution_count": 48,
   "id": "4362ad28-961a-41ae-b0ef-cc45c7da8930",
   "metadata": {},
   "outputs": [
    {
     "name": "stderr",
     "output_type": "stream",
     "text": [
      "WARNING: using LinearAlgebra.rotate! in module Main conflicts with an existing identifier.\n"
     ]
    }
   ],
   "source": [
    "using Plots\n",
    "using LinearAlgebra"
   ]
  },
  {
   "cell_type": "markdown",
   "id": "49448942-7eba-4b1c-8eb8-7463e4d681c7",
   "metadata": {},
   "source": [
    "**Exercise 5-4**"
   ]
  },
  {
   "cell_type": "code",
   "execution_count": 31,
   "id": "9524bb9d-6c81-4261-bd75-bba7a14480d4",
   "metadata": {},
   "outputs": [
    {
     "data": {
      "text/plain": [
       "3×3 Matrix{Float64}:\n",
       " 10.0  10.0  10.0\n",
       " 10.0  10.0  10.0\n",
       " 10.0  10.0  10.0"
      ]
     },
     "execution_count": 31,
     "metadata": {},
     "output_type": "execute_result"
    }
   ],
   "source": [
    "a = [1 2 3; 4 5 6; 7 8 9]\n",
    "b = [9 8 7; 6 5 4; 3 2 1]\n",
    "c = zeros(size(a)[1], size(b)[2])\n",
    "# traversing rows\n",
    "for i in 1:size(a)[1]\n",
    "    # traversing columns\n",
    "    for j in 1:size(a)[2]\n",
    "        c[i, j]=a[i, j]+b[i, j]\n",
    "    end\n",
    "end\n",
    "# this process could be done easier with the fallowing code\n",
    "# counter = 1\n",
    "# for (i, j) in zip(a, b)\n",
    "#     c[counter] = i + j\n",
    "# end\n",
    "c"
   ]
  },
  {
   "cell_type": "markdown",
   "id": "01877bc0-9297-48d5-a350-e442e2ef89f5",
   "metadata": {},
   "source": [
    "**Exercise 5-5**"
   ]
  },
  {
   "cell_type": "code",
   "execution_count": 40,
   "id": "874477fa-c793-4b29-8215-d4e407468357",
   "metadata": {},
   "outputs": [
    {
     "name": "stdout",
     "output_type": "stream",
     "text": [
      "A [6 1 9 4; 8 6 3 7; 4 10 10 5]\n",
      "B [6 1 9 4; 8 6 3 7; 4 10 10 5]\n",
      "λ [6 1 9 4; 8 6 3 7; 4 10 10 5]\n",
      "[26 8 26 16; 30 14 20 22; 18 28 28 28]\n",
      "[26 8 26 16; 30 14 20 22; 18 28 28 28]\n",
      "[26 8 26 16; 30 14 20 22; 18 28 28 28]\n"
     ]
    }
   ],
   "source": [
    "a = rand(1:10, 3, 4)\n",
    "b = rand(1:10, 3, 4)\n",
    "λ = rand(1:10)\n",
    "println(\"A \", a)\n",
    "println(\"B \", a)\n",
    "println(\"λ \", a)\n",
    "\n",
    "\n",
    "println(λ*(a+b))\n",
    "println(λ*a + λ*b)\n",
    "println(λ*b + λ*a)"
   ]
  },
  {
   "cell_type": "markdown",
   "id": "33d91e0d-03ea-46ee-ab56-ff8444255d54",
   "metadata": {},
   "source": [
    "**Exercise 5-6**"
   ]
  },
  {
   "cell_type": "code",
   "execution_count": 57,
   "id": "7aab9784-484d-4e41-b68a-ea3ccb167d20",
   "metadata": {},
   "outputs": [
    {
     "name": "stdout",
     "output_type": "stream",
     "text": [
      "Our product: \n",
      "Int8[75 77 73; 107 92 91; 74 63 71; 119 103 103; 117 102 108; 93 75 90; 70 72 69; 80 79 83; 72 58 65]\n",
      "Ground truth: \n",
      "[75 77 73; 107 92 91; 74 63 71; 119 103 103; 117 102 108; 93 75 90; 70 72 69; 80 79 83; 72 58 65]\n"
     ]
    }
   ],
   "source": [
    "m = rand(2:10)\n",
    "n = rand(2:10)\n",
    "o = rand(2:10)\n",
    "a = rand(1:5, m, n)\n",
    "b = rand(1:5, n, o)\n",
    "c = zeros(Int8, m, o)\n",
    "\n",
    "for (idx_row, row_of_first_matrix) in enumerate(eachrow(a))\n",
    "    for (idx_col, col_of_second_matrix) in enumerate(eachcol(b))\n",
    "        c[idx_row, idx_col] = dot(row_of_first_matrix, col_of_second_matrix)\n",
    "    end\n",
    "end\n",
    "\n",
    "println(\"Our product: \")\n",
    "println(c)\n",
    "println(\"Ground truth: \")\n",
    "println(a*b)"
   ]
  },
  {
   "cell_type": "code",
   "execution_count": null,
   "id": "62723cda-79d0-4e23-b9ec-0d56f5c11467",
   "metadata": {},
   "outputs": [],
   "source": []
  }
 ],
 "metadata": {
  "kernelspec": {
   "display_name": "Julia 1.9.2",
   "language": "julia",
   "name": "julia-1.9"
  },
  "language_info": {
   "file_extension": ".jl",
   "mimetype": "application/julia",
   "name": "julia",
   "version": "1.9.2"
  }
 },
 "nbformat": 4,
 "nbformat_minor": 5
}
