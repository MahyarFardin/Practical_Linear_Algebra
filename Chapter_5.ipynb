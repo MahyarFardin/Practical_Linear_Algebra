{
 "cells": [
  {
   "cell_type": "markdown",
   "id": "49862b74-3a4e-4517-870e-1774bc8265dd",
   "metadata": {},
   "source": [
    "$$\n",
    "{\\huge Chapter5} \\\\\n",
    " Matrices, Part 1\n",
    "$$"
   ]
  },
  {
   "cell_type": "code",
   "execution_count": 48,
   "id": "4362ad28-961a-41ae-b0ef-cc45c7da8930",
   "metadata": {},
   "outputs": [
    {
     "name": "stderr",
     "output_type": "stream",
     "text": [
      "WARNING: using LinearAlgebra.rotate! in module Main conflicts with an existing identifier.\n"
     ]
    }
   ],
   "source": [
    "using Plots\n",
    "using LinearAlgebra"
   ]
  },
  {
   "cell_type": "markdown",
   "id": "33d91e0d-03ea-46ee-ab56-ff8444255d54",
   "metadata": {},
   "source": [
    "**Exercise 5-9**"
   ]
  },
  {
   "cell_type": "code",
   "execution_count": 1,
   "id": "62723cda-79d0-4e23-b9ec-0d56f5c11467",
   "metadata": {},
   "outputs": [
    {
     "name": "stdout",
     "output_type": "stream",
     "text": [
      "The entered matrix is: Nonsymmetric\n",
      "The result is: Symmetric"
     ]
    }
   ],
   "source": [
    "function isSymmetric(a)\n",
    " b=transpose(Matrix(a))\n",
    " if a==b\n",
    "     return(\"Symmetric\")\n",
    " else \n",
    "     return(\"Nonsymmetric\")\n",
    " end\n",
    "end\n",
    "c=rand(Int8,(2,2))\n",
    "ctc=((c + transpose(Matrix(c)))/2)\n",
    "#display(c)\n",
    "#print(\"The transposed matrix:\")\n",
    "#display(ctc)\n",
    "println(\"The entered matrix is: \",isSymmetric(c))\n",
    "print(\"The result is: \",isSymmetric(ctc))"
   ]
  }
 ],
 "metadata": {
  "kernelspec": {
   "display_name": "Julia 1.9.2",
   "language": "julia",
   "name": "julia-1.9"
  },
  "language_info": {
   "file_extension": ".jl",
   "mimetype": "application/julia",
   "name": "julia",
   "version": "1.9.2"
  }
 },
 "nbformat": 4,
 "nbformat_minor": 5
}
