{
 "cells": [
  {
   "cell_type": "markdown",
   "id": "b4d93cb5-9528-45cb-a6a0-6672368f8007",
   "metadata": {},
   "source": [
    "$$\n",
    "{\\huge Chapter8} \\\\\n",
    " Matrix inverse\n",
    "$$"
   ]
  },
  {
   "cell_type": "code",
   "execution_count": 5,
   "id": "6dcd761f-b85f-4998-a8a9-83f54b4531bc",
   "metadata": {},
   "outputs": [],
   "source": [
    "using LinearAlgebra"
   ]
  },
  {
   "cell_type": "markdown",
   "id": "2bea4228-b047-428a-b6cd-cc48f6c5bb45",
   "metadata": {},
   "source": [
    "# Exercise 8-1"
   ]
  },
  {
   "cell_type": "code",
   "execution_count": null,
   "id": "c8c8c77c-fae1-4687-86aa-a501d79c0034",
   "metadata": {},
   "outputs": [],
   "source": []
  },
  {
   "cell_type": "markdown",
   "id": "a703a388-3344-4194-acd0-20546d315a0d",
   "metadata": {
    "tags": []
   },
   "source": [
    "# Exercise 8-2"
   ]
  },
  {
   "cell_type": "code",
   "execution_count": null,
   "id": "77bcd349-f02a-473c-a30b-4c5680fb6ee1",
   "metadata": {},
   "outputs": [],
   "source": []
  },
  {
   "cell_type": "markdown",
   "id": "dfdeeca0-e2dc-4d1b-b9b8-48c980ae6615",
   "metadata": {
    "tags": []
   },
   "source": [
    "# Exercise 8-3"
   ]
  },
  {
   "cell_type": "code",
   "execution_count": null,
   "id": "e437c0cf-78f0-4f33-9ecd-f79024c1c92c",
   "metadata": {},
   "outputs": [],
   "source": []
  },
  {
   "cell_type": "markdown",
   "id": "a3a1d377-123b-4e95-a767-7987d713977d",
   "metadata": {},
   "source": [
    "# Exercise 8-4"
   ]
  },
  {
   "cell_type": "code",
   "execution_count": null,
   "id": "0a98367c-7abb-4cf2-8cd9-1845ee9c3e5a",
   "metadata": {},
   "outputs": [],
   "source": []
  },
  {
   "cell_type": "markdown",
   "id": "74735751-1cce-40ef-a57e-2839379dde9d",
   "metadata": {},
   "source": [
    "# Exercise 8-5"
   ]
  },
  {
   "cell_type": "code",
   "execution_count": 67,
   "id": "34181386-92ba-4e94-908b-1b21b0748b3e",
   "metadata": {},
   "outputs": [
    {
     "data": {
      "text/plain": [
       "2×2 Matrix{Float16}:\n",
       " 0.2471  0.1455\n",
       " 0.0659  0.5176"
      ]
     },
     "metadata": {},
     "output_type": "display_data"
    },
    {
     "data": {
      "text/plain": [
       "2×2 Matrix{Float16}:\n",
       "  4.375  -1.2295\n",
       " -0.557   2.088"
      ]
     },
     "metadata": {},
     "output_type": "display_data"
    },
    {
     "data": {
      "text/plain": [
       "2×2 Matrix{Float16}:\n",
       "  4.37    -1.23\n",
       " -0.5566   2.088"
      ]
     },
     "metadata": {},
     "output_type": "display_data"
    }
   ],
   "source": [
    "a = rand(Float16, 2, 2)\n",
    "\n",
    "identity = Matrix{Float16}(I, 2, 2)\n",
    "\n",
    "aT = inv(a)\n",
    "\n",
    "pesudo_inverse_a = pinv(a)\n",
    "\n",
    "# for full inverse\n",
    "display(a)\n",
    "display(aT)\n",
    "display(pesudo_inverse_a)"
   ]
  },
  {
   "cell_type": "code",
   "execution_count": 69,
   "id": "15d50f60-b41a-4d9a-86c7-accebcc43a2a",
   "metadata": {},
   "outputs": [
    {
     "data": {
      "text/plain": [
       "2×4 Matrix{Float16}:\n",
       "  1.163   0.1599   -0.3376  -0.01532\n",
       " -0.2742  0.02576   1.146    0.1449"
      ]
     },
     "metadata": {},
     "output_type": "display_data"
    },
    {
     "data": {
      "text/plain": [
       "2×4 Matrix{Float16}:\n",
       "  1.162   0.1599   -0.337  -0.0152\n",
       " -0.2734  0.02588   1.146   0.1448"
      ]
     },
     "metadata": {},
     "output_type": "display_data"
    }
   ],
   "source": [
    "tall = rand(Float16, 4, 2)\n",
    "right_inverse = inv(transpose(tall) * tall) * transpose(tall) * I\n",
    "display(right_inverse)\n",
    "\n",
    "pesudo_inverse_tall = pinv(tall)\n",
    "display(pesudo_inverse_tall)"
   ]
  },
  {
   "cell_type": "code",
   "execution_count": 72,
   "id": "eac9cc31-5028-492a-83eb-bd6b5e71dc01",
   "metadata": {},
   "outputs": [
    {
     "data": {
      "text/plain": [
       "4×2 Matrix{Float16}:\n",
       " -1.2705   1.588\n",
       "  1.319   -0.92\n",
       "  0.8965  -0.455\n",
       " -0.592    1.154"
      ]
     },
     "metadata": {},
     "output_type": "display_data"
    },
    {
     "data": {
      "text/plain": [
       "4×2 Matrix{Float16}:\n",
       " -1.269    1.585\n",
       "  1.315   -0.9185\n",
       "  0.8936  -0.455\n",
       " -0.5913   1.15"
      ]
     },
     "metadata": {},
     "output_type": "display_data"
    }
   ],
   "source": [
    "wide = rand(Float16, 2, 4)\n",
    "left_inverse = I * transpose(wide) * inv(wide * transpose(wide))\n",
    "display(left_inverse)\n",
    "\n",
    "pesudo_inverse_wide = pinv(wide)\n",
    "display(pesudo_inverse_wide)"
   ]
  },
  {
   "cell_type": "markdown",
   "id": "ac0ef580-0992-4dd3-a68e-9749c45d570d",
   "metadata": {},
   "source": [
    "# Exercise 8-6"
   ]
  },
  {
   "cell_type": "code",
   "execution_count": 73,
   "id": "267cbd6e-098e-4bd7-80b0-82f34dd89d88",
   "metadata": {},
   "outputs": [
    {
     "data": {
      "text/plain": [
       "4×4 Matrix{Float16}:\n",
       "  1.876    2.477   -0.972  -2.254\n",
       " -0.0467  -4.03     3.262   1.824\n",
       " -2.35     2.455    4.676  -1.04\n",
       " -0.2832  -0.4968  -2.943   1.37"
      ]
     },
     "metadata": {},
     "output_type": "display_data"
    },
    {
     "data": {
      "text/plain": [
       "4×4 Matrix{Float16}:\n",
       " -1.15   -2.7     2.137    2.254\n",
       " -5.09    3.633   1.235   -0.382\n",
       "  4.082  -2.176   0.0855  -1.097\n",
       "  1.6     0.255  -2.99     1.302"
      ]
     },
     "metadata": {},
     "output_type": "display_data"
    },
    {
     "data": {
      "text/plain": [
       "4×4 Matrix{Float16}:\n",
       "  1.877    2.477   -0.982  -2.252\n",
       " -0.042   -4.03     3.28    1.814\n",
       " -2.354    2.453    4.652  -1.031\n",
       " -0.2842  -0.4995  -2.938   1.371"
      ]
     },
     "metadata": {},
     "output_type": "display_data"
    }
   ],
   "source": [
    "a, b = rand(Float16, 4, 4), rand(Float16, 4, 4)\n",
    "display(inv(a * b))\n",
    "display(inv(a) * inv(b))\n",
    "display(inv(b) * inv(a))"
   ]
  },
  {
   "cell_type": "markdown",
   "id": "facd6cfe-6e8e-42aa-a53c-d7857797c3b2",
   "metadata": {},
   "source": [
    "# Exercise 8-7"
   ]
  },
  {
   "cell_type": "code",
   "execution_count": 74,
   "id": "b6c68d8d-8c7e-4989-b29c-d325398f237a",
   "metadata": {},
   "outputs": [
    {
     "data": {
      "text/plain": [
       "4×4 Matrix{Float16}:\n",
       "  8.62      9.75     -8.78    -0.1826\n",
       "  9.77     20.11    -12.48    -0.418\n",
       " -8.79    -12.49     10.88    -0.6304\n",
       " -0.1786   -0.4111   -0.6353   1.784"
      ]
     },
     "metadata": {},
     "output_type": "display_data"
    },
    {
     "data": {
      "text/plain": [
       "4×4 Matrix{Float16}:\n",
       "   5.156   0.581    1.019   -10.46\n",
       "   0.581   3.621   -0.5186   -3.514\n",
       "   1.019  -0.5186   2.111    -4.7\n",
       " -10.46   -3.514   -4.7      31.33"
      ]
     },
     "metadata": {},
     "output_type": "display_data"
    },
    {
     "data": {
      "text/plain": [
       "4×4 Matrix{Float16}:\n",
       "  8.81     10.02    -9.0    -0.1782\n",
       " 10.02     20.48   -12.8    -0.412\n",
       " -9.0     -12.8     11.14   -0.634\n",
       " -0.1782   -0.412   -0.634   1.782"
      ]
     },
     "metadata": {},
     "output_type": "display_data"
    }
   ],
   "source": [
    "a = rand(Float16, 4, 4)\n",
    "b = transpose(a)\n",
    "\n",
    "display(inv(a * b))"
   ]
  },
  {
   "cell_type": "markdown",
   "id": "7103591d-bf58-47d1-86a4-1f994941750c",
   "metadata": {},
   "source": [
    "# Exercise 8-8"
   ]
  },
  {
   "cell_type": "code",
   "execution_count": null,
   "id": "65cca1e3-7a59-4b1e-98b1-84776ab6d5fa",
   "metadata": {},
   "outputs": [],
   "source": []
  },
  {
   "cell_type": "markdown",
   "id": "598101fc-edfa-4ab2-b6f4-1aab71b3825f",
   "metadata": {},
   "source": [
    "# Exercise 8-9"
   ]
  },
  {
   "cell_type": "code",
   "execution_count": null,
   "id": "23d3f35c-4d1a-4a83-843f-52744f564e7e",
   "metadata": {},
   "outputs": [],
   "source": []
  },
  {
   "cell_type": "markdown",
   "id": "9351a41a-c86f-462b-a0b7-b47a96b88047",
   "metadata": {},
   "source": [
    "# Exercise 8-10"
   ]
  },
  {
   "cell_type": "code",
   "execution_count": null,
   "id": "1c214bc7-c262-4abf-8b2a-8f4963b1f007",
   "metadata": {},
   "outputs": [],
   "source": []
  }
 ],
 "metadata": {
  "kernelspec": {
   "display_name": "Julia 1.9.4",
   "language": "julia",
   "name": "julia-1.9"
  },
  "language_info": {
   "file_extension": ".jl",
   "mimetype": "application/julia",
   "name": "julia",
   "version": "1.9.4"
  }
 },
 "nbformat": 4,
 "nbformat_minor": 5
}
