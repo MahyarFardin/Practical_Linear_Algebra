{
 "cells": [
  {
   "cell_type": "markdown",
   "id": "ccd8c7b8",
   "metadata": {},
   "source": [
    "$$\n",
    "{\\huge Chapter 3} \\\\\n",
    " Vectors - part \\ Ⅱ\n",
    "$$"
   ]
  },
  {
   "cell_type": "code",
   "execution_count": 5,
   "id": "a52dba5e",
   "metadata": {},
   "outputs": [],
   "source": [
    "#import Pkg;\n",
    "#Pkg.add(\"LinearAlgebra\")\n",
    "using LinearAlgebra"
   ]
  },
  {
   "cell_type": "markdown",
   "id": "eefc9a1d",
   "metadata": {},
   "source": [
    "**Exercise 3-1**"
   ]
  },
  {
   "cell_type": "code",
   "execution_count": null,
   "id": "3825f401",
   "metadata": {},
   "outputs": [],
   "source": []
  },
  {
   "cell_type": "markdown",
   "id": "d17e8c05",
   "metadata": {},
   "source": [
    "**Exercise 3-2**"
   ]
  },
  {
   "cell_type": "code",
   "execution_count": null,
   "id": "b5e11c3e",
   "metadata": {},
   "outputs": [],
   "source": []
  },
  {
   "cell_type": "markdown",
   "id": "6fba1d8e",
   "metadata": {},
   "source": [
    "**Exercise 3-3**"
   ]
  },
  {
   "cell_type": "code",
   "execution_count": null,
   "id": "bc625f10",
   "metadata": {},
   "outputs": [],
   "source": []
  }
 ],
 "metadata": {
  "kernelspec": {
   "display_name": "Julia 1.9.2",
   "language": "julia",
   "name": "julia-1.9"
  },
  "language_info": {
   "file_extension": ".jl",
   "mimetype": "application/julia",
   "name": "julia",
   "version": "1.9.2"
  }
 },
 "nbformat": 4,
 "nbformat_minor": 5
}
