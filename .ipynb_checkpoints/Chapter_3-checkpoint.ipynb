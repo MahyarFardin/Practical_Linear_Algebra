{
 "cells": [
  {
   "cell_type": "markdown",
   "id": "72c9ce89",
   "metadata": {},
   "source": [
    "$$\n",
    "{\\huge Chapter 3} \\\\\n",
    " Vectors - part \\ Ⅱ\n",
    "$$"
   ]
  },
  {
   "cell_type": "code",
   "execution_count": 5,
   "id": "4e647c83",
   "metadata": {},
   "outputs": [],
   "source": [
    "#import Pkg;\n",
    "#Pkg.add(\"LinearAlgebra\")\n",
    "using LinearAlgebra"
   ]
  },
  {
   "cell_type": "markdown",
   "id": "f1cbbc46",
   "metadata": {},
   "source": [
    "**Exercise 3-1**"
   ]
  },
  {
   "cell_type": "code",
   "execution_count": 16,
   "id": "65c4ce55",
   "metadata": {},
   "outputs": [
    {
     "name": "stdout",
     "output_type": "stream",
     "text": [
      "[[4, 5, 1], [-8, 0, -8], [-3, -9, -6]]"
     ]
    }
   ],
   "source": [
    "scalers = [1, 2, -3]\n",
    "vectors_list = [[4, 5, 1], [-4, 0, -4], [1, 3, 2]]\n",
    "lin_wtd_comb = Vector{Vector{Int}}(undef, length(vectors_list))\n",
    "for i in 1:length(vectors_list)\n",
    "    lin_wtd_comb[i] = scalers[i] .* vectors_list[i]\n",
    "end\n",
    "print(lin_wtd_comb)"
   ]
  },
  {
   "cell_type": "markdown",
   "id": "ba7a766b",
   "metadata": {},
   "source": [
    "**Exercise 3-2**"
   ]
  },
  {
   "cell_type": "code",
   "execution_count": null,
   "id": "e60020fc",
   "metadata": {},
   "outputs": [],
   "source": []
  },
  {
   "cell_type": "markdown",
   "id": "8537658e",
   "metadata": {},
   "source": [
    "**Exercise 3-3**"
   ]
  },
  {
   "cell_type": "code",
   "execution_count": null,
   "id": "88333898",
   "metadata": {},
   "outputs": [],
   "source": []
  }
 ],
 "metadata": {
  "kernelspec": {
   "display_name": "Julia 1.9.2",
   "language": "julia",
   "name": "julia-1.9"
  },
  "language_info": {
   "file_extension": ".jl",
   "mimetype": "application/julia",
   "name": "julia",
   "version": "1.9.2"
  }
 },
 "nbformat": 4,
 "nbformat_minor": 5
}
