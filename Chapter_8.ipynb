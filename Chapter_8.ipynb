{
 "cells": [
  {
   "cell_type": "markdown",
   "id": "cb9a22f4",
   "metadata": {},
   "source": [
    "$$\n",
    "{\\huge Chapter8} \\\\\n",
    " Matrix Inverse\n",
    "$$"
   ]
  },
  {
   "cell_type": "markdown",
   "id": "81421da3",
   "metadata": {},
   "source": [
    "**Exercise 8-1**"
   ]
  },
  {
   "cell_type": "code",
   "execution_count": null,
   "id": "3f97a981",
   "metadata": {},
   "outputs": [],
   "source": []
  },
  {
   "cell_type": "markdown",
   "id": "09a7cb98",
   "metadata": {},
   "source": [
    "**Exercise 8-2**"
   ]
  },
  {
   "cell_type": "code",
   "execution_count": null,
   "id": "118e7b15",
   "metadata": {},
   "outputs": [],
   "source": []
  },
  {
   "cell_type": "markdown",
   "id": "eaffac93",
   "metadata": {},
   "source": [
    "**Exercise 8-3**"
   ]
  },
  {
   "cell_type": "code",
   "execution_count": null,
   "id": "c18a1fd0",
   "metadata": {},
   "outputs": [],
   "source": []
  },
  {
   "cell_type": "markdown",
   "id": "47ed2b7b",
   "metadata": {},
   "source": [
    "**Exercise 8-4**"
   ]
  },
  {
   "cell_type": "code",
   "execution_count": null,
   "id": "39184110",
   "metadata": {},
   "outputs": [],
   "source": []
  },
  {
   "cell_type": "markdown",
   "id": "28332ac4",
   "metadata": {},
   "source": [
    "**Exercise 8-5**"
   ]
  },
  {
   "cell_type": "code",
   "execution_count": null,
   "id": "f336a7f1",
   "metadata": {},
   "outputs": [],
   "source": []
  },
  {
   "cell_type": "markdown",
   "id": "18797708",
   "metadata": {},
   "source": [
    "**Exercise 8-6**"
   ]
  },
  {
   "cell_type": "code",
   "execution_count": null,
   "id": "c8559c43",
   "metadata": {},
   "outputs": [],
   "source": []
  },
  {
   "cell_type": "markdown",
   "id": "6df9257e",
   "metadata": {},
   "source": [
    "**Exercise 8-7**"
   ]
  },
  {
   "cell_type": "code",
   "execution_count": null,
   "id": "6ae96177",
   "metadata": {},
   "outputs": [],
   "source": []
  },
  {
   "cell_type": "markdown",
   "id": "89cfd035",
   "metadata": {},
   "source": [
    "**Exercise 8-8**"
   ]
  },
  {
   "cell_type": "code",
   "execution_count": null,
   "id": "fce90c7e",
   "metadata": {},
   "outputs": [],
   "source": []
  },
  {
   "cell_type": "markdown",
   "id": "8f6ff7a7",
   "metadata": {},
   "source": [
    "**Exercise 8-9**"
   ]
  },
  {
   "cell_type": "code",
   "execution_count": null,
   "id": "bbe2b41b",
   "metadata": {},
   "outputs": [],
   "source": []
  },
  {
   "cell_type": "markdown",
   "id": "870bc0dd",
   "metadata": {},
   "source": [
    "**Exercise 8-10**"
   ]
  },
  {
   "cell_type": "code",
   "execution_count": null,
   "id": "80d439c9",
   "metadata": {},
   "outputs": [],
   "source": []
  }
 ],
 "metadata": {
  "kernelspec": {
   "display_name": "Python 3 (ipykernel)",
   "language": "python",
   "name": "python3"
  },
  "language_info": {
   "codemirror_mode": {
    "name": "ipython",
    "version": 3
   },
   "file_extension": ".py",
   "mimetype": "text/x-python",
   "name": "python",
   "nbconvert_exporter": "python",
   "pygments_lexer": "ipython3",
   "version": "3.9.13"
  }
 },
 "nbformat": 4,
 "nbformat_minor": 5
}
