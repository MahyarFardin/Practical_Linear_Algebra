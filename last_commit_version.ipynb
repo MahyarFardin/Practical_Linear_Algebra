   "execution_count": 2,
   "execution_count": 3,
   "id": "3fe77801",
   "metadata": {},
   "outputs": [
    {
     "data": {
      "text/plain": [
       "2×2 Matrix{Float16}:\n",
       " 0.847    0.67\n",
       " 0.00293  0.2861"
      ]
     },
     "metadata": {},
     "output_type": "display_data"
    },
    {
     "data": {
      "text/plain": [
       "2×2 Matrix{Float16}:\n",
       "  1.189     -2.785\n",
       " -0.012184   3.521"
      ]
     },
     "metadata": {},
     "output_type": "display_data"
    },
    {
     "data": {
      "text/plain": [
       "2×2 Matrix{Float16}:\n",
       "  1.189    -2.785\n",
       " -0.01172   3.523"
      ]
     },
     "metadata": {},
     "output_type": "display_data"
    }
   ],
   "source": [
    "a = rand(Float16, 2, 2)\n",
    "\n",
    "identity = Matrix{Float16}(I, 2, 2)\n",
    "\n",
    "aT = inv(a)\n",
    "\n",
    "pesudo_inverse_a = pinv(a)\n",
    "\n",
    "# for full inverse\n",
    "display(a)\n",
    "display(aT)\n",
    "display(pesudo_inverse_a)"
   ]
  },
  {
   "cell_type": "code",
   "execution_count": 4,
   "id": "daa68e10",
   "metadata": {},
   "outputs": [
    {
     "data": {
      "text/plain": [
       "2×4 Matrix{Float16}:\n",
       " -0.1348  -0.1919  0.04346   1.202\n",
       "  0.793    0.944   0.3726   -1.015"
      ]
     },
     "metadata": {},
     "output_type": "display_data"
    },
    {
     "data": {
      "text/plain": [
       "2×4 Matrix{Float16}:\n",
       " -0.1353  -0.1926  0.0432   1.201\n",
       "  0.794    0.945   0.373   -1.014"
      ]
     },
     "metadata": {},
     "output_type": "display_data"
    }
   ],
   "source": [
    "tall = rand(Float16, 4, 2)\n",
    "right_inverse = inv(transpose(tall) * tall) * transpose(tall) * I\n",
    "display(right_inverse)\n",
    "\n",
    "pesudo_inverse_tall = pinv(tall)\n",
    "display(pesudo_inverse_tall)"
   ]
  },
  {
   "cell_type": "code",
   "execution_count": 5,
   "id": "c814c96f",
   "metadata": {},
   "outputs": [
    {
     "data": {
      "text/plain": [
       "4×2 Matrix{Float16}:\n",
       "  1.123   -0.872\n",
       "  0.1777   0.373\n",
       "  1.012   -0.921\n",
       " -0.6934   1.249"
      ]
     },
     "metadata": {},
     "output_type": "display_data"
    },
    {
     "data": {
      "text/plain": [
       "4×2 Matrix{Float16}:\n",
       "  1.125   -0.871\n",
       "  0.1796   0.3723\n",
       "  1.013   -0.9194\n",
       " -0.6914   1.248"
      ]
     },
     "metadata": {},
     "output_type": "display_data"
    }
   ],
   "source": [
    "wide = rand(Float16, 2, 4)\n",
    "left_inverse = I * transpose(wide) * inv(wide * transpose(wide))\n",
    "display(left_inverse)\n",
    "\n",
    "pesudo_inverse_wide = pinv(wide)\n",
    "display(pesudo_inverse_wide)"
   ]
   "execution_count": 6,
   "id": "8629ab35-e05f-4b97-ae9d-2cd72b9a38c0",
   "metadata": {},
   "outputs": [
    {
     "data": {
      "text/plain": [
       "4×4 Matrix{Float16}:\n",
       "  0.4934   0.5703    2.078  -2.553\n",
       "  3.6      1.246   -16.33    9.484\n",
       "  5.074   -3.334    -6.484   2.848\n",
       " -6.92     1.031    17.02   -7.727"
      ]
     },
     "metadata": {},
     "output_type": "display_data"
    },
    {
     "data": {
      "text/plain": [
       "4×4 Matrix{Float16}:\n",
       "  -1.614  -2.379    1.707    4.15\n",
       " -14.06   -8.12    15.5     11.336\n",
       "  -9.6    -8.58    13.38     8.0\n",
       "  17.4    12.9    -20.16   -16.25"
      ]
     },
     "metadata": {},
     "output_type": "display_data"
    },
    {
     "data": {
      "text/plain": [
       "4×4 Matrix{Float16}:\n",
       "  0.4924   0.5654    2.096  -2.568\n",
       "  3.6      1.27    -16.4     9.55\n",
       "  5.08    -3.328    -6.555   2.902\n",
       " -6.92     1.012    17.12   -7.812"
      ]
     },
     "metadata": {},
     "output_type": "display_data"
    }
   ],
   "source": [
    "a, b = rand(Float16, 4, 4), rand(Float16, 4, 4)\n",
    "display(inv(a * b))\n",
    "display(inv(a) * inv(b))\n",
    "display(inv(b) * inv(a))"
   ]
   "execution_count": 7,
   "id": "14a92afa-d07a-433b-8a0c-43cf943dcd3d",
   "metadata": {},
   "outputs": [
    {
     "data": {
      "text/plain": [
       "4×4 Matrix{Float16}:\n",
       " 11.57   -6.258  -8.43    4.613\n",
       " -6.19   15.336  -1.836  -8.164\n",
       " -8.46   -1.773  10.86   -1.187\n",
       "  4.586  -8.17   -1.152   5.99"
      ]
     },
     "metadata": {},
     "output_type": "display_data"
    }
   ],
   "source": [
    "a = rand(Float16, 4, 4)\n",
    "b = transpose(a)\n",
    "\n",
    "display(inv(a * b))"
   ]
   "display_name": "Julia 1.9.4",
   "version": "1.9.4"
